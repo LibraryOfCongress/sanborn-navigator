{
 "cells": [
  {
   "cell_type": "code",
   "execution_count": 1,
   "metadata": {},
   "outputs": [],
   "source": [
    "import json"
   ]
  },
  {
   "cell_type": "code",
   "execution_count": 2,
   "metadata": {},
   "outputs": [],
   "source": [
    "with open('sanborn-with-fips.json') as f:\n",
    "    sanborn = json.load(f)"
   ]
  },
  {
   "cell_type": "code",
   "execution_count": 18,
   "metadata": {},
   "outputs": [],
   "source": [
    "def getCities():\n",
    "    cityList = []\n",
    "    for state in sanborn:\n",
    "        stateName = state['state']\n",
    "        for county in state['counties']:\n",
    "            for city in county['cities']:\n",
    "                cityList.append({'state': stateName, 'city': city['city']})\n",
    "    return cityList"
   ]
  },
  {
   "cell_type": "code",
   "execution_count": 23,
   "metadata": {},
   "outputs": [],
   "source": [
    "city_list = getCities()"
   ]
  },
  {
   "cell_type": "code",
   "execution_count": 24,
   "metadata": {},
   "outputs": [
    {
     "data": {
      "text/plain": [
       "8508"
      ]
     },
     "execution_count": 24,
     "metadata": {},
     "output_type": "execute_result"
    }
   ],
   "source": [
    "len(city_list)"
   ]
  },
  {
   "cell_type": "markdown",
   "metadata": {},
   "source": [
    "## Prepare for Geocoding\n",
    "\n",
    "Now, we need to write these cities and states into a csv file in order to use an online batch geocoder."
   ]
  },
  {
   "cell_type": "code",
   "execution_count": 25,
   "metadata": {},
   "outputs": [],
   "source": [
    "import csv"
   ]
  },
  {
   "cell_type": "code",
   "execution_count": 26,
   "metadata": {},
   "outputs": [],
   "source": [
    "with open('city-coordinates.csv', 'w') as csv_file:\n",
    "    fieldnames = ['city', 'state']\n",
    "    writer = csv.DictWriter(csv_file, fieldnames=fieldnames)\n",
    "    \n",
    "    writer.writeheader()\n",
    "    for item in city_list:\n",
    "        writer.writerow(item)"
   ]
  },
  {
   "cell_type": "markdown",
   "metadata": {},
   "source": [
    "The [geocoder I'm using](https://www.geocod.io/) only allows 2,500 free lookups a day, so the next cells show how to limit the number of records that go into a file. I know I have 8,508 records, so I'll have 4 files."
   ]
  },
  {
   "cell_type": "code",
   "execution_count": 27,
   "metadata": {},
   "outputs": [],
   "source": [
    "with open('city-coordinates-1.csv', 'w') as csv_file:\n",
    "    fieldnames = ['city', 'state']\n",
    "    writer = csv.DictWriter(csv_file, fieldnames=fieldnames)\n",
    "    \n",
    "    writer.writeheader()\n",
    "    for n in range(2400):\n",
    "        writer.writerow(city_list[n])"
   ]
  },
  {
   "cell_type": "code",
   "execution_count": 28,
   "metadata": {},
   "outputs": [],
   "source": [
    "with open('city-coordinates-2.csv', 'w') as csv_file:\n",
    "    fieldnames = ['city', 'state']\n",
    "    writer = csv.DictWriter(csv_file, fieldnames=fieldnames)\n",
    "    \n",
    "    writer.writeheader()\n",
    "    for n in range(2400, 4800): #the range function includes the start but not the end parameter - this will include number 2400 but not 4800\n",
    "        writer.writerow(city_list[n])"
   ]
  },
  {
   "cell_type": "code",
   "execution_count": 29,
   "metadata": {},
   "outputs": [],
   "source": [
    "with open('city-coordinates-3.csv', 'w') as csv_file:\n",
    "    fieldnames = ['city', 'state']\n",
    "    writer = csv.DictWriter(csv_file, fieldnames=fieldnames)\n",
    "    \n",
    "    writer.writeheader()\n",
    "    for n in range(4800, 7200):\n",
    "        writer.writerow(city_list[n])"
   ]
  },
  {
   "cell_type": "code",
   "execution_count": 30,
   "metadata": {},
   "outputs": [],
   "source": [
    "with open('city-coordinates-4.csv', 'w') as csv_file:\n",
    "    fieldnames = ['city', 'state']\n",
    "    writer = csv.DictWriter(csv_file, fieldnames=fieldnames)\n",
    "    \n",
    "    writer.writeheader()\n",
    "    for n in range(7200, 8508): #we started counting at 0, so the indices go up to 8507\n",
    "        writer.writerow(city_list[n])"
   ]
  },
  {
   "cell_type": "code",
   "execution_count": null,
   "metadata": {},
   "outputs": [],
   "source": []
  }
 ],
 "metadata": {
  "kernelspec": {
   "display_name": "Python 3",
   "language": "python",
   "name": "python3"
  },
  "language_info": {
   "codemirror_mode": {
    "name": "ipython",
    "version": 3
   },
   "file_extension": ".py",
   "mimetype": "text/x-python",
   "name": "python",
   "nbconvert_exporter": "python",
   "pygments_lexer": "ipython3",
   "version": "3.7.4"
  }
 },
 "nbformat": 4,
 "nbformat_minor": 2
}
