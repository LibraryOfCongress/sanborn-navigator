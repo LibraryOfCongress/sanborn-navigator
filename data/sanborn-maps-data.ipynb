{
 "cells": [
  {
   "cell_type": "code",
   "execution_count": 1,
   "metadata": {},
   "outputs": [],
   "source": [
    "import requests\n",
    "import json"
   ]
  },
  {
   "cell_type": "code",
   "execution_count": 2,
   "metadata": {},
   "outputs": [
    {
     "name": "stdout",
     "output_type": "stream",
     "text": [
      "['City', 'County', 'State']\n"
     ]
    }
   ],
   "source": [
    "# function to return location in an array [city, county, state]\n",
    "def getLocation(name):\n",
    "    nameArr = name.split(\", \")\n",
    "    nameArr[0] = nameArr[0][32:]\n",
    "    nameArr[2] = nameArr[2][:-1]\n",
    "    return nameArr\n",
    "\n",
    "print(getLocation(\"Sanborn Fire Insurance Map From City, County, State.\"))"
   ]
  },
  {
   "cell_type": "code",
   "execution_count": 3,
   "metadata": {},
   "outputs": [
    {
     "name": "stdout",
     "output_type": "stream",
     "text": [
      "['test.jpg']\n"
     ]
    }
   ],
   "source": [
    "# function to get the IIIF urls for the images\n",
    "def getIIIF(image_urls):\n",
    "    iiif_urls = []\n",
    "    start = int(len(image_urls)/2)\n",
    "    for i in range(start, len(image_urls)):\n",
    "        format_url = image_urls[int(len(image_urls)/2)].split(\"#\")\n",
    "        iiif_urls.append(format_url[0])\n",
    "    return iiif_urls\n",
    "\n",
    "print(getIIIF([\"test.jpg23rwe\", \"test.jpg#adfadsf\"]))"
   ]
  },
  {
   "cell_type": "code",
   "execution_count": 19,
   "metadata": {},
   "outputs": [],
   "source": [
    "# function to write the info of one item to a JSON file\n",
    "def writeItem(item, filewriter):\n",
    "    name = item[\"title\"]\n",
    "    all_image_urls = item[\"image_url\"]\n",
    "    thumbnail_urls = all_image_urls[:int(len(all_image_urls)/2)]\n",
    "    iiif_urls = getIIIF(all_image_urls)\n",
    "    item_url = item[\"url\"]\n",
    "    if \"date\" in item:\n",
    "        date = item[\"date\"]\n",
    "    else:\n",
    "        date = \"null\"\n",
    "        print(name)\n",
    "        print(item_url)\n",
    "    \n",
    "    #print(name)\n",
    "    #print(thumbnail_urls)\n",
    "    #print(iiif_urls)\n",
    "    #print(date)\n",
    "    #print(item_url)\n",
    "    \n",
    "    # json.dumps() is used to add the double quotes where expected\n",
    "    filewriter.write('{\"name\": ' + json.dumps(name) + ', \"date\": ' + \n",
    "            json.dumps(date) + ', \"thumbnail_urls\": ' + json.dumps(thumbnail_urls) + \n",
    "            ', \"iiif_urls\": ' + json.dumps(iiif_urls) + ', \"item_url\": ' \n",
    "            + json.dumps(item_url) + '}')"
   ]
  },
  {
   "cell_type": "code",
   "execution_count": 5,
   "metadata": {},
   "outputs": [],
   "source": [
    "# function to put results into buckets\n",
    "# should work for state level separating counties and county level separating cities\n",
    "def separate(parent_items, level):\n",
    "    child_dict = dict()\n",
    "    for item in parent_items:\n",
    "        child = getLocation(item[\"title\"])[level]\n",
    "        if child not in child_dict.keys():\n",
    "            child_dict[child] = []\n",
    "        child_dict[child].append(item)\n",
    "    return child_dict"
   ]
  },
  {
   "cell_type": "code",
   "execution_count": 6,
   "metadata": {},
   "outputs": [],
   "source": [
    "# function for one state - separating and writing\n",
    "def writeState(state_items, state, filewriter):\n",
    "    # check if all are in the correct state\n",
    "    temp = []\n",
    "    for item in state_items:\n",
    "        if getLocation(item[\"title\"])[2]==state:\n",
    "            temp.append(item)\n",
    "    state_items = temp\n",
    "    # separate by county, then by city\n",
    "    by_county = separate(state_items, 1)\n",
    "    for county in by_county.keys():\n",
    "        by_county[county] = separate(by_county[county], 0)\n",
    "    \n",
    "    filewriter.write('{\"state\": '+ json.dumps(state) + ', \"counties\": [')\n",
    "    \n",
    "    ccounty=0\n",
    "    for county in by_county.keys():\n",
    "        ccounty += 1\n",
    "        filewriter.write('{\"county\": ' + json.dumps(county) + ', \"cities\": [')\n",
    "        ccity=0\n",
    "        for city in by_county[county].keys():\n",
    "            ccity += 1\n",
    "            filewriter.write('{\"city\": ' + json.dumps(city) + ', \"items\": [')\n",
    "            citem=0\n",
    "            for item in by_county[county][city]:\n",
    "                citem += 1\n",
    "                writeItem(item, filewriter)\n",
    "                if citem < len(by_county[county][city]):\n",
    "                    filewriter.write(', ')\n",
    "                else:\n",
    "                    filewriter.write(']}')\n",
    "            if ccity < len(by_county[county]):\n",
    "                filewriter.write(', ')\n",
    "            else:\n",
    "                filewriter.write(']}')\n",
    "        if ccounty < len(by_county.keys()):\n",
    "            filewriter.write(', ')\n",
    "        else:\n",
    "            filewriter.write(']}')"
   ]
  },
  {
   "cell_type": "code",
   "execution_count": 130,
   "metadata": {},
   "outputs": [],
   "source": [
    "# 392\n",
    "alabama = requests.get(\"https://www.loc.gov/collections/sanborn-maps/?fo=json&fa=location:alabama&c=400\").json()"
   ]
  },
  {
   "cell_type": "code",
   "execution_count": 131,
   "metadata": {},
   "outputs": [],
   "source": [
    "f = open(\"sanborn-maps-data-all.json\", \"w\")\n",
    "f.write(\"[\")\n",
    "writeState(alabama[\"results\"], \"Alabama\", f)\n",
    "f.write(\", \")\n",
    "f.close()"
   ]
  },
  {
   "cell_type": "code",
   "execution_count": 132,
   "metadata": {},
   "outputs": [],
   "source": [
    "# 26\n",
    "alaska = requests.get(\"https://www.loc.gov/collections/sanborn-maps/?fo=json&fa=location:alaska\").json()\n",
    "\n",
    "f = open(\"sanborn-maps-data-all.json\", \"a\")\n",
    "writeState(alaska[\"results\"], \"Alaska\", f)\n",
    "f.write(\", \")\n",
    "f.close()"
   ]
  },
  {
   "cell_type": "code",
   "execution_count": 133,
   "metadata": {},
   "outputs": [],
   "source": [
    "# 167\n",
    "arizona = requests.get(\"https://www.loc.gov/collections/sanborn-maps/?fo=json&fa=location:arizona&c=200\").json()\n",
    "\n",
    "f = open(\"sanborn-maps-data-all.json\", \"a\")\n",
    "writeState(arizona[\"results\"], \"Arizona\", f)\n",
    "f.write(\", \")\n",
    "f.close()"
   ]
  },
  {
   "cell_type": "code",
   "execution_count": 134,
   "metadata": {},
   "outputs": [],
   "source": [
    "# 573\n",
    "arkansas = requests.get(\"https://www.loc.gov/collections/sanborn-maps/?fo=json&fa=location:arkansas&c=600\").json()\n",
    "\n",
    "f = open(\"sanborn-maps-data-all.json\", \"a\")\n",
    "writeState(arkansas[\"results\"], \"Arkansas\", f)\n",
    "f.write(\", \")\n",
    "f.close()"
   ]
  },
  {
   "cell_type": "code",
   "execution_count": 135,
   "metadata": {},
   "outputs": [],
   "source": [
    "# 716\n",
    "california = requests.get(\"https://www.loc.gov/collections/sanborn-maps/?fo=json&fa=location:california&c=750\").json()\n",
    "\n",
    "f = open(\"sanborn-maps-data-all.json\", \"a\")\n",
    "writeState(california[\"results\"], \"California\", f)\n",
    "f.write(\", \")\n",
    "f.close()"
   ]
  },
  {
   "cell_type": "code",
   "execution_count": 136,
   "metadata": {},
   "outputs": [],
   "source": [
    "# 527\n",
    "colorado = requests.get(\"https://www.loc.gov/collections/sanborn-maps/?fo=json&fa=location:colorado&c=550\").json()\n",
    "\n",
    "f = open(\"sanborn-maps-data-all.json\", \"a\")\n",
    "writeState(colorado[\"results\"], \"Colorado\", f)\n",
    "f.write(\", \")\n",
    "f.close()"
   ]
  },
  {
   "cell_type": "code",
   "execution_count": 8,
   "metadata": {},
   "outputs": [],
   "source": [
    "# 463\n",
    "connecticut = requests.get(\"https://www.loc.gov/collections/sanborn-maps/?fo=json&fa=location:connecticut&c=470\").json()\n",
    "\n",
    "f = open(\"sanborn-maps-data-all.json\", \"a\")\n",
    "writeState(connecticut[\"results\"], \"Connecticut\", f)\n",
    "f.write(\", \")\n",
    "f.close()"
   ]
  },
  {
   "cell_type": "code",
   "execution_count": 9,
   "metadata": {},
   "outputs": [],
   "source": [
    "# 101\n",
    "delaware = requests.get(\"https://www.loc.gov/collections/sanborn-maps/?fo=json&fa=location:delaware&c=120\").json()\n",
    "\n",
    "f = open(\"sanborn-maps-data-all.json\", \"a\")\n",
    "writeState(delaware[\"results\"], \"Delaware\", f)\n",
    "f.write(\", \")\n",
    "f.close()"
   ]
  },
  {
   "cell_type": "code",
   "execution_count": 10,
   "metadata": {},
   "outputs": [],
   "source": [
    "# 428\n",
    "florida = requests.get(\"https://www.loc.gov/collections/sanborn-maps/?fo=json&fa=location:florida&c=450\").json()\n",
    "\n",
    "f = open(\"sanborn-maps-data-all.json\", \"a\")\n",
    "writeState(florida[\"results\"], \"Florida\", f)\n",
    "f.write(\", \")\n",
    "f.close()"
   ]
  },
  {
   "cell_type": "code",
   "execution_count": 20,
   "metadata": {},
   "outputs": [
    {
     "name": "stdout",
     "output_type": "stream",
     "text": [
      "Sanborn Fire Insurance Map from Darien, McIntosh County, Georgia.\n",
      "https://www.loc.gov/item/sanborn01417_009/\n"
     ]
    }
   ],
   "source": [
    "# 592\n",
    "georgia = requests.get(\"https://www.loc.gov/collections/sanborn-maps/?fo=json&fa=location:georgia&c=600\").json()\n",
    "\n",
    "f = open(\"georgia-fix.json\", \"w\") # in a different file because had a missing date, updated writeItem to account for that\n",
    "writeState(georgia[\"results\"], \"Georgia\", f)\n",
    "f.write(\", \")\n",
    "f.close()"
   ]
  },
  {
   "cell_type": "code",
   "execution_count": 22,
   "metadata": {},
   "outputs": [],
   "source": [
    "# 39\n",
    "hawaii = requests.get(\"https://www.loc.gov/collections/sanborn-maps/?fo=json&fa=location:hawaii&c=50\").json()\n",
    "\n",
    "f = open(\"sanborn-maps-data-all.json\", \"a\")\n",
    "writeState(hawaii[\"results\"], \"Hawaii\", f)\n",
    "f.write(\", \")\n",
    "f.close()"
   ]
  },
  {
   "cell_type": "code",
   "execution_count": 23,
   "metadata": {},
   "outputs": [],
   "source": [
    "# 395\n",
    "idaho = requests.get(\"https://www.loc.gov/collections/sanborn-maps/?fo=json&fa=location:idaho&c=400\").json()\n",
    "\n",
    "f = open(\"sanborn-maps-data-all.json\", \"a\")\n",
    "writeState(idaho[\"results\"], \"Idaho\", f)\n",
    "f.write(\", \")\n",
    "f.close()"
   ]
  },
  {
   "cell_type": "code",
   "execution_count": 26,
   "metadata": {},
   "outputs": [
    {
     "name": "stdout",
     "output_type": "stream",
     "text": [
      "https://www.loc.gov/collections/sanborn-maps/?fa=location:illinois&fo=json&sp=2\n",
      "https://www.loc.gov/collections/sanborn-maps/?fa=location:illinois&fo=json&sp=3\n",
      "https://www.loc.gov/collections/sanborn-maps/?fa=location:illinois&fo=json&sp=4\n",
      "https://www.loc.gov/collections/sanborn-maps/?fa=location:illinois&fo=json&sp=5\n",
      "https://www.loc.gov/collections/sanborn-maps/?fa=location:illinois&fo=json&sp=6\n",
      "https://www.loc.gov/collections/sanborn-maps/?fa=location:illinois&fo=json&sp=7\n",
      "https://www.loc.gov/collections/sanborn-maps/?fa=location:illinois&fo=json&sp=8\n",
      "https://www.loc.gov/collections/sanborn-maps/?fa=location:illinois&fo=json&sp=9\n",
      "https://www.loc.gov/collections/sanborn-maps/?fa=location:illinois&fo=json&sp=10\n",
      "https://www.loc.gov/collections/sanborn-maps/?fa=location:illinois&fo=json&sp=11\n",
      "https://www.loc.gov/collections/sanborn-maps/?fa=location:illinois&fo=json&sp=12\n",
      "https://www.loc.gov/collections/sanborn-maps/?fa=location:illinois&fo=json&sp=13\n",
      "https://www.loc.gov/collections/sanborn-maps/?fa=location:illinois&fo=json&sp=14\n",
      "https://www.loc.gov/collections/sanborn-maps/?fa=location:illinois&fo=json&sp=15\n",
      "https://www.loc.gov/collections/sanborn-maps/?fa=location:illinois&fo=json&sp=16\n",
      "https://www.loc.gov/collections/sanborn-maps/?fa=location:illinois&fo=json&sp=17\n",
      "https://www.loc.gov/collections/sanborn-maps/?fa=location:illinois&fo=json&sp=18\n",
      "https://www.loc.gov/collections/sanborn-maps/?fa=location:illinois&fo=json&sp=19\n",
      "https://www.loc.gov/collections/sanborn-maps/?fa=location:illinois&fo=json&sp=20\n",
      "https://www.loc.gov/collections/sanborn-maps/?fa=location:illinois&fo=json&sp=21\n",
      "https://www.loc.gov/collections/sanborn-maps/?fa=location:illinois&fo=json&sp=22\n",
      "https://www.loc.gov/collections/sanborn-maps/?fa=location:illinois&fo=json&sp=23\n",
      "https://www.loc.gov/collections/sanborn-maps/?fa=location:illinois&fo=json&sp=24\n",
      "https://www.loc.gov/collections/sanborn-maps/?fa=location:illinois&fo=json&sp=25\n",
      "https://www.loc.gov/collections/sanborn-maps/?fa=location:illinois&fo=json&sp=26\n",
      "https://www.loc.gov/collections/sanborn-maps/?fa=location:illinois&fo=json&sp=27\n",
      "https://www.loc.gov/collections/sanborn-maps/?fa=location:illinois&fo=json&sp=28\n",
      "https://www.loc.gov/collections/sanborn-maps/?fa=location:illinois&fo=json&sp=29\n",
      "https://www.loc.gov/collections/sanborn-maps/?fa=location:illinois&fo=json&sp=30\n",
      "https://www.loc.gov/collections/sanborn-maps/?fa=location:illinois&fo=json&sp=31\n",
      "https://www.loc.gov/collections/sanborn-maps/?fa=location:illinois&fo=json&sp=32\n",
      "https://www.loc.gov/collections/sanborn-maps/?fa=location:illinois&fo=json&sp=33\n",
      "https://www.loc.gov/collections/sanborn-maps/?fa=location:illinois&fo=json&sp=34\n",
      "https://www.loc.gov/collections/sanborn-maps/?fa=location:illinois&fo=json&sp=35\n",
      "https://www.loc.gov/collections/sanborn-maps/?fa=location:illinois&fo=json&sp=36\n",
      "https://www.loc.gov/collections/sanborn-maps/?fa=location:illinois&fo=json&sp=37\n",
      "https://www.loc.gov/collections/sanborn-maps/?fa=location:illinois&fo=json&sp=38\n",
      "https://www.loc.gov/collections/sanborn-maps/?fa=location:illinois&fo=json&sp=39\n",
      "https://www.loc.gov/collections/sanborn-maps/?fa=location:illinois&fo=json&sp=40\n",
      "https://www.loc.gov/collections/sanborn-maps/?fa=location:illinois&fo=json&sp=41\n",
      "https://www.loc.gov/collections/sanborn-maps/?fa=location:illinois&fo=json&sp=42\n",
      "https://www.loc.gov/collections/sanborn-maps/?fa=location:illinois&fo=json&sp=43\n",
      "https://www.loc.gov/collections/sanborn-maps/?fa=location:illinois&fo=json&sp=44\n",
      "https://www.loc.gov/collections/sanborn-maps/?fa=location:illinois&fo=json&sp=45\n",
      "https://www.loc.gov/collections/sanborn-maps/?fa=location:illinois&fo=json&sp=46\n",
      "https://www.loc.gov/collections/sanborn-maps/?fa=location:illinois&fo=json&sp=47\n",
      "https://www.loc.gov/collections/sanborn-maps/?fa=location:illinois&fo=json&sp=48\n",
      "https://www.loc.gov/collections/sanborn-maps/?fa=location:illinois&fo=json&sp=49\n",
      "https://www.loc.gov/collections/sanborn-maps/?fa=location:illinois&fo=json&sp=50\n",
      "https://www.loc.gov/collections/sanborn-maps/?fa=location:illinois&fo=json&sp=51\n",
      "https://www.loc.gov/collections/sanborn-maps/?fa=location:illinois&fo=json&sp=52\n",
      "https://www.loc.gov/collections/sanborn-maps/?fa=location:illinois&fo=json&sp=53\n",
      "https://www.loc.gov/collections/sanborn-maps/?fa=location:illinois&fo=json&sp=54\n",
      "https://www.loc.gov/collections/sanborn-maps/?fa=location:illinois&fo=json&sp=55\n",
      "https://www.loc.gov/collections/sanborn-maps/?fa=location:illinois&fo=json&sp=56\n",
      "https://www.loc.gov/collections/sanborn-maps/?fa=location:illinois&fo=json&sp=57\n",
      "https://www.loc.gov/collections/sanborn-maps/?fa=location:illinois&fo=json&sp=58\n",
      "https://www.loc.gov/collections/sanborn-maps/?fa=location:illinois&fo=json&sp=59\n",
      "https://www.loc.gov/collections/sanborn-maps/?fa=location:illinois&fo=json&sp=60\n",
      "https://www.loc.gov/collections/sanborn-maps/?fa=location:illinois&fo=json&sp=61\n",
      "https://www.loc.gov/collections/sanborn-maps/?fa=location:illinois&fo=json&sp=62\n",
      "https://www.loc.gov/collections/sanborn-maps/?fa=location:illinois&fo=json&sp=63\n",
      "https://www.loc.gov/collections/sanborn-maps/?fa=location:illinois&fo=json&sp=64\n",
      "https://www.loc.gov/collections/sanborn-maps/?fa=location:illinois&fo=json&sp=65\n",
      "https://www.loc.gov/collections/sanborn-maps/?fa=location:illinois&fo=json&sp=66\n",
      "https://www.loc.gov/collections/sanborn-maps/?fa=location:illinois&fo=json&sp=67\n",
      "https://www.loc.gov/collections/sanborn-maps/?fa=location:illinois&fo=json&sp=68\n",
      "https://www.loc.gov/collections/sanborn-maps/?fa=location:illinois&fo=json&sp=69\n",
      "https://www.loc.gov/collections/sanborn-maps/?fa=location:illinois&fo=json&sp=70\n",
      "https://www.loc.gov/collections/sanborn-maps/?fa=location:illinois&fo=json&sp=71\n",
      "https://www.loc.gov/collections/sanborn-maps/?fa=location:illinois&fo=json&sp=72\n",
      "https://www.loc.gov/collections/sanborn-maps/?fa=location:illinois&fo=json&sp=73\n",
      "https://www.loc.gov/collections/sanborn-maps/?fa=location:illinois&fo=json&sp=74\n",
      "https://www.loc.gov/collections/sanborn-maps/?fa=location:illinois&fo=json&sp=75\n",
      "https://www.loc.gov/collections/sanborn-maps/?fa=location:illinois&fo=json&sp=76\n",
      "None\n"
     ]
    }
   ],
   "source": [
    "# 1883\n",
    "illinois = requests.get(\"https://www.loc.gov/collections/sanborn-maps/?fo=json&fa=location:illinois\").json()\n",
    "\n",
    "while True: #As long as we have a next page, go and fetch it\n",
    "    f = open(\"illinois-fix.json\", \"a\")\n",
    "    writeState(illinois[\"results\"], \"Illinois\", f)\n",
    "    f.write(\", \")\n",
    "    f.close()\n",
    "    next_page = illinois[\"pagination\"][\"next\"] #get the next page url\n",
    "    print(next_page) #check to make sure working as expected\n",
    "    if next_page is not None: #make sure we haven't hit the end of the pages\n",
    "        illinois = requests.get(next_page).json()\n",
    "    else:\n",
    "        break #we are done and can stop looping"
   ]
  },
  {
   "cell_type": "code",
   "execution_count": 27,
   "metadata": {},
   "outputs": [
    {
     "name": "stdout",
     "output_type": "stream",
     "text": [
      "https://www.loc.gov/collections/sanborn-maps/?c=100&fa=location:indiana&fo=json&sp=2\n",
      "https://www.loc.gov/collections/sanborn-maps/?c=100&fa=location:indiana&fo=json&sp=3\n",
      "https://www.loc.gov/collections/sanborn-maps/?c=100&fa=location:indiana&fo=json&sp=4\n",
      "https://www.loc.gov/collections/sanborn-maps/?c=100&fa=location:indiana&fo=json&sp=5\n",
      "https://www.loc.gov/collections/sanborn-maps/?c=100&fa=location:indiana&fo=json&sp=6\n",
      "https://www.loc.gov/collections/sanborn-maps/?c=100&fa=location:indiana&fo=json&sp=7\n",
      "https://www.loc.gov/collections/sanborn-maps/?c=100&fa=location:indiana&fo=json&sp=8\n",
      "https://www.loc.gov/collections/sanborn-maps/?c=100&fa=location:indiana&fo=json&sp=9\n",
      "https://www.loc.gov/collections/sanborn-maps/?c=100&fa=location:indiana&fo=json&sp=10\n",
      "https://www.loc.gov/collections/sanborn-maps/?c=100&fa=location:indiana&fo=json&sp=11\n",
      "https://www.loc.gov/collections/sanborn-maps/?c=100&fa=location:indiana&fo=json&sp=12\n",
      "https://www.loc.gov/collections/sanborn-maps/?c=100&fa=location:indiana&fo=json&sp=13\n",
      "None\n"
     ]
    }
   ],
   "source": [
    "# 1271\n",
    "indiana = requests.get(\"https://www.loc.gov/collections/sanborn-maps/?fo=json&fa=location:indiana&c=100\").json()\n",
    "\n",
    "while True: #As long as we have a next page, go and fetch it\n",
    "    f = open(\"sanborn-maps-data-all.json\", \"a\")\n",
    "    writeState(indiana[\"results\"], \"Indiana\", f)\n",
    "    f.write(\", \")\n",
    "    f.close()\n",
    "    next_page = indiana[\"pagination\"][\"next\"] #get the next page url\n",
    "    print(next_page) #check to make sure working as expected\n",
    "    if next_page is not None: #make sure we haven't hit the end of the pages\n",
    "        indiana = requests.get(next_page).json()\n",
    "    else:\n",
    "        break #we are done and can stop looping"
   ]
  },
  {
   "cell_type": "code",
   "execution_count": 28,
   "metadata": {},
   "outputs": [
    {
     "name": "stdout",
     "output_type": "stream",
     "text": [
      "https://www.loc.gov/collections/sanborn-maps/?c=100&fa=location:iowa&fo=json&sp=2\n",
      "https://www.loc.gov/collections/sanborn-maps/?c=100&fa=location:iowa&fo=json&sp=3\n",
      "https://www.loc.gov/collections/sanborn-maps/?c=100&fa=location:iowa&fo=json&sp=4\n",
      "https://www.loc.gov/collections/sanborn-maps/?c=100&fa=location:iowa&fo=json&sp=5\n",
      "https://www.loc.gov/collections/sanborn-maps/?c=100&fa=location:iowa&fo=json&sp=6\n",
      "https://www.loc.gov/collections/sanborn-maps/?c=100&fa=location:iowa&fo=json&sp=7\n",
      "https://www.loc.gov/collections/sanborn-maps/?c=100&fa=location:iowa&fo=json&sp=8\n",
      "https://www.loc.gov/collections/sanborn-maps/?c=100&fa=location:iowa&fo=json&sp=9\n",
      "https://www.loc.gov/collections/sanborn-maps/?c=100&fa=location:iowa&fo=json&sp=10\n",
      "https://www.loc.gov/collections/sanborn-maps/?c=100&fa=location:iowa&fo=json&sp=11\n",
      "https://www.loc.gov/collections/sanborn-maps/?c=100&fa=location:iowa&fo=json&sp=12\n",
      "None\n"
     ]
    }
   ],
   "source": [
    "# 1186\n",
    "iowa = requests.get(\"https://www.loc.gov/collections/sanborn-maps/?fo=json&fa=location:iowa&c=100\").json()\n",
    "\n",
    "while True: #As long as we have a next page, go and fetch it\n",
    "    f = open(\"sanborn-maps-data-all.json\", \"a\")\n",
    "    writeState(iowa[\"results\"], \"Iowa\", f)\n",
    "    f.write(\", \")\n",
    "    f.close()\n",
    "    next_page = iowa[\"pagination\"][\"next\"] #get the next page url\n",
    "    print(next_page) #check to make sure working as expected\n",
    "    if next_page is not None: #make sure we haven't hit the end of the pages\n",
    "        iowa = requests.get(next_page).json()\n",
    "    else:\n",
    "        break #we are done and can stop looping"
   ]
  },
  {
   "cell_type": "code",
   "execution_count": 29,
   "metadata": {},
   "outputs": [
    {
     "name": "stdout",
     "output_type": "stream",
     "text": [
      "https://www.loc.gov/collections/sanborn-maps/?c=500&fa=location:kansas&fo=json&sp=2\n",
      "None\n"
     ]
    }
   ],
   "source": [
    "# 967\n",
    "kansas = requests.get(\"https://www.loc.gov/collections/sanborn-maps/?fo=json&fa=location:kansas&c=500\").json()\n",
    "\n",
    "while True: #As long as we have a next page, go and fetch it\n",
    "    f = open(\"sanborn-maps-data-all.json\", \"a\")\n",
    "    writeState(kansas[\"results\"], \"Kansas\", f)\n",
    "    f.write(\", \")\n",
    "    f.close()\n",
    "    next_page = kansas[\"pagination\"][\"next\"] #get the next page url\n",
    "    print(next_page) #check to make sure working as expected\n",
    "    if next_page is not None: #make sure we haven't hit the end of the pages\n",
    "        kansas = requests.get(next_page).json()\n",
    "    else:\n",
    "        break #we are done and can stop looping"
   ]
  },
  {
   "cell_type": "code",
   "execution_count": 30,
   "metadata": {},
   "outputs": [],
   "source": [
    "# 570\n",
    "kentucky = requests.get(\"https://www.loc.gov/collections/sanborn-maps/?fo=json&fa=location:kentucky&c=600\").json()\n",
    "\n",
    "f = open(\"sanborn-maps-data-all.json\", \"a\")\n",
    "writeState(kentucky[\"results\"], \"Kentucky\", f)\n",
    "f.write(\", \")\n",
    "f.close()"
   ]
  },
  {
   "cell_type": "code",
   "execution_count": 31,
   "metadata": {},
   "outputs": [],
   "source": [
    "# 434\n",
    "louisiana = requests.get(\"https://www.loc.gov/collections/sanborn-maps/?fo=json&fa=location:louisiana&c=450\").json()\n",
    "\n",
    "f = open(\"sanborn-maps-data-all.json\", \"a\")\n",
    "writeState(louisiana[\"results\"], \"Louisiana\", f)\n",
    "f.write(\", \")\n",
    "f.close()"
   ]
  },
  {
   "cell_type": "code",
   "execution_count": 32,
   "metadata": {
    "scrolled": true
   },
   "outputs": [
    {
     "name": "stdout",
     "output_type": "stream",
     "text": [
      "Sanborn Fire Insurance Map from South Portland, Cumberland County, Maine.\n",
      "https://www.loc.gov/item/sanborn03545_002/\n"
     ]
    }
   ],
   "source": [
    "# 597\n",
    "maine = requests.get(\"https://www.loc.gov/collections/sanborn-maps/?fo=json&fa=location:maine&c=600\").json()\n",
    "\n",
    "f = open(\"sanborn-maps-data-all.json\", \"a\")\n",
    "writeState(maine[\"results\"], \"Maine\", f)\n",
    "f.write(\", \")\n",
    "f.close()"
   ]
  },
  {
   "cell_type": "code",
   "execution_count": 34,
   "metadata": {},
   "outputs": [],
   "source": [
    "# 329\n",
    "maryland = requests.get(\"https://www.loc.gov/collections/sanborn-maps/?fo=json&fa=location:maryland&c=350\").json()\n",
    "\n",
    "f = open(\"sanborn-maps-data-all.json\", \"a\")\n",
    "writeState(maryland[\"results\"], \"Maryland\", f)\n",
    "f.write(\", \")\n",
    "f.close()"
   ]
  },
  {
   "cell_type": "code",
   "execution_count": 35,
   "metadata": {},
   "outputs": [
    {
     "name": "stdout",
     "output_type": "stream",
     "text": [
      "Sanborn Fire Insurance Map from Cohasset, Norfolk County, Massachusetts.\n",
      "https://www.loc.gov/item/sanborn03710_006/\n",
      "https://www.loc.gov/collections/sanborn-maps/?c=500&fa=location:massachusetts&fo=json&sp=2\n",
      "https://www.loc.gov/collections/sanborn-maps/?c=500&fa=location:massachusetts&fo=json&sp=3\n",
      "None\n"
     ]
    }
   ],
   "source": [
    "# 1011\n",
    "massachusetts = requests.get(\"https://www.loc.gov/collections/sanborn-maps/?fo=json&fa=location:massachusetts&c=500\").json()\n",
    "\n",
    "while True: #As long as we have a next page, go and fetch it\n",
    "    f = open(\"sanborn-maps-data-all.json\", \"a\")\n",
    "    writeState(massachusetts[\"results\"], \"Massachusetts\", f)\n",
    "    f.write(\", \")\n",
    "    f.close()\n",
    "    next_page = massachusetts[\"pagination\"][\"next\"] #get the next page url\n",
    "    print(next_page) #check to make sure working as expected\n",
    "    if next_page is not None: #make sure we haven't hit the end of the pages\n",
    "        massachusetts = requests.get(next_page).json()\n",
    "    else:\n",
    "        break #we are done and can stop looping"
   ]
  },
  {
   "cell_type": "code",
   "execution_count": 36,
   "metadata": {
    "scrolled": true
   },
   "outputs": [
    {
     "name": "stdout",
     "output_type": "stream",
     "text": [
      "Sanborn Fire Insurance Map from Bay City, Bay County, Michigan.\n",
      "https://www.loc.gov/item/sanborn03921_008/\n",
      "https://www.loc.gov/collections/sanborn-maps/?c=500&fa=location:michigan&fo=json&sp=2\n",
      "https://www.loc.gov/collections/sanborn-maps/?c=500&fa=location:michigan&fo=json&sp=3\n",
      "None\n"
     ]
    }
   ],
   "source": [
    "# 1370\n",
    "michigan = requests.get(\"https://www.loc.gov/collections/sanborn-maps/?fo=json&fa=location:michigan&c=500\").json()\n",
    "\n",
    "while True: #As long as we have a next page, go and fetch it\n",
    "    f = open(\"sanborn-maps-data-all.json\", \"a\")\n",
    "    writeState(michigan[\"results\"], \"Michigan\", f)\n",
    "    f.write(\", \")\n",
    "    f.close()\n",
    "    next_page = michigan[\"pagination\"][\"next\"] #get the next page url\n",
    "    print(next_page) #check to make sure working as expected\n",
    "    if next_page is not None: #make sure we haven't hit the end of the pages\n",
    "        michigan = requests.get(next_page).json()\n",
    "    else:\n",
    "        break #we are done and can stop looping"
   ]
  },
  {
   "cell_type": "code",
   "execution_count": 37,
   "metadata": {
    "scrolled": true
   },
   "outputs": [
    {
     "name": "stdout",
     "output_type": "stream",
     "text": [
      "Sanborn Fire Insurance Map from Duluth, Saint Louis County, Minnesota.\n",
      "https://www.loc.gov/item/sanborn04287_015/\n",
      "Sanborn Fire Insurance Map from Minneapolis, Hennepin County, Minnesota.\n",
      "https://www.loc.gov/item/sanborn04339_014.5/\n"
     ]
    }
   ],
   "source": [
    "# 857\n",
    "minnesota = requests.get(\"https://www.loc.gov/collections/sanborn-maps/?fo=json&fa=location:minnesota&c=900\").json()\n",
    "\n",
    "f = open(\"sanborn-maps-data-all.json\", \"a\")\n",
    "writeState(minnesota[\"results\"], \"Minnesota\", f)\n",
    "f.write(\", \")\n",
    "f.close()"
   ]
  },
  {
   "cell_type": "code",
   "execution_count": 38,
   "metadata": {},
   "outputs": [],
   "source": [
    "# 456\n",
    "mississippi = requests.get(\"https://www.loc.gov/collections/sanborn-maps/?fo=json&fa=location:mississippi&c=500\").json()\n",
    "\n",
    "f = open(\"sanborn-maps-data-all.json\", \"a\")\n",
    "writeState(mississippi[\"results\"], \"Mississippi\", f)\n",
    "f.write(\", \")\n",
    "f.close()"
   ]
  },
  {
   "cell_type": "code",
   "execution_count": 39,
   "metadata": {},
   "outputs": [
    {
     "name": "stdout",
     "output_type": "stream",
     "text": [
      "https://www.loc.gov/collections/sanborn-maps/?c=500&fa=location:missouri&fo=json&sp=2\n",
      "https://www.loc.gov/collections/sanborn-maps/?c=500&fa=location:missouri&fo=json&sp=3\n",
      "None\n"
     ]
    }
   ],
   "source": [
    "# 1155\n",
    "missouri = requests.get(\"https://www.loc.gov/collections/sanborn-maps/?fo=json&fa=location:missouri&c=500\").json()\n",
    "\n",
    "while True: #As long as we have a next page, go and fetch it\n",
    "    f = open(\"sanborn-maps-data-all.json\", \"a\")\n",
    "    writeState(missouri[\"results\"], \"Missouri\", f)\n",
    "    f.write(\", \")\n",
    "    f.close()\n",
    "    next_page = missouri[\"pagination\"][\"next\"] #get the next page url\n",
    "    print(next_page) #check to make sure working as expected\n",
    "    if next_page is not None: #make sure we haven't hit the end of the pages\n",
    "        missouri = requests.get(next_page).json()\n",
    "    else:\n",
    "        break #we are done and can stop looping"
   ]
  },
  {
   "cell_type": "code",
   "execution_count": 40,
   "metadata": {},
   "outputs": [],
   "source": [
    "# 421\n",
    "montana = requests.get(\"https://www.loc.gov/collections/sanborn-maps/?fo=json&fa=location:montana&c=450\").json()\n",
    "\n",
    "f = open(\"sanborn-maps-data-all.json\", \"a\")\n",
    "writeState(montana[\"results\"], \"Montana\", f)\n",
    "f.write(\", \")\n",
    "f.close()"
   ]
  },
  {
   "cell_type": "code",
   "execution_count": 41,
   "metadata": {},
   "outputs": [],
   "source": [
    "# 525\n",
    "nebraska = requests.get(\"https://www.loc.gov/collections/sanborn-maps/?fo=json&fa=location:nebraska&c=550\").json()\n",
    "\n",
    "f = open(\"sanborn-maps-data-all.json\", \"a\")\n",
    "writeState(nebraska[\"results\"], \"Nebraska\", f)\n",
    "f.write(\", \")\n",
    "f.close()"
   ]
  },
  {
   "cell_type": "code",
   "execution_count": 42,
   "metadata": {},
   "outputs": [],
   "source": [
    "# 94\n",
    "nevada = requests.get(\"https://www.loc.gov/collections/sanborn-maps/?fo=json&fa=location:nevada&c=100\").json()\n",
    "\n",
    "f = open(\"sanborn-maps-data-all.json\", \"a\")\n",
    "writeState(nevada[\"results\"], \"Nevada\", f)\n",
    "f.write(\", \")\n",
    "f.close()"
   ]
  },
  {
   "cell_type": "code",
   "execution_count": 43,
   "metadata": {},
   "outputs": [],
   "source": [
    "# 362\n",
    "new_hampshire = requests.get(\"https://www.loc.gov/collections/sanborn-maps/?fo=json&fa=location:new+hampshire&c=400\").json()\n",
    "\n",
    "f = open(\"sanborn-maps-data-all.json\", \"a\")\n",
    "writeState(new_hampshire[\"results\"], \"New Hampshire\", f)\n",
    "f.write(\", \")\n",
    "f.close()"
   ]
  },
  {
   "cell_type": "code",
   "execution_count": 44,
   "metadata": {},
   "outputs": [
    {
     "name": "stdout",
     "output_type": "stream",
     "text": [
      "Sanborn Fire Insurance Map from Newark, Essex County, New Jersey.\n",
      "https://www.loc.gov/item/sanborn05571_009.2/\n",
      "Sanborn Fire Insurance Map from Newark, Essex County, New Jersey.\n",
      "https://www.loc.gov/item/sanborn05571_009.4/\n",
      "Sanborn Fire Insurance Map from Newark, Essex County, New Jersey.\n",
      "https://www.loc.gov/item/sanborn05571_009.6/\n",
      "Sanborn Fire Insurance Map from Rutherford, Bergen County, New Jersey.\n",
      "https://www.loc.gov/item/sanborn05620_006/\n",
      "Sanborn Fire Insurance Map from Port Norris, Cumberland County, New Jersey.\n",
      "https://www.loc.gov/item/sanborn05604_001.5/\n",
      "Sanborn Fire Insurance Map from Paterson, Passaic County, New Jersey.\n",
      "https://www.loc.gov/item/sanborn05590_006.5/\n"
     ]
    }
   ],
   "source": [
    "# 848\n",
    "new_jersey = requests.get(\"https://www.loc.gov/collections/sanborn-maps/?fo=json&fa=location:new+jersey&c=850\").json()\n",
    "\n",
    "f = open(\"sanborn-maps-data-all.json\", \"a\")\n",
    "writeState(new_jersey[\"results\"], \"New Jersey\", f)\n",
    "f.write(\", \")\n",
    "f.close()"
   ]
  },
  {
   "cell_type": "code",
   "execution_count": 45,
   "metadata": {},
   "outputs": [],
   "source": [
    "# 153\n",
    "new_mexico = requests.get(\"https://www.loc.gov/collections/sanborn-maps/?fo=json&fa=location:new+mexico&c=160\").json()\n",
    "\n",
    "f = open(\"sanborn-maps-data-all.json\", \"a\")\n",
    "writeState(new_mexico[\"results\"], \"New Mexico\", f)\n",
    "f.write(\", \")\n",
    "f.close()"
   ]
  },
  {
   "cell_type": "code",
   "execution_count": 46,
   "metadata": {
    "scrolled": true
   },
   "outputs": [
    {
     "name": "stdout",
     "output_type": "stream",
     "text": [
      "Sanborn Fire Insurance Map from Buffalo, Erie County, New York.\n",
      "https://www.loc.gov/item/sanborn05793_020.5/\n",
      "https://www.loc.gov/collections/sanborn-maps/?c=500&fa=location:new+york&fo=json&sp=2\n",
      "https://www.loc.gov/collections/sanborn-maps/?c=500&fa=location:new+york&fo=json&sp=3\n",
      "https://www.loc.gov/collections/sanborn-maps/?c=500&fa=location:new+york&fo=json&sp=4\n",
      "Sanborn Fire Insurance Map from Staten Island (Borough Of Richmond), Richmond County, New York.\n",
      "https://www.loc.gov/item/sanborn06213_004.5/\n",
      "https://www.loc.gov/collections/sanborn-maps/?c=500&fa=location:new+york&fo=json&sp=5\n",
      "None\n"
     ]
    }
   ],
   "source": [
    "# 2500\n",
    "new_york = requests.get(\"https://www.loc.gov/collections/sanborn-maps/?fo=json&fa=location:new+york&c=500\").json()\n",
    "\n",
    "while True: #As long as we have a next page, go and fetch it\n",
    "    f = open(\"sanborn-maps-data-all.json\", \"a\")\n",
    "    writeState(new_york[\"results\"], \"New York\", f)\n",
    "    f.write(\", \")\n",
    "    f.close()\n",
    "    next_page = new_york[\"pagination\"][\"next\"] #get the next page url\n",
    "    print(next_page) #check to make sure working as expected\n",
    "    if next_page is not None: #make sure we haven't hit the end of the pages\n",
    "        new_york = requests.get(next_page).json()\n",
    "    else:\n",
    "        break #we are done and can stop looping"
   ]
  },
  {
   "cell_type": "code",
   "execution_count": 47,
   "metadata": {},
   "outputs": [],
   "source": [
    "# 553\n",
    "north_carolina = requests.get(\"https://www.loc.gov/collections/sanborn-maps/?fo=json&fa=location:north+carolina&c=600\").json()\n",
    "\n",
    "f = open(\"sanborn-maps-data-all.json\", \"a\")\n",
    "writeState(north_carolina[\"results\"], \"North Carolina\", f)\n",
    "f.write(\", \")\n",
    "f.close()"
   ]
  },
  {
   "cell_type": "code",
   "execution_count": 48,
   "metadata": {},
   "outputs": [],
   "source": [
    "# 227\n",
    "north_dakota = requests.get(\"https://www.loc.gov/collections/sanborn-maps/?fo=json&fa=location:north+dakota&c=250\").json()\n",
    "\n",
    "f = open(\"sanborn-maps-data-all.json\", \"a\")\n",
    "writeState(north_dakota[\"results\"], \"North Dakota\", f)\n",
    "f.write(\", \")\n",
    "f.close()"
   ]
  },
  {
   "cell_type": "code",
   "execution_count": 49,
   "metadata": {},
   "outputs": [],
   "source": [
    "# 623\n",
    "ohio = requests.get(\"https://www.loc.gov/collections/sanborn-maps/?fo=json&fa=location:ohio&c=650\").json()\n",
    "\n",
    "f = open(\"sanborn-maps-data-all.json\", \"a\")\n",
    "writeState(ohio[\"results\"], \"Ohio\", f)\n",
    "f.write(\", \")\n",
    "f.close()"
   ]
  },
  {
   "cell_type": "code",
   "execution_count": 50,
   "metadata": {},
   "outputs": [
    {
     "name": "stdout",
     "output_type": "stream",
     "text": [
      "Sanborn Fire Insurance Map from Claremore, Rogers County, Oklahoma.\n",
      "https://www.loc.gov/item/sanborn07040_012/\n",
      "https://www.loc.gov/collections/sanborn-maps/?c=500&fa=location:oklahoma&fo=json&sp=2\n",
      "https://www.loc.gov/collections/sanborn-maps/?c=500&fa=location:oklahoma&fo=json&sp=3\n",
      "None\n"
     ]
    }
   ],
   "source": [
    "# 1191\n",
    "oklahoma = requests.get(\"https://www.loc.gov/collections/sanborn-maps/?fo=json&fa=location:oklahoma&c=500\").json()\n",
    "\n",
    "while True: #As long as we have a next page, go and fetch it\n",
    "    f = open(\"sanborn-maps-data-all.json\", \"a\")\n",
    "    writeState(oklahoma[\"results\"], \"Oklahoma\", f)\n",
    "    f.write(\", \")\n",
    "    f.close()\n",
    "    next_page = oklahoma[\"pagination\"][\"next\"] #get the next page url\n",
    "    print(next_page) #check to make sure working as expected\n",
    "    if next_page is not None: #make sure we haven't hit the end of the pages\n",
    "        oklahoma = requests.get(next_page).json()\n",
    "    else:\n",
    "        break #we are done and can stop looping"
   ]
  },
  {
   "cell_type": "code",
   "execution_count": 52,
   "metadata": {},
   "outputs": [],
   "source": [
    "# 594\n",
    "oregon = requests.get(\"https://www.loc.gov/collections/sanborn-maps/?fo=json&fa=location:oregon&c=600\").json()\n",
    "\n",
    "f = open(\"sanborn-maps-data-all.json\", \"a\")\n",
    "writeState(oregon[\"results\"], \"Oregon\", f)\n",
    "f.write(\", \")\n",
    "f.close()"
   ]
  },
  {
   "cell_type": "code",
   "execution_count": 53,
   "metadata": {},
   "outputs": [
    {
     "name": "stdout",
     "output_type": "stream",
     "text": [
      "https://www.loc.gov/collections/sanborn-maps/?c=500&fa=location:pennsylvania&fo=json&sp=2\n",
      "Sanborn Fire Insurance Map from Lancaster, Lancaster County, Pennsylvania.\n",
      "https://www.loc.gov/item/sanborn07754_009/\n",
      "https://www.loc.gov/collections/sanborn-maps/?c=500&fa=location:pennsylvania&fo=json&sp=3\n",
      "Sanborn Fire Insurance Map from New Bethlehem, Clarion County, Pennsylvania.\n",
      "https://www.loc.gov/item/sanborn07855_008/\n",
      "https://www.loc.gov/collections/sanborn-maps/?c=500&fa=location:pennsylvania&fo=json&sp=4\n",
      "https://www.loc.gov/collections/sanborn-maps/?c=500&fa=location:pennsylvania&fo=json&sp=5\n",
      "None\n"
     ]
    }
   ],
   "source": [
    "# 2029\n",
    "pennsylvania = requests.get(\"https://www.loc.gov/collections/sanborn-maps/?fo=json&fa=location:pennsylvania&c=500\").json()\n",
    "\n",
    "while True: #As long as we have a next page, go and fetch it\n",
    "    f = open(\"sanborn-maps-data-all.json\", \"a\")\n",
    "    writeState(pennsylvania[\"results\"], \"Pennsylvania\", f)\n",
    "    f.write(\", \")\n",
    "    f.close()\n",
    "    next_page = pennsylvania[\"pagination\"][\"next\"] #get the next page url\n",
    "    print(next_page) #check to make sure working as expected\n",
    "    if next_page is not None: #make sure we haven't hit the end of the pages\n",
    "        pennsylvania = requests.get(next_page).json()\n",
    "    else:\n",
    "        break #we are done and can stop looping"
   ]
  },
  {
   "cell_type": "code",
   "execution_count": 55,
   "metadata": {},
   "outputs": [
    {
     "name": "stdout",
     "output_type": "stream",
     "text": [
      "Sanborn Fire Insurance Map from Warwick, Kent County, Rhode Island.\n",
      "https://www.loc.gov/item/sanborn08105_003/\n"
     ]
    }
   ],
   "source": [
    "# 131\n",
    "rhode_island = requests.get(\"https://www.loc.gov/collections/sanborn-maps/?fo=json&fa=location:rhode+island&c=150\").json()\n",
    "\n",
    "f = open(\"sanborn-maps-data-all.json\", \"a\")\n",
    "writeState(rhode_island[\"results\"], \"Rhode Island\", f)\n",
    "f.write(\", \")\n",
    "f.close()"
   ]
  },
  {
   "cell_type": "code",
   "execution_count": 57,
   "metadata": {},
   "outputs": [],
   "source": [
    "# 377\n",
    "south_carolina = requests.get(\"https://www.loc.gov/collections/sanborn-maps/?fo=json&fa=location:south+carolina&c=400\").json()\n",
    "\n",
    "f = open(\"sanborn-maps-data-all.json\", \"a\")\n",
    "writeState(south_carolina[\"results\"], \"South Carolina\", f)\n",
    "f.write(\", \")\n",
    "f.close()"
   ]
  },
  {
   "cell_type": "code",
   "execution_count": 58,
   "metadata": {},
   "outputs": [],
   "source": [
    "# 426\n",
    "south_dakota = requests.get(\"https://www.loc.gov/collections/sanborn-maps/?fo=json&fa=location:south+dakota&c=450\").json()\n",
    "\n",
    "f = open(\"sanborn-maps-data-all.json\", \"a\")\n",
    "writeState(south_dakota[\"results\"], \"South Dakota\", f)\n",
    "f.write(\", \")\n",
    "f.close()"
   ]
  },
  {
   "cell_type": "code",
   "execution_count": 59,
   "metadata": {
    "scrolled": true
   },
   "outputs": [
    {
     "name": "stdout",
     "output_type": "stream",
     "text": [
      "Sanborn Fire Insurance Map from Nashville, Davidson County, Tennessee.\n",
      "https://www.loc.gov/item/sanborn08356_026.14/\n",
      "Sanborn Fire Insurance Map from Nashville, Davidson County, Tennessee.\n",
      "https://www.loc.gov/item/sanborn08356_026.16/\n",
      "Sanborn Fire Insurance Map from Nashville, Davidson County, Tennessee.\n",
      "https://www.loc.gov/item/sanborn08356_026.2/\n",
      "Sanborn Fire Insurance Map from Nashville, Davidson County, Tennessee.\n",
      "https://www.loc.gov/item/sanborn08356_026.3/\n",
      "Sanborn Fire Insurance Map from Nashville, Davidson County, Tennessee.\n",
      "https://www.loc.gov/item/sanborn08356_026.4/\n",
      "Sanborn Fire Insurance Map from Nashville, Davidson County, Tennessee.\n",
      "https://www.loc.gov/item/sanborn08356_026.5/\n",
      "Sanborn Fire Insurance Map from Nashville, Davidson County, Tennessee.\n",
      "https://www.loc.gov/item/sanborn08356_026.6/\n"
     ]
    }
   ],
   "source": [
    "# 545\n",
    "tennessee = requests.get(\"https://www.loc.gov/collections/sanborn-maps/?fo=json&fa=location:tennessee&c=550\").json()\n",
    "\n",
    "f = open(\"sanborn-maps-data-all.json\", \"a\")\n",
    "writeState(tennessee[\"results\"], \"Tennessee\", f)\n",
    "f.write(\", \")\n",
    "f.close()"
   ]
  },
  {
   "cell_type": "code",
   "execution_count": 60,
   "metadata": {},
   "outputs": [
    {
     "name": "stdout",
     "output_type": "stream",
     "text": [
      "https://www.loc.gov/collections/sanborn-maps/?c=500&fa=location:texas&fo=json&sp=2\n",
      "https://www.loc.gov/collections/sanborn-maps/?c=500&fa=location:texas&fo=json&sp=3\n",
      "https://www.loc.gov/collections/sanborn-maps/?c=500&fa=location:texas&fo=json&sp=4\n",
      "None\n"
     ]
    }
   ],
   "source": [
    "# 1598\n",
    "texas = requests.get(\"https://www.loc.gov/collections/sanborn-maps/?fo=json&fa=location:texas&c=500\").json()\n",
    "\n",
    "while True: #As long as we have a next page, go and fetch it\n",
    "    f = open(\"sanborn-maps-data-all.json\", \"a\")\n",
    "    writeState(texas[\"results\"], \"Texas\", f)\n",
    "    f.write(\", \")\n",
    "    f.close()\n",
    "    next_page = texas[\"pagination\"][\"next\"] #get the next page url\n",
    "    print(next_page) #check to make sure working as expected\n",
    "    if next_page is not None: #make sure we haven't hit the end of the pages\n",
    "        texas = requests.get(next_page).json()\n",
    "    else:\n",
    "        break #we are done and can stop looping"
   ]
  },
  {
   "cell_type": "code",
   "execution_count": 61,
   "metadata": {},
   "outputs": [],
   "source": [
    "# 164\n",
    "utah = requests.get(\"https://www.loc.gov/collections/sanborn-maps/?fo=json&fa=location:utah&c=200\").json()\n",
    "\n",
    "f = open(\"sanborn-maps-data-all.json\", \"a\")\n",
    "writeState(utah[\"results\"], \"Utah\", f)\n",
    "f.write(\", \")\n",
    "f.close()"
   ]
  },
  {
   "cell_type": "code",
   "execution_count": 62,
   "metadata": {},
   "outputs": [],
   "source": [
    "# 327\n",
    "vermont = requests.get(\"https://www.loc.gov/collections/sanborn-maps/?fo=json&fa=location:vermont&c=350\").json()\n",
    "\n",
    "f = open(\"sanborn-maps-data-all.json\", \"a\")\n",
    "writeState(vermont[\"results\"], \"Vermont\", f)\n",
    "f.write(\", \")\n",
    "f.close()"
   ]
  },
  {
   "cell_type": "code",
   "execution_count": 63,
   "metadata": {},
   "outputs": [],
   "source": [
    "# 158\n",
    "virginia = requests.get(\"https://www.loc.gov/collections/sanborn-maps/?fo=json&fa=location:virginia&c=175\").json()\n",
    "\n",
    "f = open(\"sanborn-maps-data-all.json\", \"a\")\n",
    "writeState(virginia[\"results\"], \"Virginia\", f)\n",
    "f.write(\", \")\n",
    "f.close()"
   ]
  },
  {
   "cell_type": "code",
   "execution_count": 66,
   "metadata": {
    "scrolled": false
   },
   "outputs": [
    {
     "name": "stdout",
     "output_type": "stream",
     "text": [
      "https://www.loc.gov/collections/sanborn-maps/?c=500&fa=location:washington&fo=json&sp=2\n"
     ]
    },
    {
     "ename": "JSONDecodeError",
     "evalue": "Expecting value: line 1 column 1 (char 0)",
     "output_type": "error",
     "traceback": [
      "\u001b[0;31m---------------------------------------------------------------------------\u001b[0m",
      "\u001b[0;31mJSONDecodeError\u001b[0m                           Traceback (most recent call last)",
      "\u001b[0;32m<ipython-input-66-bf29bb1b3e4f>\u001b[0m in \u001b[0;36m<module>\u001b[0;34m\u001b[0m\n\u001b[1;32m     10\u001b[0m     \u001b[0mprint\u001b[0m\u001b[0;34m(\u001b[0m\u001b[0mnext_page\u001b[0m\u001b[0;34m)\u001b[0m \u001b[0;31m#check to make sure working as expected\u001b[0m\u001b[0;34m\u001b[0m\u001b[0;34m\u001b[0m\u001b[0m\n\u001b[1;32m     11\u001b[0m     \u001b[0;32mif\u001b[0m \u001b[0mnext_page\u001b[0m \u001b[0;32mis\u001b[0m \u001b[0;32mnot\u001b[0m \u001b[0;32mNone\u001b[0m\u001b[0;34m:\u001b[0m \u001b[0;31m#make sure we haven't hit the end of the pages\u001b[0m\u001b[0;34m\u001b[0m\u001b[0;34m\u001b[0m\u001b[0m\n\u001b[0;32m---> 12\u001b[0;31m         \u001b[0mwashington\u001b[0m \u001b[0;34m=\u001b[0m \u001b[0mrequests\u001b[0m\u001b[0;34m.\u001b[0m\u001b[0mget\u001b[0m\u001b[0;34m(\u001b[0m\u001b[0mnext_page\u001b[0m\u001b[0;34m)\u001b[0m\u001b[0;34m.\u001b[0m\u001b[0mjson\u001b[0m\u001b[0;34m(\u001b[0m\u001b[0;34m)\u001b[0m\u001b[0;34m\u001b[0m\u001b[0;34m\u001b[0m\u001b[0m\n\u001b[0m\u001b[1;32m     13\u001b[0m     \u001b[0;32melse\u001b[0m\u001b[0;34m:\u001b[0m\u001b[0;34m\u001b[0m\u001b[0;34m\u001b[0m\u001b[0m\n\u001b[1;32m     14\u001b[0m         \u001b[0;32mbreak\u001b[0m \u001b[0;31m#we are done and can stop looping\u001b[0m\u001b[0;34m\u001b[0m\u001b[0;34m\u001b[0m\u001b[0m\n",
      "\u001b[0;32m/opt/anaconda3/lib/python3.7/site-packages/requests/models.py\u001b[0m in \u001b[0;36mjson\u001b[0;34m(self, **kwargs)\u001b[0m\n\u001b[1;32m    895\u001b[0m                     \u001b[0;31m# used.\u001b[0m\u001b[0;34m\u001b[0m\u001b[0;34m\u001b[0m\u001b[0;34m\u001b[0m\u001b[0m\n\u001b[1;32m    896\u001b[0m                     \u001b[0;32mpass\u001b[0m\u001b[0;34m\u001b[0m\u001b[0;34m\u001b[0m\u001b[0m\n\u001b[0;32m--> 897\u001b[0;31m         \u001b[0;32mreturn\u001b[0m \u001b[0mcomplexjson\u001b[0m\u001b[0;34m.\u001b[0m\u001b[0mloads\u001b[0m\u001b[0;34m(\u001b[0m\u001b[0mself\u001b[0m\u001b[0;34m.\u001b[0m\u001b[0mtext\u001b[0m\u001b[0;34m,\u001b[0m \u001b[0;34m**\u001b[0m\u001b[0mkwargs\u001b[0m\u001b[0;34m)\u001b[0m\u001b[0;34m\u001b[0m\u001b[0;34m\u001b[0m\u001b[0m\n\u001b[0m\u001b[1;32m    898\u001b[0m \u001b[0;34m\u001b[0m\u001b[0m\n\u001b[1;32m    899\u001b[0m     \u001b[0;34m@\u001b[0m\u001b[0mproperty\u001b[0m\u001b[0;34m\u001b[0m\u001b[0;34m\u001b[0m\u001b[0m\n",
      "\u001b[0;32m/opt/anaconda3/lib/python3.7/json/__init__.py\u001b[0m in \u001b[0;36mloads\u001b[0;34m(s, encoding, cls, object_hook, parse_float, parse_int, parse_constant, object_pairs_hook, **kw)\u001b[0m\n\u001b[1;32m    346\u001b[0m             \u001b[0mparse_int\u001b[0m \u001b[0;32mis\u001b[0m \u001b[0;32mNone\u001b[0m \u001b[0;32mand\u001b[0m \u001b[0mparse_float\u001b[0m \u001b[0;32mis\u001b[0m \u001b[0;32mNone\u001b[0m \u001b[0;32mand\u001b[0m\u001b[0;34m\u001b[0m\u001b[0;34m\u001b[0m\u001b[0m\n\u001b[1;32m    347\u001b[0m             parse_constant is None and object_pairs_hook is None and not kw):\n\u001b[0;32m--> 348\u001b[0;31m         \u001b[0;32mreturn\u001b[0m \u001b[0m_default_decoder\u001b[0m\u001b[0;34m.\u001b[0m\u001b[0mdecode\u001b[0m\u001b[0;34m(\u001b[0m\u001b[0ms\u001b[0m\u001b[0;34m)\u001b[0m\u001b[0;34m\u001b[0m\u001b[0;34m\u001b[0m\u001b[0m\n\u001b[0m\u001b[1;32m    349\u001b[0m     \u001b[0;32mif\u001b[0m \u001b[0mcls\u001b[0m \u001b[0;32mis\u001b[0m \u001b[0;32mNone\u001b[0m\u001b[0;34m:\u001b[0m\u001b[0;34m\u001b[0m\u001b[0;34m\u001b[0m\u001b[0m\n\u001b[1;32m    350\u001b[0m         \u001b[0mcls\u001b[0m \u001b[0;34m=\u001b[0m \u001b[0mJSONDecoder\u001b[0m\u001b[0;34m\u001b[0m\u001b[0;34m\u001b[0m\u001b[0m\n",
      "\u001b[0;32m/opt/anaconda3/lib/python3.7/json/decoder.py\u001b[0m in \u001b[0;36mdecode\u001b[0;34m(self, s, _w)\u001b[0m\n\u001b[1;32m    335\u001b[0m \u001b[0;34m\u001b[0m\u001b[0m\n\u001b[1;32m    336\u001b[0m         \"\"\"\n\u001b[0;32m--> 337\u001b[0;31m         \u001b[0mobj\u001b[0m\u001b[0;34m,\u001b[0m \u001b[0mend\u001b[0m \u001b[0;34m=\u001b[0m \u001b[0mself\u001b[0m\u001b[0;34m.\u001b[0m\u001b[0mraw_decode\u001b[0m\u001b[0;34m(\u001b[0m\u001b[0ms\u001b[0m\u001b[0;34m,\u001b[0m \u001b[0midx\u001b[0m\u001b[0;34m=\u001b[0m\u001b[0m_w\u001b[0m\u001b[0;34m(\u001b[0m\u001b[0ms\u001b[0m\u001b[0;34m,\u001b[0m \u001b[0;36m0\u001b[0m\u001b[0;34m)\u001b[0m\u001b[0;34m.\u001b[0m\u001b[0mend\u001b[0m\u001b[0;34m(\u001b[0m\u001b[0;34m)\u001b[0m\u001b[0;34m)\u001b[0m\u001b[0;34m\u001b[0m\u001b[0;34m\u001b[0m\u001b[0m\n\u001b[0m\u001b[1;32m    338\u001b[0m         \u001b[0mend\u001b[0m \u001b[0;34m=\u001b[0m \u001b[0m_w\u001b[0m\u001b[0;34m(\u001b[0m\u001b[0ms\u001b[0m\u001b[0;34m,\u001b[0m \u001b[0mend\u001b[0m\u001b[0;34m)\u001b[0m\u001b[0;34m.\u001b[0m\u001b[0mend\u001b[0m\u001b[0;34m(\u001b[0m\u001b[0;34m)\u001b[0m\u001b[0;34m\u001b[0m\u001b[0;34m\u001b[0m\u001b[0m\n\u001b[1;32m    339\u001b[0m         \u001b[0;32mif\u001b[0m \u001b[0mend\u001b[0m \u001b[0;34m!=\u001b[0m \u001b[0mlen\u001b[0m\u001b[0;34m(\u001b[0m\u001b[0ms\u001b[0m\u001b[0;34m)\u001b[0m\u001b[0;34m:\u001b[0m\u001b[0;34m\u001b[0m\u001b[0;34m\u001b[0m\u001b[0m\n",
      "\u001b[0;32m/opt/anaconda3/lib/python3.7/json/decoder.py\u001b[0m in \u001b[0;36mraw_decode\u001b[0;34m(self, s, idx)\u001b[0m\n\u001b[1;32m    353\u001b[0m             \u001b[0mobj\u001b[0m\u001b[0;34m,\u001b[0m \u001b[0mend\u001b[0m \u001b[0;34m=\u001b[0m \u001b[0mself\u001b[0m\u001b[0;34m.\u001b[0m\u001b[0mscan_once\u001b[0m\u001b[0;34m(\u001b[0m\u001b[0ms\u001b[0m\u001b[0;34m,\u001b[0m \u001b[0midx\u001b[0m\u001b[0;34m)\u001b[0m\u001b[0;34m\u001b[0m\u001b[0;34m\u001b[0m\u001b[0m\n\u001b[1;32m    354\u001b[0m         \u001b[0;32mexcept\u001b[0m \u001b[0mStopIteration\u001b[0m \u001b[0;32mas\u001b[0m \u001b[0merr\u001b[0m\u001b[0;34m:\u001b[0m\u001b[0;34m\u001b[0m\u001b[0;34m\u001b[0m\u001b[0m\n\u001b[0;32m--> 355\u001b[0;31m             \u001b[0;32mraise\u001b[0m \u001b[0mJSONDecodeError\u001b[0m\u001b[0;34m(\u001b[0m\u001b[0;34m\"Expecting value\"\u001b[0m\u001b[0;34m,\u001b[0m \u001b[0ms\u001b[0m\u001b[0;34m,\u001b[0m \u001b[0merr\u001b[0m\u001b[0;34m.\u001b[0m\u001b[0mvalue\u001b[0m\u001b[0;34m)\u001b[0m \u001b[0;32mfrom\u001b[0m \u001b[0;32mNone\u001b[0m\u001b[0;34m\u001b[0m\u001b[0;34m\u001b[0m\u001b[0m\n\u001b[0m\u001b[1;32m    356\u001b[0m         \u001b[0;32mreturn\u001b[0m \u001b[0mobj\u001b[0m\u001b[0;34m,\u001b[0m \u001b[0mend\u001b[0m\u001b[0;34m\u001b[0m\u001b[0;34m\u001b[0m\u001b[0m\n",
      "\u001b[0;31mJSONDecodeError\u001b[0m: Expecting value: line 1 column 1 (char 0)"
     ]
    }
   ],
   "source": [
    "# 879\n",
    "washington = requests.get(\"https://www.loc.gov/collections/sanborn-maps/?fo=json&fa=location:washington&c=500\").json()\n",
    "\n",
    "while True: #As long as we have a next page, go and fetch it\n",
    "    f = open(\"sanborn-maps-data-all.json\", \"a\")\n",
    "    writeState(washington[\"results\"], \"Washington\", f)\n",
    "    f.write(\", \")\n",
    "    f.close()\n",
    "    next_page = washington[\"pagination\"][\"next\"] #get the next page url\n",
    "    print(next_page) #check to make sure working as expected\n",
    "    if next_page is not None: #make sure we haven't hit the end of the pages\n",
    "        washington = requests.get(next_page).json()\n",
    "    else:\n",
    "        break #we are done and can stop looping"
   ]
  },
  {
   "cell_type": "code",
   "execution_count": 124,
   "metadata": {},
   "outputs": [],
   "source": [
    "# washington had some errors so:\n",
    "washington = requests.get(\"https://www.loc.gov/collections/sanborn-maps/?fo=json&fa=location:washington&c=1000\").json()\n",
    "\n",
    "test = open(\"washington-fix.json\", \"w\")\n",
    "writeState(washington[\"results\"], \"Washington\", test)\n",
    "test.close()"
   ]
  },
  {
   "cell_type": "code",
   "execution_count": 67,
   "metadata": {},
   "outputs": [],
   "source": [
    "# 296\n",
    "west_virginia = requests.get(\"https://www.loc.gov/collections/sanborn-maps/?fo=json&fa=location:west+virginia&c=300\").json()\n",
    "\n",
    "f = open(\"sanborn-maps-data-all.json\", \"a\")\n",
    "writeState(west_virginia[\"results\"], \"West Virginia\", f)\n",
    "f.write(\", \")\n",
    "f.close()"
   ]
  },
  {
   "cell_type": "code",
   "execution_count": 68,
   "metadata": {},
   "outputs": [
    {
     "name": "stdout",
     "output_type": "stream",
     "text": [
      "https://www.loc.gov/collections/sanborn-maps/?c=500&fa=location:wisconsin&fo=json&sp=2\n",
      "None\n"
     ]
    }
   ],
   "source": [
    "# 978\n",
    "wisconsin = requests.get(\"https://www.loc.gov/collections/sanborn-maps/?fo=json&fa=location:wisconsin&c=500\").json()\n",
    "\n",
    "while True: #As long as we have a next page, go and fetch it\n",
    "    f = open(\"sanborn-maps-data-all.json\", \"a\")\n",
    "    writeState(wisconsin[\"results\"], \"Wisconsin\", f)\n",
    "    f.write(\", \")\n",
    "    f.close()\n",
    "    next_page = wisconsin[\"pagination\"][\"next\"] #get the next page url\n",
    "    print(next_page) #check to make sure working as expected\n",
    "    if next_page is not None: #make sure we haven't hit the end of the pages\n",
    "        wisconsin = requests.get(next_page).json()\n",
    "    else:\n",
    "        break #we are done and can stop looping"
   ]
  },
  {
   "cell_type": "code",
   "execution_count": 69,
   "metadata": {},
   "outputs": [],
   "source": [
    "# 139\n",
    "wyoming = requests.get(\"https://www.loc.gov/collections/sanborn-maps/?fo=json&fa=location:wyoming&c=150\").json()\n",
    "\n",
    "f = open(\"sanborn-maps-data-all.json\", \"a\")\n",
    "writeState(wyoming[\"results\"], \"Wyoming\", f)\n",
    "f.write(\", \")\n",
    "f.close()"
   ]
  },
  {
   "cell_type": "code",
   "execution_count": 70,
   "metadata": {},
   "outputs": [],
   "source": [
    "# 4\n",
    "dc = requests.get(\"https://www.loc.gov/collections/sanborn-maps/?fo=json&fa=location:washington+d.c.\").json()\n",
    "\n",
    "f = open(\"sanborn-maps-data-all.json\", \"a\")\n",
    "writeState(dc[\"results\"], \"District of Columbia\", f)\n",
    "f.write(\"]\")\n",
    "f.close()"
   ]
  },
  {
   "cell_type": "code",
   "execution_count": null,
   "metadata": {},
   "outputs": [],
   "source": []
  }
 ],
 "metadata": {
  "kernelspec": {
   "display_name": "Python 3",
   "language": "python",
   "name": "python3"
  },
  "language_info": {
   "codemirror_mode": {
    "name": "ipython",
    "version": 3
   },
   "file_extension": ".py",
   "mimetype": "text/x-python",
   "name": "python",
   "nbconvert_exporter": "python",
   "pygments_lexer": "ipython3",
   "version": "3.7.4"
  }
 },
 "nbformat": 4,
 "nbformat_minor": 2
}
