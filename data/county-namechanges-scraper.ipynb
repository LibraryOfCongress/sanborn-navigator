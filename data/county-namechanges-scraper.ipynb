{
 "cells": [
  {
   "cell_type": "code",
   "execution_count": 43,
   "metadata": {},
   "outputs": [],
   "source": [
    "import requests\n",
    "import urllib.request\n",
    "import time\n",
    "from bs4 import BeautifulSoup\n",
    "import json"
   ]
  },
  {
   "cell_type": "code",
   "execution_count": 2,
   "metadata": {},
   "outputs": [],
   "source": [
    "url = 'https://wwwn.cdc.gov/eworld/Appendix/CountyEquivalents'\n",
    "response = requests.get(url)"
   ]
  },
  {
   "cell_type": "code",
   "execution_count": 13,
   "metadata": {},
   "outputs": [],
   "source": [
    "soup = BeautifulSoup(response.text, 'html.parser')"
   ]
  },
  {
   "cell_type": "code",
   "execution_count": 22,
   "metadata": {},
   "outputs": [
    {
     "data": {
      "text/plain": [
       "'Aleutians East Borough'"
      ]
     },
     "execution_count": 22,
     "metadata": {},
     "output_type": "execute_result"
    }
   ],
   "source": [
    "soup.findAll('td')[1].get_text().strip()"
   ]
  },
  {
   "cell_type": "code",
   "execution_count": 29,
   "metadata": {},
   "outputs": [],
   "source": [
    "state_names = ['Alaska', 'Arizona', 'Colorado', 'Florida', 'Hawaii',\n",
    "               'New Mexico', 'New York', 'South Dakota', 'Virginia']\n",
    "count = 1\n",
    "current_name = []\n",
    "previous_name = []\n",
    "for line in soup.findAll('td'):\n",
    "    line = line.get_text().strip()\n",
    "    if line in state_names:\n",
    "        continue\n",
    "    if count%3 == 1:\n",
    "        current_name.append(line)\n",
    "    elif count%3 == 2:\n",
    "        previous_name.append(line)\n",
    "    count+=1"
   ]
  },
  {
   "cell_type": "code",
   "execution_count": 30,
   "metadata": {},
   "outputs": [
    {
     "data": {
      "text/plain": [
       "['Aleutians East Borough',\n",
       " 'Aleutians West Census Area',\n",
       " 'Anchorage Borough',\n",
       " 'Bethel Census Area',\n",
       " 'Bristol Bay Borough2',\n",
       " 'Dillingham Census Area3',\n",
       " 'Lake and Peninsula Borough',\n",
       " 'Fairbanks North Star Borough',\n",
       " 'Southeast Fairbanks Census Area',\n",
       " 'Juneau Borough',\n",
       " 'Kenai Peninsula Borough',\n",
       " 'Ketchikan Gateway Borough',\n",
       " 'Kodiak Island Borough',\n",
       " 'Matanuska-Susitna Borough',\n",
       " 'Nome Census Area',\n",
       " 'North Slope Borough',\n",
       " 'Northwest Arctic Borough',\n",
       " 'Prince of Wales-Outer Ketchikan Census Area',\n",
       " 'Sitka Borough',\n",
       " 'Skagway-Hoonah-Angoon Census Area5',\n",
       " 'Yakutat Census Area',\n",
       " 'Valdez-Cordova Census Area',\n",
       " 'Wade Hampton Census Area',\n",
       " 'Wrangell-Petersburg Census Area',\n",
       " 'Yukon-Koyukuk Census Area7',\n",
       " 'Denali Borough',\n",
       " 'Yuma County8',\n",
       " 'La Paz County',\n",
       " 'Adams, Boulder, Jefferson, and Weld Counties9',\n",
       " 'Broomfield County',\n",
       " 'Miami-Dade County',\n",
       " 'Maui County10',\n",
       " 'Kalawao County',\n",
       " 'Valencia County11',\n",
       " 'Cibola County',\n",
       " 'Bronx County',\n",
       " 'Kings County',\n",
       " 'New York County',\n",
       " 'Queens County',\n",
       " 'Richmond County',\n",
       " 'Jackson County',\n",
       " 'Alleghany County12',\n",
       " 'Augusta County13',\n",
       " 'Waynesboro City',\n",
       " 'Chesapeake City14',\n",
       " 'Portsmouth City',\n",
       " 'Virginia Beach City',\n",
       " 'Frederick County15',\n",
       " 'Winchester City',\n",
       " 'Halifax County16',\n",
       " 'James City County17',\n",
       " 'Williamsburg City',\n",
       " 'Prince William County18',\n",
       " 'Manassas City',\n",
       " 'Manassas Park City',\n",
       " 'Suffolk City',\n",
       " 'Suffolk City',\n",
       " 'Suffolk City',\n",
       " 'York County19',\n",
       " 'Poquoson City']"
      ]
     },
     "execution_count": 30,
     "metadata": {},
     "output_type": "execute_result"
    }
   ],
   "source": [
    "current_name"
   ]
  },
  {
   "cell_type": "code",
   "execution_count": 37,
   "metadata": {},
   "outputs": [],
   "source": [
    "def remove_nums(strings):\n",
    "    for c in range(len(strings)):\n",
    "        strings[c] = ''.join([i for i in strings[c] if not i.isdigit()])"
   ]
  },
  {
   "cell_type": "code",
   "execution_count": 38,
   "metadata": {},
   "outputs": [],
   "source": [
    "remove_nums(current_name)\n",
    "remove_nums(previous_name)"
   ]
  },
  {
   "cell_type": "code",
   "execution_count": 40,
   "metadata": {},
   "outputs": [
    {
     "data": {
      "text/plain": [
       "['Aleutian Islands',\n",
       " 'Aleutian Islands',\n",
       " 'Anchorage District',\n",
       " 'Bethel District & Kuskokwim District',\n",
       " 'Bristol Bay Division',\n",
       " 'Bristol Bay Borough (in part)',\n",
       " 'Dillingham Census Area (in part)',\n",
       " 'Fairbanks District',\n",
       " 'Southeast Fairbanks District',\n",
       " 'Juneau District',\n",
       " 'Kenai-Cook Inlet District & Seward District',\n",
       " 'Ketchikan District',\n",
       " 'Ketchikan District',\n",
       " 'Palmer-Wasilla District',\n",
       " 'Nome District',\n",
       " 'Barrow District',\n",
       " 'Kobuk Census Area',\n",
       " 'Outer Ketchikan District & Prince of Wales District',\n",
       " 'Sitka District',\n",
       " 'Skagway-Yakutat-Angoon Census Area',\n",
       " 'Skagway-Yakutat-Angoon Census Area (in part)',\n",
       " 'Cordova-McCarthy District & Valdez-Chitina-Whittier District',\n",
       " 'Wade Hampton District',\n",
       " 'Wrangell District',\n",
       " 'Upper Yukon District & Yukon-Koyukuk District',\n",
       " 'Yukon-Koyukuk Census Area (in part)',\n",
       " 'Yuma County',\n",
       " 'Yuma County (in part)',\n",
       " 'Adams, Boulder, Jefferson, and Weld Counties',\n",
       " 'Adams, Boulder, Jefferson, and Weld Counties (in part)',\n",
       " 'Dade County',\n",
       " 'Maui County',\n",
       " 'Maui County (in part)',\n",
       " 'Valencia County',\n",
       " 'Valencia County (in part)',\n",
       " 'Bronx Borough',\n",
       " 'Brooklyn Borough',\n",
       " 'Manhattan Borough',\n",
       " 'Queens Borough',\n",
       " 'Staten Island Borough',\n",
       " 'Washabaugh County',\n",
       " 'Alleghany County',\n",
       " 'Augusta County',\n",
       " 'Augusta County (in part)',\n",
       " 'Chesapeake City',\n",
       " 'Chesapeake City (in part)',\n",
       " 'Chesapeake City (in part)',\n",
       " 'Frederick County',\n",
       " 'Frederick County (in part)',\n",
       " 'Halifax County',\n",
       " 'James City County',\n",
       " 'James City County (in part)',\n",
       " 'Prince William County',\n",
       " 'Prince William County (in part)',\n",
       " 'Prince William County (in part)',\n",
       " 'Suffolk City',\n",
       " 'Nansemond County',\n",
       " 'Nansemond City',\n",
       " 'York County',\n",
       " 'York County (in part)']"
      ]
     },
     "execution_count": 40,
     "metadata": {},
     "output_type": "execute_result"
    }
   ],
   "source": [
    "previous_name"
   ]
  },
  {
   "cell_type": "code",
   "execution_count": 41,
   "metadata": {},
   "outputs": [],
   "source": [
    "prev2curr = {}\n",
    "for i in range(len(previous_name)):\n",
    "    prev = previous_name[i]\n",
    "    curr = current_name[i]\n",
    "    if prev not in prev2curr:\n",
    "        prev2curr[prev] = []\n",
    "    prev2curr[prev].append(curr)"
   ]
  },
  {
   "cell_type": "code",
   "execution_count": 42,
   "metadata": {},
   "outputs": [
    {
     "data": {
      "text/plain": [
       "{'Aleutian Islands': ['Aleutians East Borough', 'Aleutians West Census Area'],\n",
       " 'Anchorage District': ['Anchorage Borough'],\n",
       " 'Bethel District & Kuskokwim District': ['Bethel Census Area'],\n",
       " 'Bristol Bay Division': ['Bristol Bay Borough'],\n",
       " 'Bristol Bay Borough (in part)': ['Dillingham Census Area'],\n",
       " 'Dillingham Census Area (in part)': ['Lake and Peninsula Borough'],\n",
       " 'Fairbanks District': ['Fairbanks North Star Borough'],\n",
       " 'Southeast Fairbanks District': ['Southeast Fairbanks Census Area'],\n",
       " 'Juneau District': ['Juneau Borough'],\n",
       " 'Kenai-Cook Inlet District & Seward District': ['Kenai Peninsula Borough'],\n",
       " 'Ketchikan District': ['Ketchikan Gateway Borough', 'Kodiak Island Borough'],\n",
       " 'Palmer-Wasilla District': ['Matanuska-Susitna Borough'],\n",
       " 'Nome District': ['Nome Census Area'],\n",
       " 'Barrow District': ['North Slope Borough'],\n",
       " 'Kobuk Census Area': ['Northwest Arctic Borough'],\n",
       " 'Outer Ketchikan District & Prince of Wales District': ['Prince of Wales-Outer Ketchikan Census Area'],\n",
       " 'Sitka District': ['Sitka Borough'],\n",
       " 'Skagway-Yakutat-Angoon Census Area': ['Skagway-Hoonah-Angoon Census Area'],\n",
       " 'Skagway-Yakutat-Angoon Census Area (in part)': ['Yakutat Census Area'],\n",
       " 'Cordova-McCarthy District & Valdez-Chitina-Whittier District': ['Valdez-Cordova Census Area'],\n",
       " 'Wade Hampton District': ['Wade Hampton Census Area'],\n",
       " 'Wrangell District': ['Wrangell-Petersburg Census Area'],\n",
       " 'Upper Yukon District & Yukon-Koyukuk District': ['Yukon-Koyukuk Census Area'],\n",
       " 'Yukon-Koyukuk Census Area (in part)': ['Denali Borough'],\n",
       " 'Yuma County': ['Yuma County'],\n",
       " 'Yuma County (in part)': ['La Paz County'],\n",
       " 'Adams, Boulder, Jefferson, and Weld Counties': ['Adams, Boulder, Jefferson, and Weld Counties'],\n",
       " 'Adams, Boulder, Jefferson, and Weld Counties (in part)': ['Broomfield County'],\n",
       " 'Dade County': ['Miami-Dade County'],\n",
       " 'Maui County': ['Maui County'],\n",
       " 'Maui County (in part)': ['Kalawao County'],\n",
       " 'Valencia County': ['Valencia County'],\n",
       " 'Valencia County (in part)': ['Cibola County'],\n",
       " 'Bronx Borough': ['Bronx County'],\n",
       " 'Brooklyn Borough': ['Kings County'],\n",
       " 'Manhattan Borough': ['New York County'],\n",
       " 'Queens Borough': ['Queens County'],\n",
       " 'Staten Island Borough': ['Richmond County'],\n",
       " 'Washabaugh County': ['Jackson County'],\n",
       " 'Alleghany County': ['Alleghany County'],\n",
       " 'Augusta County': ['Augusta County'],\n",
       " 'Augusta County (in part)': ['Waynesboro City'],\n",
       " 'Chesapeake City': ['Chesapeake City'],\n",
       " 'Chesapeake City (in part)': ['Portsmouth City', 'Virginia Beach City'],\n",
       " 'Frederick County': ['Frederick County'],\n",
       " 'Frederick County (in part)': ['Winchester City'],\n",
       " 'Halifax County': ['Halifax County'],\n",
       " 'James City County': ['James City County'],\n",
       " 'James City County (in part)': ['Williamsburg City'],\n",
       " 'Prince William County': ['Prince William County'],\n",
       " 'Prince William County (in part)': ['Manassas City', 'Manassas Park City'],\n",
       " 'Suffolk City': ['Suffolk City'],\n",
       " 'Nansemond County': ['Suffolk City'],\n",
       " 'Nansemond City': ['Suffolk City'],\n",
       " 'York County': ['York County'],\n",
       " 'York County (in part)': ['Poquoson City']}"
      ]
     },
     "execution_count": 42,
     "metadata": {},
     "output_type": "execute_result"
    }
   ],
   "source": [
    "prev2curr"
   ]
  },
  {
   "cell_type": "code",
   "execution_count": 44,
   "metadata": {},
   "outputs": [],
   "source": [
    "f = open('county-namechanges.json', 'w')\n",
    "f.write(json.dumps(prev2curr))\n",
    "f.close()"
   ]
  },
  {
   "cell_type": "code",
   "execution_count": null,
   "metadata": {},
   "outputs": [],
   "source": []
  }
 ],
 "metadata": {
  "kernelspec": {
   "display_name": "Python 3",
   "language": "python",
   "name": "python3"
  },
  "language_info": {
   "codemirror_mode": {
    "name": "ipython",
    "version": 3
   },
   "file_extension": ".py",
   "mimetype": "text/x-python",
   "name": "python",
   "nbconvert_exporter": "python",
   "pygments_lexer": "ipython3",
   "version": "3.7.4"
  }
 },
 "nbformat": 4,
 "nbformat_minor": 2
}
