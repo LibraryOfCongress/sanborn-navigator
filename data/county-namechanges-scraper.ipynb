{
 "cells": [
  {
   "cell_type": "code",
   "execution_count": 75,
   "metadata": {},
   "outputs": [],
   "source": [
    "import requests\n",
    "import urllib.request\n",
    "import time\n",
    "from bs4 import BeautifulSoup\n",
    "import json"
   ]
  },
  {
   "cell_type": "code",
   "execution_count": 76,
   "metadata": {},
   "outputs": [],
   "source": [
    "url = 'https://wwwn.cdc.gov/eworld/Appendix/CountyEquivalents'\n",
    "response = requests.get(url)"
   ]
  },
  {
   "cell_type": "code",
   "execution_count": 77,
   "metadata": {},
   "outputs": [],
   "source": [
    "soup = BeautifulSoup(response.text, 'html.parser')"
   ]
  },
  {
   "cell_type": "code",
   "execution_count": 78,
   "metadata": {},
   "outputs": [
    {
     "data": {
      "text/plain": [
       "'Aleutians East Borough'"
      ]
     },
     "execution_count": 78,
     "metadata": {},
     "output_type": "execute_result"
    }
   ],
   "source": [
    "soup.findAll('td')[1].get_text().strip()"
   ]
  },
  {
   "cell_type": "code",
   "execution_count": 79,
   "metadata": {},
   "outputs": [],
   "source": [
    "state_names = ['ALASKA', 'ARIZONA', 'COLORADO', 'FLORIDA', 'HAWAII',\n",
    "               'NEW MEXICO', 'NEW YORK', 'SOUTH DAKOTA', 'VIRGINIA']\n",
    "count = 1\n",
    "current_name = []\n",
    "previous_name = []\n",
    "for line in soup.findAll('td'):\n",
    "    line = line.get_text().strip().upper()\n",
    "    if line in state_names:\n",
    "        continue\n",
    "    if count%3 == 1:\n",
    "        current_name.append(line)\n",
    "    elif count%3 == 2:\n",
    "        previous_name.append(line)\n",
    "    count+=1"
   ]
  },
  {
   "cell_type": "code",
   "execution_count": 80,
   "metadata": {},
   "outputs": [
    {
     "data": {
      "text/plain": [
       "['ALEUTIANS EAST BOROUGH',\n",
       " 'ALEUTIANS WEST CENSUS AREA',\n",
       " 'ANCHORAGE BOROUGH',\n",
       " 'BETHEL CENSUS AREA',\n",
       " 'BRISTOL BAY BOROUGH2',\n",
       " 'DILLINGHAM CENSUS AREA3',\n",
       " 'LAKE AND PENINSULA BOROUGH',\n",
       " 'FAIRBANKS NORTH STAR BOROUGH',\n",
       " 'SOUTHEAST FAIRBANKS CENSUS AREA',\n",
       " 'JUNEAU BOROUGH',\n",
       " 'KENAI PENINSULA BOROUGH',\n",
       " 'KETCHIKAN GATEWAY BOROUGH',\n",
       " 'KODIAK ISLAND BOROUGH',\n",
       " 'MATANUSKA-SUSITNA BOROUGH',\n",
       " 'NOME CENSUS AREA',\n",
       " 'NORTH SLOPE BOROUGH',\n",
       " 'NORTHWEST ARCTIC BOROUGH',\n",
       " 'PRINCE OF WALES-OUTER KETCHIKAN CENSUS AREA',\n",
       " 'SITKA BOROUGH',\n",
       " 'SKAGWAY-HOONAH-ANGOON CENSUS AREA5',\n",
       " 'YAKUTAT CENSUS AREA',\n",
       " 'VALDEZ-CORDOVA CENSUS AREA',\n",
       " 'WADE HAMPTON CENSUS AREA',\n",
       " 'WRANGELL-PETERSBURG CENSUS AREA',\n",
       " 'YUKON-KOYUKUK CENSUS AREA7',\n",
       " 'DENALI BOROUGH',\n",
       " 'YUMA COUNTY8',\n",
       " 'LA PAZ COUNTY',\n",
       " 'ADAMS, BOULDER, JEFFERSON, AND WELD COUNTIES9',\n",
       " 'BROOMFIELD COUNTY',\n",
       " 'MIAMI-DADE COUNTY',\n",
       " 'MAUI COUNTY10',\n",
       " 'KALAWAO COUNTY',\n",
       " 'VALENCIA COUNTY11',\n",
       " 'CIBOLA COUNTY',\n",
       " 'BRONX COUNTY',\n",
       " 'KINGS COUNTY',\n",
       " 'NEW YORK COUNTY',\n",
       " 'QUEENS COUNTY',\n",
       " 'RICHMOND COUNTY',\n",
       " 'JACKSON COUNTY',\n",
       " 'ALLEGHANY COUNTY12',\n",
       " 'AUGUSTA COUNTY13',\n",
       " 'WAYNESBORO CITY',\n",
       " 'CHESAPEAKE CITY14',\n",
       " 'PORTSMOUTH CITY',\n",
       " 'VIRGINIA BEACH CITY',\n",
       " 'FREDERICK COUNTY15',\n",
       " 'WINCHESTER CITY',\n",
       " 'HALIFAX COUNTY16',\n",
       " 'JAMES CITY COUNTY17',\n",
       " 'WILLIAMSBURG CITY',\n",
       " 'PRINCE WILLIAM COUNTY18',\n",
       " 'MANASSAS CITY',\n",
       " 'MANASSAS PARK CITY',\n",
       " 'SUFFOLK CITY',\n",
       " 'SUFFOLK CITY',\n",
       " 'SUFFOLK CITY',\n",
       " 'YORK COUNTY19',\n",
       " 'POQUOSON CITY']"
      ]
     },
     "execution_count": 80,
     "metadata": {},
     "output_type": "execute_result"
    }
   ],
   "source": [
    "current_name"
   ]
  },
  {
   "cell_type": "code",
   "execution_count": 81,
   "metadata": {},
   "outputs": [],
   "source": [
    "def remove_nums(strings):\n",
    "    for c in range(len(strings)):\n",
    "        strings[c] = ''.join([i for i in strings[c] if not i.isdigit()])"
   ]
  },
  {
   "cell_type": "code",
   "execution_count": 82,
   "metadata": {},
   "outputs": [],
   "source": [
    "remove_nums(current_name)\n",
    "remove_nums(previous_name)"
   ]
  },
  {
   "cell_type": "code",
   "execution_count": 83,
   "metadata": {},
   "outputs": [
    {
     "data": {
      "text/plain": [
       "['ALEUTIAN ISLANDS',\n",
       " 'ALEUTIAN ISLANDS',\n",
       " 'ANCHORAGE DISTRICT',\n",
       " 'BETHEL DISTRICT & KUSKOKWIM DISTRICT',\n",
       " 'BRISTOL BAY DIVISION',\n",
       " 'BRISTOL BAY BOROUGH (IN PART)',\n",
       " 'DILLINGHAM CENSUS AREA (IN PART)',\n",
       " 'FAIRBANKS DISTRICT',\n",
       " 'SOUTHEAST FAIRBANKS DISTRICT',\n",
       " 'JUNEAU DISTRICT',\n",
       " 'KENAI-COOK INLET DISTRICT & SEWARD DISTRICT',\n",
       " 'KETCHIKAN DISTRICT',\n",
       " 'KETCHIKAN DISTRICT',\n",
       " 'PALMER-WASILLA DISTRICT',\n",
       " 'NOME DISTRICT',\n",
       " 'BARROW DISTRICT',\n",
       " 'KOBUK CENSUS AREA',\n",
       " 'OUTER KETCHIKAN DISTRICT & PRINCE OF WALES DISTRICT',\n",
       " 'SITKA DISTRICT',\n",
       " 'SKAGWAY-YAKUTAT-ANGOON CENSUS AREA',\n",
       " 'SKAGWAY-YAKUTAT-ANGOON CENSUS AREA (IN PART)',\n",
       " 'CORDOVA-MCCARTHY DISTRICT & VALDEZ-CHITINA-WHITTIER DISTRICT',\n",
       " 'WADE HAMPTON DISTRICT',\n",
       " 'WRANGELL DISTRICT',\n",
       " 'UPPER YUKON DISTRICT & YUKON-KOYUKUK DISTRICT',\n",
       " 'YUKON-KOYUKUK CENSUS AREA (IN PART)',\n",
       " 'YUMA COUNTY',\n",
       " 'YUMA COUNTY (IN PART)',\n",
       " 'ADAMS, BOULDER, JEFFERSON, AND WELD COUNTIES',\n",
       " 'ADAMS, BOULDER, JEFFERSON, AND WELD COUNTIES (IN PART)',\n",
       " 'DADE COUNTY',\n",
       " 'MAUI COUNTY',\n",
       " 'MAUI COUNTY (IN PART)',\n",
       " 'VALENCIA COUNTY',\n",
       " 'VALENCIA COUNTY (IN PART)',\n",
       " 'BRONX BOROUGH',\n",
       " 'BROOKLYN BOROUGH',\n",
       " 'MANHATTAN BOROUGH',\n",
       " 'QUEENS BOROUGH',\n",
       " 'STATEN ISLAND BOROUGH',\n",
       " 'WASHABAUGH COUNTY',\n",
       " 'ALLEGHANY COUNTY',\n",
       " 'AUGUSTA COUNTY',\n",
       " 'AUGUSTA COUNTY (IN PART)',\n",
       " 'CHESAPEAKE CITY',\n",
       " 'CHESAPEAKE CITY (IN PART)',\n",
       " 'CHESAPEAKE CITY (IN PART)',\n",
       " 'FREDERICK COUNTY',\n",
       " 'FREDERICK COUNTY (IN PART)',\n",
       " 'HALIFAX COUNTY',\n",
       " 'JAMES CITY COUNTY',\n",
       " 'JAMES CITY COUNTY (IN PART)',\n",
       " 'PRINCE WILLIAM COUNTY',\n",
       " 'PRINCE WILLIAM COUNTY (IN PART)',\n",
       " 'PRINCE WILLIAM COUNTY (IN PART)',\n",
       " 'SUFFOLK CITY',\n",
       " 'NANSEMOND COUNTY',\n",
       " 'NANSEMOND CITY',\n",
       " 'YORK COUNTY',\n",
       " 'YORK COUNTY (IN PART)']"
      ]
     },
     "execution_count": 83,
     "metadata": {},
     "output_type": "execute_result"
    }
   ],
   "source": [
    "previous_name"
   ]
  },
  {
   "cell_type": "code",
   "execution_count": 96,
   "metadata": {},
   "outputs": [],
   "source": [
    "def remove_suffix(words, remove):\n",
    "    for i in range(len(words)):\n",
    "        for r in remove:\n",
    "            words[i] = words[i].replace(r, '')"
   ]
  },
  {
   "cell_type": "code",
   "execution_count": 97,
   "metadata": {},
   "outputs": [],
   "source": [
    "to_remove = [' COUNTY', ' COUNTIES', ' DISTRICT', ' DIVISION', ' BOROUGH', ' CENSUS AREA']\n",
    "remove_suffix(previous_name, to_remove)\n",
    "remove_suffix(current_name, to_remove)"
   ]
  },
  {
   "cell_type": "code",
   "execution_count": 98,
   "metadata": {},
   "outputs": [
    {
     "data": {
      "text/plain": [
       "['ALEUTIAN ISLANDS',\n",
       " 'ALEUTIAN ISLANDS',\n",
       " 'ANCHORAGE',\n",
       " 'BETHEL & KUSKOKWIM',\n",
       " 'BRISTOL BAY',\n",
       " 'BRISTOL BAY (IN PART)',\n",
       " 'DILLINGHAM (IN PART)',\n",
       " 'FAIRBANKS',\n",
       " 'SOUTHEAST FAIRBANKS',\n",
       " 'JUNEAU',\n",
       " 'KENAI-COOK INLET & SEWARD',\n",
       " 'KETCHIKAN',\n",
       " 'KETCHIKAN',\n",
       " 'PALMER-WASILLA',\n",
       " 'NOME',\n",
       " 'BARROW',\n",
       " 'KOBUK',\n",
       " 'OUTER KETCHIKAN & PRINCE OF WALES',\n",
       " 'SITKA',\n",
       " 'SKAGWAY-YAKUTAT-ANGOON',\n",
       " 'SKAGWAY-YAKUTAT-ANGOON (IN PART)',\n",
       " 'CORDOVA-MCCARTHY & VALDEZ-CHITINA-WHITTIER',\n",
       " 'WADE HAMPTON',\n",
       " 'WRANGELL',\n",
       " 'UPPER YUKON & YUKON-KOYUKUK',\n",
       " 'YUKON-KOYUKUK (IN PART)',\n",
       " 'YUMA',\n",
       " 'YUMA (IN PART)',\n",
       " 'ADAMS, BOULDER, JEFFERSON, AND WELD',\n",
       " 'ADAMS, BOULDER, JEFFERSON, AND WELD (IN PART)',\n",
       " 'DADE',\n",
       " 'MAUI',\n",
       " 'MAUI (IN PART)',\n",
       " 'VALENCIA',\n",
       " 'VALENCIA (IN PART)',\n",
       " 'BRONX',\n",
       " 'BROOKLYN',\n",
       " 'MANHATTAN',\n",
       " 'QUEENS',\n",
       " 'STATEN ISLAND',\n",
       " 'WASHABAUGH',\n",
       " 'ALLEGHANY',\n",
       " 'AUGUSTA',\n",
       " 'AUGUSTA (IN PART)',\n",
       " 'CHESAPEAKE CITY',\n",
       " 'CHESAPEAKE CITY (IN PART)',\n",
       " 'CHESAPEAKE CITY (IN PART)',\n",
       " 'FREDERICK',\n",
       " 'FREDERICK (IN PART)',\n",
       " 'HALIFAX',\n",
       " 'JAMES CITY',\n",
       " 'JAMES CITY (IN PART)',\n",
       " 'PRINCE WILLIAM',\n",
       " 'PRINCE WILLIAM (IN PART)',\n",
       " 'PRINCE WILLIAM (IN PART)',\n",
       " 'SUFFOLK CITY',\n",
       " 'NANSEMOND',\n",
       " 'NANSEMOND CITY',\n",
       " 'YORK',\n",
       " 'YORK (IN PART)']"
      ]
     },
     "execution_count": 98,
     "metadata": {},
     "output_type": "execute_result"
    }
   ],
   "source": [
    "previous_name"
   ]
  },
  {
   "cell_type": "code",
   "execution_count": 99,
   "metadata": {},
   "outputs": [],
   "source": [
    "prev2curr = {}\n",
    "for i in range(len(previous_name)):\n",
    "    prev = previous_name[i]\n",
    "    curr = current_name[i]\n",
    "    if prev not in prev2curr:\n",
    "        prev2curr[prev] = []\n",
    "    prev2curr[prev].append(curr)"
   ]
  },
  {
   "cell_type": "code",
   "execution_count": 100,
   "metadata": {},
   "outputs": [
    {
     "data": {
      "text/plain": [
       "{'ALEUTIAN ISLANDS': ['ALEUTIANS EAST', 'ALEUTIANS WEST'],\n",
       " 'ANCHORAGE': ['ANCHORAGE'],\n",
       " 'BETHEL & KUSKOKWIM': ['BETHEL'],\n",
       " 'BRISTOL BAY': ['BRISTOL BAY'],\n",
       " 'BRISTOL BAY (IN PART)': ['DILLINGHAM'],\n",
       " 'DILLINGHAM (IN PART)': ['LAKE AND PENINSULA'],\n",
       " 'FAIRBANKS': ['FAIRBANKS NORTH STAR'],\n",
       " 'SOUTHEAST FAIRBANKS': ['SOUTHEAST FAIRBANKS'],\n",
       " 'JUNEAU': ['JUNEAU'],\n",
       " 'KENAI-COOK INLET & SEWARD': ['KENAI PENINSULA'],\n",
       " 'KETCHIKAN': ['KETCHIKAN GATEWAY', 'KODIAK ISLAND'],\n",
       " 'PALMER-WASILLA': ['MATANUSKA-SUSITNA'],\n",
       " 'NOME': ['NOME'],\n",
       " 'BARROW': ['NORTH SLOPE'],\n",
       " 'KOBUK': ['NORTHWEST ARCTIC'],\n",
       " 'OUTER KETCHIKAN & PRINCE OF WALES': ['PRINCE OF WALES-OUTER KETCHIKAN'],\n",
       " 'SITKA': ['SITKA'],\n",
       " 'SKAGWAY-YAKUTAT-ANGOON': ['SKAGWAY-HOONAH-ANGOON'],\n",
       " 'SKAGWAY-YAKUTAT-ANGOON (IN PART)': ['YAKUTAT'],\n",
       " 'CORDOVA-MCCARTHY & VALDEZ-CHITINA-WHITTIER': ['VALDEZ-CORDOVA'],\n",
       " 'WADE HAMPTON': ['WADE HAMPTON'],\n",
       " 'WRANGELL': ['WRANGELL-PETERSBURG'],\n",
       " 'UPPER YUKON & YUKON-KOYUKUK': ['YUKON-KOYUKUK'],\n",
       " 'YUKON-KOYUKUK (IN PART)': ['DENALI'],\n",
       " 'YUMA': ['YUMA'],\n",
       " 'YUMA (IN PART)': ['LA PAZ'],\n",
       " 'ADAMS, BOULDER, JEFFERSON, AND WELD': ['ADAMS, BOULDER, JEFFERSON, AND WELD'],\n",
       " 'ADAMS, BOULDER, JEFFERSON, AND WELD (IN PART)': ['BROOMFIELD'],\n",
       " 'DADE': ['MIAMI-DADE'],\n",
       " 'MAUI': ['MAUI'],\n",
       " 'MAUI (IN PART)': ['KALAWAO'],\n",
       " 'VALENCIA': ['VALENCIA'],\n",
       " 'VALENCIA (IN PART)': ['CIBOLA'],\n",
       " 'BRONX': ['BRONX'],\n",
       " 'BROOKLYN': ['KINGS'],\n",
       " 'MANHATTAN': ['NEW YORK'],\n",
       " 'QUEENS': ['QUEENS'],\n",
       " 'STATEN ISLAND': ['RICHMOND'],\n",
       " 'WASHABAUGH': ['JACKSON'],\n",
       " 'ALLEGHANY': ['ALLEGHANY'],\n",
       " 'AUGUSTA': ['AUGUSTA'],\n",
       " 'AUGUSTA (IN PART)': ['WAYNESBORO CITY'],\n",
       " 'CHESAPEAKE CITY': ['CHESAPEAKE CITY'],\n",
       " 'CHESAPEAKE CITY (IN PART)': ['PORTSMOUTH CITY', 'VIRGINIA BEACH CITY'],\n",
       " 'FREDERICK': ['FREDERICK'],\n",
       " 'FREDERICK (IN PART)': ['WINCHESTER CITY'],\n",
       " 'HALIFAX': ['HALIFAX'],\n",
       " 'JAMES CITY': ['JAMES CITY'],\n",
       " 'JAMES CITY (IN PART)': ['WILLIAMSBURG CITY'],\n",
       " 'PRINCE WILLIAM': ['PRINCE WILLIAM'],\n",
       " 'PRINCE WILLIAM (IN PART)': ['MANASSAS CITY', 'MANASSAS PARK CITY'],\n",
       " 'SUFFOLK CITY': ['SUFFOLK CITY'],\n",
       " 'NANSEMOND': ['SUFFOLK CITY'],\n",
       " 'NANSEMOND CITY': ['SUFFOLK CITY'],\n",
       " 'YORK': ['YORK'],\n",
       " 'YORK (IN PART)': ['POQUOSON CITY']}"
      ]
     },
     "execution_count": 100,
     "metadata": {},
     "output_type": "execute_result"
    }
   ],
   "source": [
    "prev2curr"
   ]
  },
  {
   "cell_type": "code",
   "execution_count": 86,
   "metadata": {},
   "outputs": [],
   "source": [
    "prev2curr2 = {}\n",
    "for prev in prev2curr:\n",
    "    if ' & ' in prev:\n",
    "        prev_split = prev.split(' & ')\n",
    "        for x in prev_split:\n",
    "            prev2curr2[x] = prev2curr[prev]\n",
    "    if ' AND ' in prev:\n",
    "        prev_split = prev.split(' AND ')\n",
    "        for x in prev_split:\n",
    "            prev2curr2[x] = prev2curr[prev]"
   ]
  },
  {
   "cell_type": "code",
   "execution_count": 89,
   "metadata": {},
   "outputs": [
    {
     "name": "stdout",
     "output_type": "stream",
     "text": [
      "BETHEL DISTRICT\n",
      "['BETHEL CENSUS AREA']\n",
      "KUSKOKWIM DISTRICT\n",
      "['BETHEL CENSUS AREA']\n",
      "KENAI-COOK INLET DISTRICT\n",
      "['KENAI PENINSULA BOROUGH']\n",
      "SEWARD DISTRICT\n",
      "['KENAI PENINSULA BOROUGH']\n",
      "OUTER KETCHIKAN DISTRICT\n",
      "['PRINCE OF WALES-OUTER KETCHIKAN CENSUS AREA']\n",
      "PRINCE OF WALES DISTRICT\n",
      "['PRINCE OF WALES-OUTER KETCHIKAN CENSUS AREA']\n",
      "CORDOVA-MCCARTHY DISTRICT\n",
      "['VALDEZ-CORDOVA CENSUS AREA']\n",
      "VALDEZ-CHITINA-WHITTIER DISTRICT\n",
      "['VALDEZ-CORDOVA CENSUS AREA']\n",
      "UPPER YUKON DISTRICT\n",
      "['YUKON-KOYUKUK CENSUS AREA']\n",
      "YUKON-KOYUKUK DISTRICT\n",
      "['YUKON-KOYUKUK CENSUS AREA']\n",
      "ADAMS, BOULDER, JEFFERSON,\n",
      "['BROOMFIELD COUNTY']\n",
      "WELD COUNTIES\n",
      "['ADAMS, BOULDER, JEFFERSON, AND WELD COUNTIES']\n",
      "WELD COUNTIES (IN PART)\n",
      "['BROOMFIELD COUNTY']\n"
     ]
    }
   ],
   "source": [
    "for prev in prev2curr2:\n",
    "    if prev not in prev2curr:\n",
    "        prev2curr[prev] = []\n",
    "    for x in prev2curr2[prev]:\n",
    "        prev2curr[prev].append(x)"
   ]
  },
  {
   "cell_type": "code",
   "execution_count": 90,
   "metadata": {},
   "outputs": [
    {
     "data": {
      "text/plain": [
       "{'ALEUTIAN ISLANDS': ['ALEUTIANS EAST BOROUGH', 'ALEUTIANS WEST CENSUS AREA'],\n",
       " 'ANCHORAGE DISTRICT': ['ANCHORAGE BOROUGH'],\n",
       " 'BETHEL DISTRICT & KUSKOKWIM DISTRICT': ['BETHEL CENSUS AREA'],\n",
       " 'BRISTOL BAY DIVISION': ['BRISTOL BAY BOROUGH'],\n",
       " 'BRISTOL BAY BOROUGH (IN PART)': ['DILLINGHAM CENSUS AREA'],\n",
       " 'DILLINGHAM CENSUS AREA (IN PART)': ['LAKE AND PENINSULA BOROUGH'],\n",
       " 'FAIRBANKS DISTRICT': ['FAIRBANKS NORTH STAR BOROUGH'],\n",
       " 'SOUTHEAST FAIRBANKS DISTRICT': ['SOUTHEAST FAIRBANKS CENSUS AREA'],\n",
       " 'JUNEAU DISTRICT': ['JUNEAU BOROUGH'],\n",
       " 'KENAI-COOK INLET DISTRICT & SEWARD DISTRICT': ['KENAI PENINSULA BOROUGH'],\n",
       " 'KETCHIKAN DISTRICT': ['KETCHIKAN GATEWAY BOROUGH', 'KODIAK ISLAND BOROUGH'],\n",
       " 'PALMER-WASILLA DISTRICT': ['MATANUSKA-SUSITNA BOROUGH'],\n",
       " 'NOME DISTRICT': ['NOME CENSUS AREA'],\n",
       " 'BARROW DISTRICT': ['NORTH SLOPE BOROUGH'],\n",
       " 'KOBUK CENSUS AREA': ['NORTHWEST ARCTIC BOROUGH'],\n",
       " 'OUTER KETCHIKAN DISTRICT & PRINCE OF WALES DISTRICT': ['PRINCE OF WALES-OUTER KETCHIKAN CENSUS AREA'],\n",
       " 'SITKA DISTRICT': ['SITKA BOROUGH'],\n",
       " 'SKAGWAY-YAKUTAT-ANGOON CENSUS AREA': ['SKAGWAY-HOONAH-ANGOON CENSUS AREA'],\n",
       " 'SKAGWAY-YAKUTAT-ANGOON CENSUS AREA (IN PART)': ['YAKUTAT CENSUS AREA'],\n",
       " 'CORDOVA-MCCARTHY DISTRICT & VALDEZ-CHITINA-WHITTIER DISTRICT': ['VALDEZ-CORDOVA CENSUS AREA'],\n",
       " 'WADE HAMPTON DISTRICT': ['WADE HAMPTON CENSUS AREA'],\n",
       " 'WRANGELL DISTRICT': ['WRANGELL-PETERSBURG CENSUS AREA'],\n",
       " 'UPPER YUKON DISTRICT & YUKON-KOYUKUK DISTRICT': ['YUKON-KOYUKUK CENSUS AREA'],\n",
       " 'YUKON-KOYUKUK CENSUS AREA (IN PART)': ['DENALI BOROUGH'],\n",
       " 'YUMA COUNTY': ['YUMA COUNTY'],\n",
       " 'YUMA COUNTY (IN PART)': ['LA PAZ COUNTY'],\n",
       " 'ADAMS, BOULDER, JEFFERSON, AND WELD COUNTIES': ['ADAMS, BOULDER, JEFFERSON, AND WELD COUNTIES'],\n",
       " 'ADAMS, BOULDER, JEFFERSON, AND WELD COUNTIES (IN PART)': ['BROOMFIELD COUNTY'],\n",
       " 'DADE COUNTY': ['MIAMI-DADE COUNTY'],\n",
       " 'MAUI COUNTY': ['MAUI COUNTY'],\n",
       " 'MAUI COUNTY (IN PART)': ['KALAWAO COUNTY'],\n",
       " 'VALENCIA COUNTY': ['VALENCIA COUNTY'],\n",
       " 'VALENCIA COUNTY (IN PART)': ['CIBOLA COUNTY'],\n",
       " 'BRONX BOROUGH': ['BRONX COUNTY'],\n",
       " 'BROOKLYN BOROUGH': ['KINGS COUNTY'],\n",
       " 'MANHATTAN BOROUGH': ['NEW YORK COUNTY'],\n",
       " 'QUEENS BOROUGH': ['QUEENS COUNTY'],\n",
       " 'STATEN ISLAND BOROUGH': ['RICHMOND COUNTY'],\n",
       " 'WASHABAUGH COUNTY': ['JACKSON COUNTY'],\n",
       " 'ALLEGHANY COUNTY': ['ALLEGHANY COUNTY'],\n",
       " 'AUGUSTA COUNTY': ['AUGUSTA COUNTY'],\n",
       " 'AUGUSTA COUNTY (IN PART)': ['WAYNESBORO CITY'],\n",
       " 'CHESAPEAKE CITY': ['CHESAPEAKE CITY'],\n",
       " 'CHESAPEAKE CITY (IN PART)': ['PORTSMOUTH CITY', 'VIRGINIA BEACH CITY'],\n",
       " 'FREDERICK COUNTY': ['FREDERICK COUNTY'],\n",
       " 'FREDERICK COUNTY (IN PART)': ['WINCHESTER CITY'],\n",
       " 'HALIFAX COUNTY': ['HALIFAX COUNTY'],\n",
       " 'JAMES CITY COUNTY': ['JAMES CITY COUNTY'],\n",
       " 'JAMES CITY COUNTY (IN PART)': ['WILLIAMSBURG CITY'],\n",
       " 'PRINCE WILLIAM COUNTY': ['PRINCE WILLIAM COUNTY'],\n",
       " 'PRINCE WILLIAM COUNTY (IN PART)': ['MANASSAS CITY', 'MANASSAS PARK CITY'],\n",
       " 'SUFFOLK CITY': ['SUFFOLK CITY'],\n",
       " 'NANSEMOND COUNTY': ['SUFFOLK CITY'],\n",
       " 'NANSEMOND CITY': ['SUFFOLK CITY'],\n",
       " 'YORK COUNTY': ['YORK COUNTY'],\n",
       " 'YORK COUNTY (IN PART)': ['POQUOSON CITY'],\n",
       " 'BETHEL DISTRICT': ['BETHEL CENSUS AREA'],\n",
       " 'KUSKOKWIM DISTRICT': ['BETHEL CENSUS AREA'],\n",
       " 'KENAI-COOK INLET DISTRICT': ['KENAI PENINSULA BOROUGH'],\n",
       " 'SEWARD DISTRICT': ['KENAI PENINSULA BOROUGH'],\n",
       " 'OUTER KETCHIKAN DISTRICT': ['PRINCE OF WALES-OUTER KETCHIKAN CENSUS AREA'],\n",
       " 'PRINCE OF WALES DISTRICT': ['PRINCE OF WALES-OUTER KETCHIKAN CENSUS AREA'],\n",
       " 'CORDOVA-MCCARTHY DISTRICT': ['VALDEZ-CORDOVA CENSUS AREA'],\n",
       " 'VALDEZ-CHITINA-WHITTIER DISTRICT': ['VALDEZ-CORDOVA CENSUS AREA'],\n",
       " 'UPPER YUKON DISTRICT': ['YUKON-KOYUKUK CENSUS AREA'],\n",
       " 'YUKON-KOYUKUK DISTRICT': ['YUKON-KOYUKUK CENSUS AREA'],\n",
       " 'ADAMS, BOULDER, JEFFERSON,': ['BROOMFIELD COUNTY'],\n",
       " 'WELD COUNTIES': ['ADAMS, BOULDER, JEFFERSON, AND WELD COUNTIES'],\n",
       " 'WELD COUNTIES (IN PART)': ['BROOMFIELD COUNTY']}"
      ]
     },
     "execution_count": 90,
     "metadata": {},
     "output_type": "execute_result"
    }
   ],
   "source": [
    "prev2curr"
   ]
  },
  {
   "cell_type": "code",
   "execution_count": 91,
   "metadata": {},
   "outputs": [],
   "source": [
    "f = open('county-namechanges.json', 'w')\n",
    "f.write(json.dumps(prev2curr))\n",
    "f.close()"
   ]
  }
 ],
 "metadata": {
  "kernelspec": {
   "display_name": "Python 3",
   "language": "python",
   "name": "python3"
  },
  "language_info": {
   "codemirror_mode": {
    "name": "ipython",
    "version": 3
   },
   "file_extension": ".py",
   "mimetype": "text/x-python",
   "name": "python",
   "nbconvert_exporter": "python",
   "pygments_lexer": "ipython3",
   "version": "3.7.4"
  }
 },
 "nbformat": 4,
 "nbformat_minor": 2
}
