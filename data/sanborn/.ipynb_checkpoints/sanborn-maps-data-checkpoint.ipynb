{
 "cells": [
  {
   "cell_type": "markdown",
   "metadata": {},
   "source": [
    "# Sanborn Maps Data Collection\n",
    "\n",
    "This notebook contains code for querying the Library of Congress API for the records from each state, organizing by county, and writing them into a file. Be aware, this does take a while to run! It took me several hours, and the final data file ended up around 23 MB.\n",
    "\n",
    "We'll start by importing the requests and json modules, which will allow us to query and write to JSON formatting."
   ]
  },
  {
   "cell_type": "code",
   "execution_count": 2,
   "metadata": {},
   "outputs": [],
   "source": [
    "import requests\n",
    "import json"
   ]
  },
  {
   "cell_type": "markdown",
   "metadata": {},
   "source": [
    "Then, let's take a look at what information we get from the API and how it's organized.\n",
    "\n",
    "I'm going to query by state because it's an organization that will be useful in my project. For large amounts of data, you need to split up collection into chunks in some mutually exclusive way because the Library's API limits how many requests you can do in a period of time for security purposes. You can do this by adding parameters to your request url. In this case, I'm adding \"&fa=location:alabama\" to limit searching to Alabama."
   ]
  },
  {
   "cell_type": "code",
   "execution_count": 3,
   "metadata": {},
   "outputs": [],
   "source": [
    "alabama = requests.get(\"https://www.loc.gov/collections/sanborn-maps/?fo=json&fa=location:alabama\").json()"
   ]
  },
  {
   "cell_type": "markdown",
   "metadata": {},
   "source": [
    "The results are within the resulting JSON file, in a list under the \"results\" key."
   ]
  },
  {
   "cell_type": "code",
   "execution_count": 9,
   "metadata": {},
   "outputs": [
    {
     "data": {
      "text/plain": [
       "{'item': {'digital_id': ['https://www.loc.gov/item/sanborn00001_001',\n",
       "   'http://hdl.loc.gov/loc.gmd/g3974am.g3974am_g000011907',\n",
       "   'https://www.loc.gov/resource/g3974am.g3974am_g000011907'],\n",
       "  'repository': 'Library of Congress Geography and Map Division Washington, D.C. 20540-4650 USA',\n",
       "  'language': 'English',\n",
       "  'title': 'Sanborn Fire Insurance Map from Abbeville, Henry County, Alabama.',\n",
       "  'notes': [' Jun 1907. ', ' 2. ', ' Acquired after 1981. '],\n",
       "  'format': 'cartographic',\n",
       "  'created_published': 'Sanborn Map Company, Jun 1907'},\n",
       " 'access_restricted': False,\n",
       " 'site': ['ammem'],\n",
       " 'original_format': ['map'],\n",
       " 'id': 'http://www.loc.gov/item/sanborn00001_001/',\n",
       " 'partof': ['american memory', 'sanborn maps', 'geography and maps division'],\n",
       " 'index': 1,\n",
       " 'group': ['sanborn'],\n",
       " 'title': 'Sanborn Fire Insurance Map from Abbeville, Henry County, Alabama.',\n",
       " 'segments': [{'url': 'https://www.loc.gov/resource/g3974am.g3974am_g000011907/',\n",
       "   'count': 2,\n",
       "   'link': 'https://www.loc.gov/collections/sanborn-maps/?fa=segmentof:g3974am.g3974am_g000011907/&fo=json&sb=shelf-id&st=gallery'}],\n",
       " 'online_format': ['image'],\n",
       " 'resources': [{'files': 2,\n",
       "   'url': 'https://www.loc.gov/resource/g3974am.g3974am_g000011907/',\n",
       "   'image': 'https://tile.loc.gov/storage-services/service/gmd/gmd397m/g3974m/g3974am/g3974am_g000011907/00001_1907-0001.gif',\n",
       "   'search': 'https://www.loc.gov/collections/sanborn-maps/?fa=segmentof:g3974am.g3974am_g000011907/&fo=json&sb=shelf-id&st=gallery',\n",
       "   'segments': 2}],\n",
       " 'location': ['alabama', 'abbeville', 'henry county'],\n",
       " 'digitized': True,\n",
       " 'description': ['Jun 1907.   2.   Acquired after 1981.'],\n",
       " 'timestamp': '2020-05-01T18:43:11.234Z',\n",
       " 'campaigns': [],\n",
       " 'extract_timestamp': '2020-05-01T18:38:45.660Z',\n",
       " 'date': '1907-06',\n",
       " 'shelf_id': 'http://www.loc.gov/item/sanborn00001_001/',\n",
       " 'other_title': [],\n",
       " 'dates': ['1907-06-01T00:00:00Z', '1907-01-01T00:00:00Z'],\n",
       " 'language': ['english'],\n",
       " 'url': 'https://www.loc.gov/item/sanborn00001_001/',\n",
       " 'hassegments': True,\n",
       " 'image_url': ['https://tile.loc.gov/storage-services/service/gmd/gmd397m/g3974m/g3974am/g3974am_g000011907/00001_1907-0001.gif',\n",
       "  'https://tile.loc.gov/storage-services/service/gmd/gmd397m/g3974m/g3974am/g3974am_g000011907/00001_1907-0001.gif#h=150&w=126',\n",
       "  'https://tile.loc.gov/image-services/iiif/service:gmd:gmd397m:g3974m:g3974am:g3974am_g000011907:00001_1907-0001/full/pct:12.5/0/default.jpg#h=956&w=806',\n",
       "  'https://tile.loc.gov/image-services/iiif/service:gmd:gmd397m:g3974m:g3974am:g3974am_g000011907:00001_1907-0001/full/pct:25/0/default.jpg#h=1912&w=1612'],\n",
       " 'mime_type': ['image/gif', 'image/jpg', 'image/jp2'],\n",
       " 'aka': ['http://www.loc.gov/item/sanborn00001_001/',\n",
       "  'http://hdl.loc.gov/loc.gmd/g3974am.g3974am_g000011907',\n",
       "  'http://www.loc.gov/resource/g3974am.g3974am_g000011907/']}"
      ]
     },
     "execution_count": 9,
     "metadata": {},
     "output_type": "execute_result"
    }
   ],
   "source": [
    "alabama[\"results\"][0]"
   ]
  },
  {
   "cell_type": "markdown",
   "metadata": {},
   "source": [
    "## Defining Functions\n",
    "\n",
    "Of this information, I want to keep or construct the name, date, thumbnail URLs, IIIF URLs, and the URL that links back to the LOC site. These functions defined below are helper functions that aid in doing each of those, with a tester statement to make sure that the function produces the desired results.\n",
    "\n",
    "Also, instead of using the location in the metadata, I pulled city, county, and state from the item name. While not perfect, this method allows for standardization across the records — the names always have city, county, state, in that order and with the comma separation. For the listed place names, the order is not always the same, and even the number of places listed can vary."
   ]
  },
  {
   "cell_type": "code",
   "execution_count": 2,
   "metadata": {},
   "outputs": [
    {
     "name": "stdout",
     "output_type": "stream",
     "text": [
      "['City', 'County', 'State']\n"
     ]
    }
   ],
   "source": [
    "# function to return location in an array [city, county, state]\n",
    "def getLocation(name):\n",
    "    nameArr = name.split(\", \")\n",
    "    nameArr[0] = nameArr[0][32:]\n",
    "    nameArr[2] = nameArr[2][:-1]\n",
    "    return nameArr\n",
    "\n",
    "print(getLocation(\"Sanborn Fire Insurance Map From City, County, State.\"))"
   ]
  },
  {
   "cell_type": "markdown",
   "metadata": {},
   "source": [
    "While I have not yet incorporated the IIIF URLs into my project, I decided to construct these from the metadata so that I would be able to use the high definition images if needed later. For more information on the International Image Interoperability Framework, see the Library's [guide to using IIIF](https://github.com/LibraryOfCongress/data-exploration/blob/master/IIIF.ipynb)."
   ]
  },
  {
   "cell_type": "code",
   "execution_count": 3,
   "metadata": {},
   "outputs": [
    {
     "name": "stdout",
     "output_type": "stream",
     "text": [
      "['test.jpg']\n"
     ]
    }
   ],
   "source": [
    "# function to get the IIIF urls for the images\n",
    "def getIIIF(image_urls):\n",
    "    iiif_urls = []\n",
    "    start = int(len(image_urls)/2)\n",
    "    for i in range(start, len(image_urls)):\n",
    "        format_url = image_urls[int(len(image_urls)/2)].split(\"#\")\n",
    "        iiif_urls.append(format_url[0])\n",
    "    return iiif_urls\n",
    "\n",
    "print(getIIIF([\"test.jpg23rwe\", \"test.jpg#adfadsf\"]))"
   ]
  },
  {
   "cell_type": "markdown",
   "metadata": {},
   "source": [
    "This function writes a single item's information into a JSON file. I first create an empty dictionary, temp, then add each of the pieces of information into it. That can then be formatted and written into a file using json.dumps()."
   ]
  },
  {
   "cell_type": "code",
   "execution_count": 10,
   "metadata": {},
   "outputs": [],
   "source": [
    "# function to write the info of one item to a JSON file\n",
    "def writeItem(item, filewriter):\n",
    "    temp = dict()\n",
    "    temp[\"name\"] = item[\"title\"]\n",
    "    temp[\"all_image_urls\"] = item[\"image_url\"]\n",
    "    temp[\"thumbnail_urls\"] = all_image_urls[:int(len(all_image_urls)/2)]\n",
    "    temp[\"iiif_urls\"] = getIIIF(all_image_urls)\n",
    "    temp[\"item_url\"] = item[\"url\"]\n",
    "    if \"date\" in item:\n",
    "        temp[\"date\"] = item[\"date\"]\n",
    "    else:\n",
    "        temp[\"date\"] = \"null\"\n",
    "        print(name)\n",
    "        print(item_url) # these print statements are used to show if there are any issues that need to be fixed manually\n",
    "    \n",
    "    # json.dumps() is used to add the double quotes where expected\n",
    "    filewriter.write(json.dumps(temp))"
   ]
  },
  {
   "cell_type": "markdown",
   "metadata": {},
   "source": [
    "The separate function categorizes the results, given the list of items and the level being separated. It creates a new dictionary that attaches county names as keys to a list of items in that county (with level==1), and can do the same for city names and a list of items in the city (with level==0)."
   ]
  },
  {
   "cell_type": "code",
   "execution_count": 5,
   "metadata": {},
   "outputs": [],
   "source": [
    "# function to put results into buckets\n",
    "# should work for state level separating counties and county level separating cities\n",
    "def separate(parent_items, level):\n",
    "    child_dict = dict()\n",
    "    for item in parent_items:\n",
    "        child = getLocation(item[\"title\"])[level]\n",
    "        if child not in child_dict.keys():\n",
    "            child_dict[child] = []\n",
    "        child_dict[child].append(item)\n",
    "    return child_dict"
   ]
  },
  {
   "cell_type": "code",
   "execution_count": 6,
   "metadata": {},
   "outputs": [],
   "source": [
    "# function for one state - separating and writing\n",
    "def writeState(state_items, state, filewriter):\n",
    "    # check if all are in the correct state\n",
    "    temp = []\n",
    "    for item in state_items:\n",
    "        if getLocation(item[\"title\"])[2]==state:\n",
    "            temp.append(item)\n",
    "    state_items = temp\n",
    "    # separate by county, then by city\n",
    "    by_county = separate(state_items, 1)\n",
    "    for county in by_county.keys():\n",
    "        by_county[county] = separate(by_county[county], 0)\n",
    "    \n",
    "    filewriter.write('{\"state\": '+ json.dumps(state) + ', \"counties\": [')\n",
    "    \n",
    "    ccounty=0\n",
    "    for county in by_county.keys():\n",
    "        ccounty += 1\n",
    "        filewriter.write('{\"county\": ' + json.dumps(county) + ', \"cities\": [')\n",
    "        ccity=0\n",
    "        for city in by_county[county].keys():\n",
    "            ccity += 1\n",
    "            filewriter.write('{\"city\": ' + json.dumps(city) + ', \"items\": [')\n",
    "            citem=0\n",
    "            for item in by_county[county][city]:\n",
    "                citem += 1\n",
    "                writeItem(item, filewriter)\n",
    "                if citem < len(by_county[county][city]):\n",
    "                    filewriter.write(', ')\n",
    "                else:\n",
    "                    filewriter.write(']}')\n",
    "            if ccity < len(by_county[county]):\n",
    "                filewriter.write(', ')\n",
    "            else:\n",
    "                filewriter.write(']}')\n",
    "        if ccounty < len(by_county.keys()):\n",
    "            filewriter.write(', ')\n",
    "        else:\n",
    "            filewriter.write(']}')"
   ]
  },
  {
   "cell_type": "markdown",
   "metadata": {},
   "source": [
    "## Querying and Writing Data\n",
    "\n",
    "As mentioned above, I separated requests by state. This was useful for the way my project is organized, but may not be the goal of other future projects. I also added an additional tag (\"&c=[results per page]\") where I could to reduce the number of pages, though I noticed through some trial and error that adding a count per page greater than about 900 would create other issues.\n",
    "\n",
    "The first opening of the file needed to write the file using the \"w\" tag where the later ones append using \"a\"."
   ]
  },
  {
   "cell_type": "code",
   "execution_count": 130,
   "metadata": {},
   "outputs": [],
   "source": [
    "# 392\n",
    "alabama = requests.get(\"https://www.loc.gov/collections/sanborn-maps/?fo=json&fa=location:alabama&c=400\").json()"
   ]
  },
  {
   "cell_type": "code",
   "execution_count": 131,
   "metadata": {},
   "outputs": [],
   "source": [
    "f = open(\"sanborn-maps-data-all.json\", \"w\")\n",
    "f.write(\"[\")\n",
    "writeState(alabama[\"results\"], \"Alabama\", f)\n",
    "f.write(\", \")\n",
    "f.close()"
   ]
  },
  {
   "cell_type": "code",
   "execution_count": 132,
   "metadata": {},
   "outputs": [],
   "source": [
    "# 26\n",
    "alaska = requests.get(\"https://www.loc.gov/collections/sanborn-maps/?fo=json&fa=location:alaska\").json()\n",
    "\n",
    "f = open(\"sanborn-maps-data-all.json\", \"a\")\n",
    "writeState(alaska[\"results\"], \"Alaska\", f)\n",
    "f.write(\", \")\n",
    "f.close()"
   ]
  },
  {
   "cell_type": "code",
   "execution_count": 133,
   "metadata": {},
   "outputs": [],
   "source": [
    "# 167\n",
    "arizona = requests.get(\"https://www.loc.gov/collections/sanborn-maps/?fo=json&fa=location:arizona&c=200\").json()\n",
    "\n",
    "f = open(\"sanborn-maps-data-all.json\", \"a\")\n",
    "writeState(arizona[\"results\"], \"Arizona\", f)\n",
    "f.write(\", \")\n",
    "f.close()"
   ]
  },
  {
   "cell_type": "code",
   "execution_count": 134,
   "metadata": {},
   "outputs": [],
   "source": [
    "# 573\n",
    "arkansas = requests.get(\"https://www.loc.gov/collections/sanborn-maps/?fo=json&fa=location:arkansas&c=600\").json()\n",
    "\n",
    "f = open(\"sanborn-maps-data-all.json\", \"a\")\n",
    "writeState(arkansas[\"results\"], \"Arkansas\", f)\n",
    "f.write(\", \")\n",
    "f.close()"
   ]
  },
  {
   "cell_type": "code",
   "execution_count": 135,
   "metadata": {},
   "outputs": [],
   "source": [
    "# 716\n",
    "california = requests.get(\"https://www.loc.gov/collections/sanborn-maps/?fo=json&fa=location:california&c=750\").json()\n",
    "\n",
    "f = open(\"sanborn-maps-data-all.json\", \"a\")\n",
    "writeState(california[\"results\"], \"California\", f)\n",
    "f.write(\", \")\n",
    "f.close()"
   ]
  },
  {
   "cell_type": "code",
   "execution_count": 136,
   "metadata": {},
   "outputs": [],
   "source": [
    "# 527\n",
    "colorado = requests.get(\"https://www.loc.gov/collections/sanborn-maps/?fo=json&fa=location:colorado&c=550\").json()\n",
    "\n",
    "f = open(\"sanborn-maps-data-all.json\", \"a\")\n",
    "writeState(colorado[\"results\"], \"Colorado\", f)\n",
    "f.write(\", \")\n",
    "f.close()"
   ]
  },
  {
   "cell_type": "code",
   "execution_count": 8,
   "metadata": {},
   "outputs": [],
   "source": [
    "# 463\n",
    "connecticut = requests.get(\"https://www.loc.gov/collections/sanborn-maps/?fo=json&fa=location:connecticut&c=470\").json()\n",
    "\n",
    "f = open(\"sanborn-maps-data-all.json\", \"a\")\n",
    "writeState(connecticut[\"results\"], \"Connecticut\", f)\n",
    "f.write(\", \")\n",
    "f.close()"
   ]
  },
  {
   "cell_type": "code",
   "execution_count": 9,
   "metadata": {},
   "outputs": [],
   "source": [
    "# 101\n",
    "delaware = requests.get(\"https://www.loc.gov/collections/sanborn-maps/?fo=json&fa=location:delaware&c=120\").json()\n",
    "\n",
    "f = open(\"sanborn-maps-data-all.json\", \"a\")\n",
    "writeState(delaware[\"results\"], \"Delaware\", f)\n",
    "f.write(\", \")\n",
    "f.close()"
   ]
  },
  {
   "cell_type": "code",
   "execution_count": 10,
   "metadata": {},
   "outputs": [],
   "source": [
    "# 428\n",
    "florida = requests.get(\"https://www.loc.gov/collections/sanborn-maps/?fo=json&fa=location:florida&c=450\").json()\n",
    "\n",
    "f = open(\"sanborn-maps-data-all.json\", \"a\")\n",
    "writeState(florida[\"results\"], \"Florida\", f)\n",
    "f.write(\", \")\n",
    "f.close()"
   ]
  },
  {
   "cell_type": "code",
   "execution_count": 20,
   "metadata": {},
   "outputs": [
    {
     "name": "stdout",
     "output_type": "stream",
     "text": [
      "Sanborn Fire Insurance Map from Darien, McIntosh County, Georgia.\n",
      "https://www.loc.gov/item/sanborn01417_009/\n"
     ]
    }
   ],
   "source": [
    "# 592\n",
    "georgia = requests.get(\"https://www.loc.gov/collections/sanborn-maps/?fo=json&fa=location:georgia&c=600\").json()\n",
    "\n",
    "f = open(\"georgia-fix.json\", \"w\") # in a different file because had a missing date, updated writeItem to account for that\n",
    "writeState(georgia[\"results\"], \"Georgia\", f)\n",
    "f.write(\", \")\n",
    "f.close()"
   ]
  },
  {
   "cell_type": "code",
   "execution_count": 22,
   "metadata": {},
   "outputs": [],
   "source": [
    "# 39\n",
    "hawaii = requests.get(\"https://www.loc.gov/collections/sanborn-maps/?fo=json&fa=location:hawaii&c=50\").json()\n",
    "\n",
    "f = open(\"sanborn-maps-data-all.json\", \"a\")\n",
    "writeState(hawaii[\"results\"], \"Hawaii\", f)\n",
    "f.write(\", \")\n",
    "f.close()"
   ]
  },
  {
   "cell_type": "code",
   "execution_count": 23,
   "metadata": {},
   "outputs": [],
   "source": [
    "# 395\n",
    "idaho = requests.get(\"https://www.loc.gov/collections/sanborn-maps/?fo=json&fa=location:idaho&c=400\").json()\n",
    "\n",
    "f = open(\"sanborn-maps-data-all.json\", \"a\")\n",
    "writeState(idaho[\"results\"], \"Idaho\", f)\n",
    "f.write(\", \")\n",
    "f.close()"
   ]
  },
  {
   "cell_type": "markdown",
   "metadata": {},
   "source": [
    "Illinois is an example of a state with so many results that I needed to loop through the pages. This particular code has some issues in that each page was written separately instead of combined and written together. That created multiple of Illinois with some overlapping counties that I later had to go in and fix with [another script](https://github.com/selenaqian/sanborn-maps-navigator/blob/master/data/sanborn/paginatedstate-fix-script.py)."
   ]
  },
  {
   "cell_type": "code",
   "execution_count": 26,
   "metadata": {},
   "outputs": [
    {
     "name": "stdout",
     "output_type": "stream",
     "text": [
      "https://www.loc.gov/collections/sanborn-maps/?fa=location:illinois&fo=json&sp=2\n",
      "https://www.loc.gov/collections/sanborn-maps/?fa=location:illinois&fo=json&sp=3\n",
      "https://www.loc.gov/collections/sanborn-maps/?fa=location:illinois&fo=json&sp=4\n",
      "https://www.loc.gov/collections/sanborn-maps/?fa=location:illinois&fo=json&sp=5\n",
      "https://www.loc.gov/collections/sanborn-maps/?fa=location:illinois&fo=json&sp=6\n",
      "https://www.loc.gov/collections/sanborn-maps/?fa=location:illinois&fo=json&sp=7\n",
      "https://www.loc.gov/collections/sanborn-maps/?fa=location:illinois&fo=json&sp=8\n",
      "https://www.loc.gov/collections/sanborn-maps/?fa=location:illinois&fo=json&sp=9\n",
      "https://www.loc.gov/collections/sanborn-maps/?fa=location:illinois&fo=json&sp=10\n",
      "https://www.loc.gov/collections/sanborn-maps/?fa=location:illinois&fo=json&sp=11\n",
      "https://www.loc.gov/collections/sanborn-maps/?fa=location:illinois&fo=json&sp=12\n",
      "https://www.loc.gov/collections/sanborn-maps/?fa=location:illinois&fo=json&sp=13\n",
      "https://www.loc.gov/collections/sanborn-maps/?fa=location:illinois&fo=json&sp=14\n",
      "https://www.loc.gov/collections/sanborn-maps/?fa=location:illinois&fo=json&sp=15\n",
      "https://www.loc.gov/collections/sanborn-maps/?fa=location:illinois&fo=json&sp=16\n",
      "https://www.loc.gov/collections/sanborn-maps/?fa=location:illinois&fo=json&sp=17\n",
      "https://www.loc.gov/collections/sanborn-maps/?fa=location:illinois&fo=json&sp=18\n",
      "https://www.loc.gov/collections/sanborn-maps/?fa=location:illinois&fo=json&sp=19\n",
      "https://www.loc.gov/collections/sanborn-maps/?fa=location:illinois&fo=json&sp=20\n",
      "https://www.loc.gov/collections/sanborn-maps/?fa=location:illinois&fo=json&sp=21\n",
      "https://www.loc.gov/collections/sanborn-maps/?fa=location:illinois&fo=json&sp=22\n",
      "https://www.loc.gov/collections/sanborn-maps/?fa=location:illinois&fo=json&sp=23\n",
      "https://www.loc.gov/collections/sanborn-maps/?fa=location:illinois&fo=json&sp=24\n",
      "https://www.loc.gov/collections/sanborn-maps/?fa=location:illinois&fo=json&sp=25\n",
      "https://www.loc.gov/collections/sanborn-maps/?fa=location:illinois&fo=json&sp=26\n",
      "https://www.loc.gov/collections/sanborn-maps/?fa=location:illinois&fo=json&sp=27\n",
      "https://www.loc.gov/collections/sanborn-maps/?fa=location:illinois&fo=json&sp=28\n",
      "https://www.loc.gov/collections/sanborn-maps/?fa=location:illinois&fo=json&sp=29\n",
      "https://www.loc.gov/collections/sanborn-maps/?fa=location:illinois&fo=json&sp=30\n",
      "https://www.loc.gov/collections/sanborn-maps/?fa=location:illinois&fo=json&sp=31\n",
      "https://www.loc.gov/collections/sanborn-maps/?fa=location:illinois&fo=json&sp=32\n",
      "https://www.loc.gov/collections/sanborn-maps/?fa=location:illinois&fo=json&sp=33\n",
      "https://www.loc.gov/collections/sanborn-maps/?fa=location:illinois&fo=json&sp=34\n",
      "https://www.loc.gov/collections/sanborn-maps/?fa=location:illinois&fo=json&sp=35\n",
      "https://www.loc.gov/collections/sanborn-maps/?fa=location:illinois&fo=json&sp=36\n",
      "https://www.loc.gov/collections/sanborn-maps/?fa=location:illinois&fo=json&sp=37\n",
      "https://www.loc.gov/collections/sanborn-maps/?fa=location:illinois&fo=json&sp=38\n",
      "https://www.loc.gov/collections/sanborn-maps/?fa=location:illinois&fo=json&sp=39\n",
      "https://www.loc.gov/collections/sanborn-maps/?fa=location:illinois&fo=json&sp=40\n",
      "https://www.loc.gov/collections/sanborn-maps/?fa=location:illinois&fo=json&sp=41\n",
      "https://www.loc.gov/collections/sanborn-maps/?fa=location:illinois&fo=json&sp=42\n",
      "https://www.loc.gov/collections/sanborn-maps/?fa=location:illinois&fo=json&sp=43\n",
      "https://www.loc.gov/collections/sanborn-maps/?fa=location:illinois&fo=json&sp=44\n",
      "https://www.loc.gov/collections/sanborn-maps/?fa=location:illinois&fo=json&sp=45\n",
      "https://www.loc.gov/collections/sanborn-maps/?fa=location:illinois&fo=json&sp=46\n",
      "https://www.loc.gov/collections/sanborn-maps/?fa=location:illinois&fo=json&sp=47\n",
      "https://www.loc.gov/collections/sanborn-maps/?fa=location:illinois&fo=json&sp=48\n",
      "https://www.loc.gov/collections/sanborn-maps/?fa=location:illinois&fo=json&sp=49\n",
      "https://www.loc.gov/collections/sanborn-maps/?fa=location:illinois&fo=json&sp=50\n",
      "https://www.loc.gov/collections/sanborn-maps/?fa=location:illinois&fo=json&sp=51\n",
      "https://www.loc.gov/collections/sanborn-maps/?fa=location:illinois&fo=json&sp=52\n",
      "https://www.loc.gov/collections/sanborn-maps/?fa=location:illinois&fo=json&sp=53\n",
      "https://www.loc.gov/collections/sanborn-maps/?fa=location:illinois&fo=json&sp=54\n",
      "https://www.loc.gov/collections/sanborn-maps/?fa=location:illinois&fo=json&sp=55\n",
      "https://www.loc.gov/collections/sanborn-maps/?fa=location:illinois&fo=json&sp=56\n",
      "https://www.loc.gov/collections/sanborn-maps/?fa=location:illinois&fo=json&sp=57\n",
      "https://www.loc.gov/collections/sanborn-maps/?fa=location:illinois&fo=json&sp=58\n",
      "https://www.loc.gov/collections/sanborn-maps/?fa=location:illinois&fo=json&sp=59\n",
      "https://www.loc.gov/collections/sanborn-maps/?fa=location:illinois&fo=json&sp=60\n",
      "https://www.loc.gov/collections/sanborn-maps/?fa=location:illinois&fo=json&sp=61\n",
      "https://www.loc.gov/collections/sanborn-maps/?fa=location:illinois&fo=json&sp=62\n",
      "https://www.loc.gov/collections/sanborn-maps/?fa=location:illinois&fo=json&sp=63\n",
      "https://www.loc.gov/collections/sanborn-maps/?fa=location:illinois&fo=json&sp=64\n",
      "https://www.loc.gov/collections/sanborn-maps/?fa=location:illinois&fo=json&sp=65\n",
      "https://www.loc.gov/collections/sanborn-maps/?fa=location:illinois&fo=json&sp=66\n",
      "https://www.loc.gov/collections/sanborn-maps/?fa=location:illinois&fo=json&sp=67\n",
      "https://www.loc.gov/collections/sanborn-maps/?fa=location:illinois&fo=json&sp=68\n",
      "https://www.loc.gov/collections/sanborn-maps/?fa=location:illinois&fo=json&sp=69\n",
      "https://www.loc.gov/collections/sanborn-maps/?fa=location:illinois&fo=json&sp=70\n",
      "https://www.loc.gov/collections/sanborn-maps/?fa=location:illinois&fo=json&sp=71\n",
      "https://www.loc.gov/collections/sanborn-maps/?fa=location:illinois&fo=json&sp=72\n",
      "https://www.loc.gov/collections/sanborn-maps/?fa=location:illinois&fo=json&sp=73\n",
      "https://www.loc.gov/collections/sanborn-maps/?fa=location:illinois&fo=json&sp=74\n",
      "https://www.loc.gov/collections/sanborn-maps/?fa=location:illinois&fo=json&sp=75\n",
      "https://www.loc.gov/collections/sanborn-maps/?fa=location:illinois&fo=json&sp=76\n",
      "None\n"
     ]
    }
   ],
   "source": [
    "# 1883\n",
    "illinois = requests.get(\"https://www.loc.gov/collections/sanborn-maps/?fo=json&fa=location:illinois\").json()\n",
    "\n",
    "while True: #As long as we have a next page, go and fetch it\n",
    "    f = open(\"illinois-fix.json\", \"a\")\n",
    "    writeState(illinois[\"results\"], \"Illinois\", f)\n",
    "    f.write(\", \")\n",
    "    f.close()\n",
    "    next_page = illinois[\"pagination\"][\"next\"] #get the next page url\n",
    "    print(next_page) #check to make sure working as expected\n",
    "    if next_page is not None: #make sure we haven't hit the end of the pages\n",
    "        illinois = requests.get(next_page).json()\n",
    "    else:\n",
    "        break #we are done and can stop looping"
   ]
  },
  {
   "cell_type": "code",
   "execution_count": 27,
   "metadata": {},
   "outputs": [
    {
     "name": "stdout",
     "output_type": "stream",
     "text": [
      "https://www.loc.gov/collections/sanborn-maps/?c=100&fa=location:indiana&fo=json&sp=2\n",
      "https://www.loc.gov/collections/sanborn-maps/?c=100&fa=location:indiana&fo=json&sp=3\n",
      "https://www.loc.gov/collections/sanborn-maps/?c=100&fa=location:indiana&fo=json&sp=4\n",
      "https://www.loc.gov/collections/sanborn-maps/?c=100&fa=location:indiana&fo=json&sp=5\n",
      "https://www.loc.gov/collections/sanborn-maps/?c=100&fa=location:indiana&fo=json&sp=6\n",
      "https://www.loc.gov/collections/sanborn-maps/?c=100&fa=location:indiana&fo=json&sp=7\n",
      "https://www.loc.gov/collections/sanborn-maps/?c=100&fa=location:indiana&fo=json&sp=8\n",
      "https://www.loc.gov/collections/sanborn-maps/?c=100&fa=location:indiana&fo=json&sp=9\n",
      "https://www.loc.gov/collections/sanborn-maps/?c=100&fa=location:indiana&fo=json&sp=10\n",
      "https://www.loc.gov/collections/sanborn-maps/?c=100&fa=location:indiana&fo=json&sp=11\n",
      "https://www.loc.gov/collections/sanborn-maps/?c=100&fa=location:indiana&fo=json&sp=12\n",
      "https://www.loc.gov/collections/sanborn-maps/?c=100&fa=location:indiana&fo=json&sp=13\n",
      "None\n"
     ]
    }
   ],
   "source": [
    "# 1271\n",
    "indiana = requests.get(\"https://www.loc.gov/collections/sanborn-maps/?fo=json&fa=location:indiana&c=100\").json()\n",
    "\n",
    "while True: #As long as we have a next page, go and fetch it\n",
    "    f = open(\"sanborn-maps-data-all.json\", \"a\")\n",
    "    writeState(indiana[\"results\"], \"Indiana\", f)\n",
    "    f.write(\", \")\n",
    "    f.close()\n",
    "    next_page = indiana[\"pagination\"][\"next\"] #get the next page url\n",
    "    print(next_page) #check to make sure working as expected\n",
    "    if next_page is not None: #make sure we haven't hit the end of the pages\n",
    "        indiana = requests.get(next_page).json()\n",
    "    else:\n",
    "        break #we are done and can stop looping"
   ]
  },
  {
   "cell_type": "code",
   "execution_count": 28,
   "metadata": {},
   "outputs": [
    {
     "name": "stdout",
     "output_type": "stream",
     "text": [
      "https://www.loc.gov/collections/sanborn-maps/?c=100&fa=location:iowa&fo=json&sp=2\n",
      "https://www.loc.gov/collections/sanborn-maps/?c=100&fa=location:iowa&fo=json&sp=3\n",
      "https://www.loc.gov/collections/sanborn-maps/?c=100&fa=location:iowa&fo=json&sp=4\n",
      "https://www.loc.gov/collections/sanborn-maps/?c=100&fa=location:iowa&fo=json&sp=5\n",
      "https://www.loc.gov/collections/sanborn-maps/?c=100&fa=location:iowa&fo=json&sp=6\n",
      "https://www.loc.gov/collections/sanborn-maps/?c=100&fa=location:iowa&fo=json&sp=7\n",
      "https://www.loc.gov/collections/sanborn-maps/?c=100&fa=location:iowa&fo=json&sp=8\n",
      "https://www.loc.gov/collections/sanborn-maps/?c=100&fa=location:iowa&fo=json&sp=9\n",
      "https://www.loc.gov/collections/sanborn-maps/?c=100&fa=location:iowa&fo=json&sp=10\n",
      "https://www.loc.gov/collections/sanborn-maps/?c=100&fa=location:iowa&fo=json&sp=11\n",
      "https://www.loc.gov/collections/sanborn-maps/?c=100&fa=location:iowa&fo=json&sp=12\n",
      "None\n"
     ]
    }
   ],
   "source": [
    "# 1186\n",
    "iowa = requests.get(\"https://www.loc.gov/collections/sanborn-maps/?fo=json&fa=location:iowa&c=100\").json()\n",
    "\n",
    "while True: #As long as we have a next page, go and fetch it\n",
    "    f = open(\"sanborn-maps-data-all.json\", \"a\")\n",
    "    writeState(iowa[\"results\"], \"Iowa\", f)\n",
    "    f.write(\", \")\n",
    "    f.close()\n",
    "    next_page = iowa[\"pagination\"][\"next\"] #get the next page url\n",
    "    print(next_page) #check to make sure working as expected\n",
    "    if next_page is not None: #make sure we haven't hit the end of the pages\n",
    "        iowa = requests.get(next_page).json()\n",
    "    else:\n",
    "        break #we are done and can stop looping"
   ]
  },
  {
   "cell_type": "code",
   "execution_count": 29,
   "metadata": {},
   "outputs": [
    {
     "name": "stdout",
     "output_type": "stream",
     "text": [
      "https://www.loc.gov/collections/sanborn-maps/?c=500&fa=location:kansas&fo=json&sp=2\n",
      "None\n"
     ]
    }
   ],
   "source": [
    "# 967\n",
    "kansas = requests.get(\"https://www.loc.gov/collections/sanborn-maps/?fo=json&fa=location:kansas&c=500\").json()\n",
    "\n",
    "while True: #As long as we have a next page, go and fetch it\n",
    "    f = open(\"sanborn-maps-data-all.json\", \"a\")\n",
    "    writeState(kansas[\"results\"], \"Kansas\", f)\n",
    "    f.write(\", \")\n",
    "    f.close()\n",
    "    next_page = kansas[\"pagination\"][\"next\"] #get the next page url\n",
    "    print(next_page) #check to make sure working as expected\n",
    "    if next_page is not None: #make sure we haven't hit the end of the pages\n",
    "        kansas = requests.get(next_page).json()\n",
    "    else:\n",
    "        break #we are done and can stop looping"
   ]
  },
  {
   "cell_type": "code",
   "execution_count": 30,
   "metadata": {},
   "outputs": [],
   "source": [
    "# 570\n",
    "kentucky = requests.get(\"https://www.loc.gov/collections/sanborn-maps/?fo=json&fa=location:kentucky&c=600\").json()\n",
    "\n",
    "f = open(\"sanborn-maps-data-all.json\", \"a\")\n",
    "writeState(kentucky[\"results\"], \"Kentucky\", f)\n",
    "f.write(\", \")\n",
    "f.close()"
   ]
  },
  {
   "cell_type": "code",
   "execution_count": 31,
   "metadata": {},
   "outputs": [],
   "source": [
    "# 434\n",
    "louisiana = requests.get(\"https://www.loc.gov/collections/sanborn-maps/?fo=json&fa=location:louisiana&c=450\").json()\n",
    "\n",
    "f = open(\"sanborn-maps-data-all.json\", \"a\")\n",
    "writeState(louisiana[\"results\"], \"Louisiana\", f)\n",
    "f.write(\", \")\n",
    "f.close()"
   ]
  },
  {
   "cell_type": "code",
   "execution_count": 32,
   "metadata": {
    "scrolled": true
   },
   "outputs": [
    {
     "name": "stdout",
     "output_type": "stream",
     "text": [
      "Sanborn Fire Insurance Map from South Portland, Cumberland County, Maine.\n",
      "https://www.loc.gov/item/sanborn03545_002/\n"
     ]
    }
   ],
   "source": [
    "# 597\n",
    "maine = requests.get(\"https://www.loc.gov/collections/sanborn-maps/?fo=json&fa=location:maine&c=600\").json()\n",
    "\n",
    "f = open(\"sanborn-maps-data-all.json\", \"a\")\n",
    "writeState(maine[\"results\"], \"Maine\", f)\n",
    "f.write(\", \")\n",
    "f.close()"
   ]
  },
  {
   "cell_type": "code",
   "execution_count": 34,
   "metadata": {},
   "outputs": [],
   "source": [
    "# 329\n",
    "maryland = requests.get(\"https://www.loc.gov/collections/sanborn-maps/?fo=json&fa=location:maryland&c=350\").json()\n",
    "\n",
    "f = open(\"sanborn-maps-data-all.json\", \"a\")\n",
    "writeState(maryland[\"results\"], \"Maryland\", f)\n",
    "f.write(\", \")\n",
    "f.close()"
   ]
  },
  {
   "cell_type": "code",
   "execution_count": 35,
   "metadata": {},
   "outputs": [
    {
     "name": "stdout",
     "output_type": "stream",
     "text": [
      "Sanborn Fire Insurance Map from Cohasset, Norfolk County, Massachusetts.\n",
      "https://www.loc.gov/item/sanborn03710_006/\n",
      "https://www.loc.gov/collections/sanborn-maps/?c=500&fa=location:massachusetts&fo=json&sp=2\n",
      "https://www.loc.gov/collections/sanborn-maps/?c=500&fa=location:massachusetts&fo=json&sp=3\n",
      "None\n"
     ]
    }
   ],
   "source": [
    "# 1011\n",
    "massachusetts = requests.get(\"https://www.loc.gov/collections/sanborn-maps/?fo=json&fa=location:massachusetts&c=500\").json()\n",
    "\n",
    "while True: #As long as we have a next page, go and fetch it\n",
    "    f = open(\"sanborn-maps-data-all.json\", \"a\")\n",
    "    writeState(massachusetts[\"results\"], \"Massachusetts\", f)\n",
    "    f.write(\", \")\n",
    "    f.close()\n",
    "    next_page = massachusetts[\"pagination\"][\"next\"] #get the next page url\n",
    "    print(next_page) #check to make sure working as expected\n",
    "    if next_page is not None: #make sure we haven't hit the end of the pages\n",
    "        massachusetts = requests.get(next_page).json()\n",
    "    else:\n",
    "        break #we are done and can stop looping"
   ]
  },
  {
   "cell_type": "code",
   "execution_count": 36,
   "metadata": {
    "scrolled": true
   },
   "outputs": [
    {
     "name": "stdout",
     "output_type": "stream",
     "text": [
      "Sanborn Fire Insurance Map from Bay City, Bay County, Michigan.\n",
      "https://www.loc.gov/item/sanborn03921_008/\n",
      "https://www.loc.gov/collections/sanborn-maps/?c=500&fa=location:michigan&fo=json&sp=2\n",
      "https://www.loc.gov/collections/sanborn-maps/?c=500&fa=location:michigan&fo=json&sp=3\n",
      "None\n"
     ]
    }
   ],
   "source": [
    "# 1370\n",
    "michigan = requests.get(\"https://www.loc.gov/collections/sanborn-maps/?fo=json&fa=location:michigan&c=500\").json()\n",
    "\n",
    "while True: #As long as we have a next page, go and fetch it\n",
    "    f = open(\"sanborn-maps-data-all.json\", \"a\")\n",
    "    writeState(michigan[\"results\"], \"Michigan\", f)\n",
    "    f.write(\", \")\n",
    "    f.close()\n",
    "    next_page = michigan[\"pagination\"][\"next\"] #get the next page url\n",
    "    print(next_page) #check to make sure working as expected\n",
    "    if next_page is not None: #make sure we haven't hit the end of the pages\n",
    "        michigan = requests.get(next_page).json()\n",
    "    else:\n",
    "        break #we are done and can stop looping"
   ]
  },
  {
   "cell_type": "code",
   "execution_count": 37,
   "metadata": {
    "scrolled": true
   },
   "outputs": [
    {
     "name": "stdout",
     "output_type": "stream",
     "text": [
      "Sanborn Fire Insurance Map from Duluth, Saint Louis County, Minnesota.\n",
      "https://www.loc.gov/item/sanborn04287_015/\n",
      "Sanborn Fire Insurance Map from Minneapolis, Hennepin County, Minnesota.\n",
      "https://www.loc.gov/item/sanborn04339_014.5/\n"
     ]
    }
   ],
   "source": [
    "# 857\n",
    "minnesota = requests.get(\"https://www.loc.gov/collections/sanborn-maps/?fo=json&fa=location:minnesota&c=900\").json()\n",
    "\n",
    "f = open(\"sanborn-maps-data-all.json\", \"a\")\n",
    "writeState(minnesota[\"results\"], \"Minnesota\", f)\n",
    "f.write(\", \")\n",
    "f.close()"
   ]
  },
  {
   "cell_type": "code",
   "execution_count": 38,
   "metadata": {},
   "outputs": [],
   "source": [
    "# 456\n",
    "mississippi = requests.get(\"https://www.loc.gov/collections/sanborn-maps/?fo=json&fa=location:mississippi&c=500\").json()\n",
    "\n",
    "f = open(\"sanborn-maps-data-all.json\", \"a\")\n",
    "writeState(mississippi[\"results\"], \"Mississippi\", f)\n",
    "f.write(\", \")\n",
    "f.close()"
   ]
  },
  {
   "cell_type": "code",
   "execution_count": 39,
   "metadata": {},
   "outputs": [
    {
     "name": "stdout",
     "output_type": "stream",
     "text": [
      "https://www.loc.gov/collections/sanborn-maps/?c=500&fa=location:missouri&fo=json&sp=2\n",
      "https://www.loc.gov/collections/sanborn-maps/?c=500&fa=location:missouri&fo=json&sp=3\n",
      "None\n"
     ]
    }
   ],
   "source": [
    "# 1155\n",
    "missouri = requests.get(\"https://www.loc.gov/collections/sanborn-maps/?fo=json&fa=location:missouri&c=500\").json()\n",
    "\n",
    "while True: #As long as we have a next page, go and fetch it\n",
    "    f = open(\"sanborn-maps-data-all.json\", \"a\")\n",
    "    writeState(missouri[\"results\"], \"Missouri\", f)\n",
    "    f.write(\", \")\n",
    "    f.close()\n",
    "    next_page = missouri[\"pagination\"][\"next\"] #get the next page url\n",
    "    print(next_page) #check to make sure working as expected\n",
    "    if next_page is not None: #make sure we haven't hit the end of the pages\n",
    "        missouri = requests.get(next_page).json()\n",
    "    else:\n",
    "        break #we are done and can stop looping"
   ]
  },
  {
   "cell_type": "code",
   "execution_count": 40,
   "metadata": {},
   "outputs": [],
   "source": [
    "# 421\n",
    "montana = requests.get(\"https://www.loc.gov/collections/sanborn-maps/?fo=json&fa=location:montana&c=450\").json()\n",
    "\n",
    "f = open(\"sanborn-maps-data-all.json\", \"a\")\n",
    "writeState(montana[\"results\"], \"Montana\", f)\n",
    "f.write(\", \")\n",
    "f.close()"
   ]
  },
  {
   "cell_type": "code",
   "execution_count": 41,
   "metadata": {},
   "outputs": [],
   "source": [
    "# 525\n",
    "nebraska = requests.get(\"https://www.loc.gov/collections/sanborn-maps/?fo=json&fa=location:nebraska&c=550\").json()\n",
    "\n",
    "f = open(\"sanborn-maps-data-all.json\", \"a\")\n",
    "writeState(nebraska[\"results\"], \"Nebraska\", f)\n",
    "f.write(\", \")\n",
    "f.close()"
   ]
  },
  {
   "cell_type": "code",
   "execution_count": 42,
   "metadata": {},
   "outputs": [],
   "source": [
    "# 94\n",
    "nevada = requests.get(\"https://www.loc.gov/collections/sanborn-maps/?fo=json&fa=location:nevada&c=100\").json()\n",
    "\n",
    "f = open(\"sanborn-maps-data-all.json\", \"a\")\n",
    "writeState(nevada[\"results\"], \"Nevada\", f)\n",
    "f.write(\", \")\n",
    "f.close()"
   ]
  },
  {
   "cell_type": "code",
   "execution_count": 43,
   "metadata": {},
   "outputs": [],
   "source": [
    "# 362\n",
    "new_hampshire = requests.get(\"https://www.loc.gov/collections/sanborn-maps/?fo=json&fa=location:new+hampshire&c=400\").json()\n",
    "\n",
    "f = open(\"sanborn-maps-data-all.json\", \"a\")\n",
    "writeState(new_hampshire[\"results\"], \"New Hampshire\", f)\n",
    "f.write(\", \")\n",
    "f.close()"
   ]
  },
  {
   "cell_type": "code",
   "execution_count": 44,
   "metadata": {},
   "outputs": [
    {
     "name": "stdout",
     "output_type": "stream",
     "text": [
      "Sanborn Fire Insurance Map from Newark, Essex County, New Jersey.\n",
      "https://www.loc.gov/item/sanborn05571_009.2/\n",
      "Sanborn Fire Insurance Map from Newark, Essex County, New Jersey.\n",
      "https://www.loc.gov/item/sanborn05571_009.4/\n",
      "Sanborn Fire Insurance Map from Newark, Essex County, New Jersey.\n",
      "https://www.loc.gov/item/sanborn05571_009.6/\n",
      "Sanborn Fire Insurance Map from Rutherford, Bergen County, New Jersey.\n",
      "https://www.loc.gov/item/sanborn05620_006/\n",
      "Sanborn Fire Insurance Map from Port Norris, Cumberland County, New Jersey.\n",
      "https://www.loc.gov/item/sanborn05604_001.5/\n",
      "Sanborn Fire Insurance Map from Paterson, Passaic County, New Jersey.\n",
      "https://www.loc.gov/item/sanborn05590_006.5/\n"
     ]
    }
   ],
   "source": [
    "# 848\n",
    "new_jersey = requests.get(\"https://www.loc.gov/collections/sanborn-maps/?fo=json&fa=location:new+jersey&c=850\").json()\n",
    "\n",
    "f = open(\"sanborn-maps-data-all.json\", \"a\")\n",
    "writeState(new_jersey[\"results\"], \"New Jersey\", f)\n",
    "f.write(\", \")\n",
    "f.close()"
   ]
  },
  {
   "cell_type": "code",
   "execution_count": 45,
   "metadata": {},
   "outputs": [],
   "source": [
    "# 153\n",
    "new_mexico = requests.get(\"https://www.loc.gov/collections/sanborn-maps/?fo=json&fa=location:new+mexico&c=160\").json()\n",
    "\n",
    "f = open(\"sanborn-maps-data-all.json\", \"a\")\n",
    "writeState(new_mexico[\"results\"], \"New Mexico\", f)\n",
    "f.write(\", \")\n",
    "f.close()"
   ]
  },
  {
   "cell_type": "code",
   "execution_count": 46,
   "metadata": {
    "scrolled": true
   },
   "outputs": [
    {
     "name": "stdout",
     "output_type": "stream",
     "text": [
      "Sanborn Fire Insurance Map from Buffalo, Erie County, New York.\n",
      "https://www.loc.gov/item/sanborn05793_020.5/\n",
      "https://www.loc.gov/collections/sanborn-maps/?c=500&fa=location:new+york&fo=json&sp=2\n",
      "https://www.loc.gov/collections/sanborn-maps/?c=500&fa=location:new+york&fo=json&sp=3\n",
      "https://www.loc.gov/collections/sanborn-maps/?c=500&fa=location:new+york&fo=json&sp=4\n",
      "Sanborn Fire Insurance Map from Staten Island (Borough Of Richmond), Richmond County, New York.\n",
      "https://www.loc.gov/item/sanborn06213_004.5/\n",
      "https://www.loc.gov/collections/sanborn-maps/?c=500&fa=location:new+york&fo=json&sp=5\n",
      "None\n"
     ]
    }
   ],
   "source": [
    "# 2500\n",
    "new_york = requests.get(\"https://www.loc.gov/collections/sanborn-maps/?fo=json&fa=location:new+york&c=500\").json()\n",
    "\n",
    "while True: #As long as we have a next page, go and fetch it\n",
    "    f = open(\"sanborn-maps-data-all.json\", \"a\")\n",
    "    writeState(new_york[\"results\"], \"New York\", f)\n",
    "    f.write(\", \")\n",
    "    f.close()\n",
    "    next_page = new_york[\"pagination\"][\"next\"] #get the next page url\n",
    "    print(next_page) #check to make sure working as expected\n",
    "    if next_page is not None: #make sure we haven't hit the end of the pages\n",
    "        new_york = requests.get(next_page).json()\n",
    "    else:\n",
    "        break #we are done and can stop looping"
   ]
  },
  {
   "cell_type": "code",
   "execution_count": 47,
   "metadata": {},
   "outputs": [],
   "source": [
    "# 553\n",
    "north_carolina = requests.get(\"https://www.loc.gov/collections/sanborn-maps/?fo=json&fa=location:north+carolina&c=600\").json()\n",
    "\n",
    "f = open(\"sanborn-maps-data-all.json\", \"a\")\n",
    "writeState(north_carolina[\"results\"], \"North Carolina\", f)\n",
    "f.write(\", \")\n",
    "f.close()"
   ]
  },
  {
   "cell_type": "code",
   "execution_count": 48,
   "metadata": {},
   "outputs": [],
   "source": [
    "# 227\n",
    "north_dakota = requests.get(\"https://www.loc.gov/collections/sanborn-maps/?fo=json&fa=location:north+dakota&c=250\").json()\n",
    "\n",
    "f = open(\"sanborn-maps-data-all.json\", \"a\")\n",
    "writeState(north_dakota[\"results\"], \"North Dakota\", f)\n",
    "f.write(\", \")\n",
    "f.close()"
   ]
  },
  {
   "cell_type": "code",
   "execution_count": 49,
   "metadata": {},
   "outputs": [],
   "source": [
    "# 623\n",
    "ohio = requests.get(\"https://www.loc.gov/collections/sanborn-maps/?fo=json&fa=location:ohio&c=650\").json()\n",
    "\n",
    "f = open(\"sanborn-maps-data-all.json\", \"a\")\n",
    "writeState(ohio[\"results\"], \"Ohio\", f)\n",
    "f.write(\", \")\n",
    "f.close()"
   ]
  },
  {
   "cell_type": "code",
   "execution_count": 50,
   "metadata": {},
   "outputs": [
    {
     "name": "stdout",
     "output_type": "stream",
     "text": [
      "Sanborn Fire Insurance Map from Claremore, Rogers County, Oklahoma.\n",
      "https://www.loc.gov/item/sanborn07040_012/\n",
      "https://www.loc.gov/collections/sanborn-maps/?c=500&fa=location:oklahoma&fo=json&sp=2\n",
      "https://www.loc.gov/collections/sanborn-maps/?c=500&fa=location:oklahoma&fo=json&sp=3\n",
      "None\n"
     ]
    }
   ],
   "source": [
    "# 1191\n",
    "oklahoma = requests.get(\"https://www.loc.gov/collections/sanborn-maps/?fo=json&fa=location:oklahoma&c=500\").json()\n",
    "\n",
    "while True: #As long as we have a next page, go and fetch it\n",
    "    f = open(\"sanborn-maps-data-all.json\", \"a\")\n",
    "    writeState(oklahoma[\"results\"], \"Oklahoma\", f)\n",
    "    f.write(\", \")\n",
    "    f.close()\n",
    "    next_page = oklahoma[\"pagination\"][\"next\"] #get the next page url\n",
    "    print(next_page) #check to make sure working as expected\n",
    "    if next_page is not None: #make sure we haven't hit the end of the pages\n",
    "        oklahoma = requests.get(next_page).json()\n",
    "    else:\n",
    "        break #we are done and can stop looping"
   ]
  },
  {
   "cell_type": "code",
   "execution_count": 52,
   "metadata": {},
   "outputs": [],
   "source": [
    "# 594\n",
    "oregon = requests.get(\"https://www.loc.gov/collections/sanborn-maps/?fo=json&fa=location:oregon&c=600\").json()\n",
    "\n",
    "f = open(\"sanborn-maps-data-all.json\", \"a\")\n",
    "writeState(oregon[\"results\"], \"Oregon\", f)\n",
    "f.write(\", \")\n",
    "f.close()"
   ]
  },
  {
   "cell_type": "code",
   "execution_count": 53,
   "metadata": {},
   "outputs": [
    {
     "name": "stdout",
     "output_type": "stream",
     "text": [
      "https://www.loc.gov/collections/sanborn-maps/?c=500&fa=location:pennsylvania&fo=json&sp=2\n",
      "Sanborn Fire Insurance Map from Lancaster, Lancaster County, Pennsylvania.\n",
      "https://www.loc.gov/item/sanborn07754_009/\n",
      "https://www.loc.gov/collections/sanborn-maps/?c=500&fa=location:pennsylvania&fo=json&sp=3\n",
      "Sanborn Fire Insurance Map from New Bethlehem, Clarion County, Pennsylvania.\n",
      "https://www.loc.gov/item/sanborn07855_008/\n",
      "https://www.loc.gov/collections/sanborn-maps/?c=500&fa=location:pennsylvania&fo=json&sp=4\n",
      "https://www.loc.gov/collections/sanborn-maps/?c=500&fa=location:pennsylvania&fo=json&sp=5\n",
      "None\n"
     ]
    }
   ],
   "source": [
    "# 2029\n",
    "pennsylvania = requests.get(\"https://www.loc.gov/collections/sanborn-maps/?fo=json&fa=location:pennsylvania&c=500\").json()\n",
    "\n",
    "while True: #As long as we have a next page, go and fetch it\n",
    "    f = open(\"sanborn-maps-data-all.json\", \"a\")\n",
    "    writeState(pennsylvania[\"results\"], \"Pennsylvania\", f)\n",
    "    f.write(\", \")\n",
    "    f.close()\n",
    "    next_page = pennsylvania[\"pagination\"][\"next\"] #get the next page url\n",
    "    print(next_page) #check to make sure working as expected\n",
    "    if next_page is not None: #make sure we haven't hit the end of the pages\n",
    "        pennsylvania = requests.get(next_page).json()\n",
    "    else:\n",
    "        break #we are done and can stop looping"
   ]
  },
  {
   "cell_type": "code",
   "execution_count": 55,
   "metadata": {},
   "outputs": [
    {
     "name": "stdout",
     "output_type": "stream",
     "text": [
      "Sanborn Fire Insurance Map from Warwick, Kent County, Rhode Island.\n",
      "https://www.loc.gov/item/sanborn08105_003/\n"
     ]
    }
   ],
   "source": [
    "# 131\n",
    "rhode_island = requests.get(\"https://www.loc.gov/collections/sanborn-maps/?fo=json&fa=location:rhode+island&c=150\").json()\n",
    "\n",
    "f = open(\"sanborn-maps-data-all.json\", \"a\")\n",
    "writeState(rhode_island[\"results\"], \"Rhode Island\", f)\n",
    "f.write(\", \")\n",
    "f.close()"
   ]
  },
  {
   "cell_type": "code",
   "execution_count": 57,
   "metadata": {},
   "outputs": [],
   "source": [
    "# 377\n",
    "south_carolina = requests.get(\"https://www.loc.gov/collections/sanborn-maps/?fo=json&fa=location:south+carolina&c=400\").json()\n",
    "\n",
    "f = open(\"sanborn-maps-data-all.json\", \"a\")\n",
    "writeState(south_carolina[\"results\"], \"South Carolina\", f)\n",
    "f.write(\", \")\n",
    "f.close()"
   ]
  },
  {
   "cell_type": "code",
   "execution_count": 58,
   "metadata": {},
   "outputs": [],
   "source": [
    "# 426\n",
    "south_dakota = requests.get(\"https://www.loc.gov/collections/sanborn-maps/?fo=json&fa=location:south+dakota&c=450\").json()\n",
    "\n",
    "f = open(\"sanborn-maps-data-all.json\", \"a\")\n",
    "writeState(south_dakota[\"results\"], \"South Dakota\", f)\n",
    "f.write(\", \")\n",
    "f.close()"
   ]
  },
  {
   "cell_type": "code",
   "execution_count": 59,
   "metadata": {
    "scrolled": true
   },
   "outputs": [
    {
     "name": "stdout",
     "output_type": "stream",
     "text": [
      "Sanborn Fire Insurance Map from Nashville, Davidson County, Tennessee.\n",
      "https://www.loc.gov/item/sanborn08356_026.14/\n",
      "Sanborn Fire Insurance Map from Nashville, Davidson County, Tennessee.\n",
      "https://www.loc.gov/item/sanborn08356_026.16/\n",
      "Sanborn Fire Insurance Map from Nashville, Davidson County, Tennessee.\n",
      "https://www.loc.gov/item/sanborn08356_026.2/\n",
      "Sanborn Fire Insurance Map from Nashville, Davidson County, Tennessee.\n",
      "https://www.loc.gov/item/sanborn08356_026.3/\n",
      "Sanborn Fire Insurance Map from Nashville, Davidson County, Tennessee.\n",
      "https://www.loc.gov/item/sanborn08356_026.4/\n",
      "Sanborn Fire Insurance Map from Nashville, Davidson County, Tennessee.\n",
      "https://www.loc.gov/item/sanborn08356_026.5/\n",
      "Sanborn Fire Insurance Map from Nashville, Davidson County, Tennessee.\n",
      "https://www.loc.gov/item/sanborn08356_026.6/\n"
     ]
    }
   ],
   "source": [
    "# 545\n",
    "tennessee = requests.get(\"https://www.loc.gov/collections/sanborn-maps/?fo=json&fa=location:tennessee&c=550\").json()\n",
    "\n",
    "f = open(\"sanborn-maps-data-all.json\", \"a\")\n",
    "writeState(tennessee[\"results\"], \"Tennessee\", f)\n",
    "f.write(\", \")\n",
    "f.close()"
   ]
  },
  {
   "cell_type": "code",
   "execution_count": 60,
   "metadata": {},
   "outputs": [
    {
     "name": "stdout",
     "output_type": "stream",
     "text": [
      "https://www.loc.gov/collections/sanborn-maps/?c=500&fa=location:texas&fo=json&sp=2\n",
      "https://www.loc.gov/collections/sanborn-maps/?c=500&fa=location:texas&fo=json&sp=3\n",
      "https://www.loc.gov/collections/sanborn-maps/?c=500&fa=location:texas&fo=json&sp=4\n",
      "None\n"
     ]
    }
   ],
   "source": [
    "# 1598\n",
    "texas = requests.get(\"https://www.loc.gov/collections/sanborn-maps/?fo=json&fa=location:texas&c=500\").json()\n",
    "\n",
    "while True: #As long as we have a next page, go and fetch it\n",
    "    f = open(\"sanborn-maps-data-all.json\", \"a\")\n",
    "    writeState(texas[\"results\"], \"Texas\", f)\n",
    "    f.write(\", \")\n",
    "    f.close()\n",
    "    next_page = texas[\"pagination\"][\"next\"] #get the next page url\n",
    "    print(next_page) #check to make sure working as expected\n",
    "    if next_page is not None: #make sure we haven't hit the end of the pages\n",
    "        texas = requests.get(next_page).json()\n",
    "    else:\n",
    "        break #we are done and can stop looping"
   ]
  },
  {
   "cell_type": "code",
   "execution_count": 61,
   "metadata": {},
   "outputs": [],
   "source": [
    "# 164\n",
    "utah = requests.get(\"https://www.loc.gov/collections/sanborn-maps/?fo=json&fa=location:utah&c=200\").json()\n",
    "\n",
    "f = open(\"sanborn-maps-data-all.json\", \"a\")\n",
    "writeState(utah[\"results\"], \"Utah\", f)\n",
    "f.write(\", \")\n",
    "f.close()"
   ]
  },
  {
   "cell_type": "code",
   "execution_count": 62,
   "metadata": {},
   "outputs": [],
   "source": [
    "# 327\n",
    "vermont = requests.get(\"https://www.loc.gov/collections/sanborn-maps/?fo=json&fa=location:vermont&c=350\").json()\n",
    "\n",
    "f = open(\"sanborn-maps-data-all.json\", \"a\")\n",
    "writeState(vermont[\"results\"], \"Vermont\", f)\n",
    "f.write(\", \")\n",
    "f.close()"
   ]
  },
  {
   "cell_type": "code",
   "execution_count": 63,
   "metadata": {},
   "outputs": [],
   "source": [
    "# 158\n",
    "virginia = requests.get(\"https://www.loc.gov/collections/sanborn-maps/?fo=json&fa=location:virginia&c=175\").json()\n",
    "\n",
    "f = open(\"sanborn-maps-data-all.json\", \"a\")\n",
    "writeState(virginia[\"results\"], \"Virginia\", f)\n",
    "f.write(\", \")\n",
    "f.close()"
   ]
  },
  {
   "cell_type": "code",
   "execution_count": 14,
   "metadata": {
    "scrolled": false
   },
   "outputs": [
    {
     "ename": "ConnectionError",
     "evalue": "HTTPSConnectionPool(host='www.loc.gov', port=443): Max retries exceeded with url: /collections/sanborn-maps/?fo=json&fa=location:washington&c=500 (Caused by NewConnectionError('<urllib3.connection.VerifiedHTTPSConnection object at 0x104336450>: Failed to establish a new connection: [Errno 8] nodename nor servname provided, or not known'))",
     "output_type": "error",
     "traceback": [
      "\u001b[0;31m---------------------------------------------------------------------------\u001b[0m",
      "\u001b[0;31mgaierror\u001b[0m                                  Traceback (most recent call last)",
      "\u001b[0;32m/opt/anaconda3/lib/python3.7/site-packages/urllib3/connection.py\u001b[0m in \u001b[0;36m_new_conn\u001b[0;34m(self)\u001b[0m\n\u001b[1;32m    158\u001b[0m             conn = connection.create_connection(\n\u001b[0;32m--> 159\u001b[0;31m                 (self._dns_host, self.port), self.timeout, **extra_kw)\n\u001b[0m\u001b[1;32m    160\u001b[0m \u001b[0;34m\u001b[0m\u001b[0m\n",
      "\u001b[0;32m/opt/anaconda3/lib/python3.7/site-packages/urllib3/util/connection.py\u001b[0m in \u001b[0;36mcreate_connection\u001b[0;34m(address, timeout, source_address, socket_options)\u001b[0m\n\u001b[1;32m     56\u001b[0m \u001b[0;34m\u001b[0m\u001b[0m\n\u001b[0;32m---> 57\u001b[0;31m     \u001b[0;32mfor\u001b[0m \u001b[0mres\u001b[0m \u001b[0;32min\u001b[0m \u001b[0msocket\u001b[0m\u001b[0;34m.\u001b[0m\u001b[0mgetaddrinfo\u001b[0m\u001b[0;34m(\u001b[0m\u001b[0mhost\u001b[0m\u001b[0;34m,\u001b[0m \u001b[0mport\u001b[0m\u001b[0;34m,\u001b[0m \u001b[0mfamily\u001b[0m\u001b[0;34m,\u001b[0m \u001b[0msocket\u001b[0m\u001b[0;34m.\u001b[0m\u001b[0mSOCK_STREAM\u001b[0m\u001b[0;34m)\u001b[0m\u001b[0;34m:\u001b[0m\u001b[0;34m\u001b[0m\u001b[0;34m\u001b[0m\u001b[0m\n\u001b[0m\u001b[1;32m     58\u001b[0m         \u001b[0maf\u001b[0m\u001b[0;34m,\u001b[0m \u001b[0msocktype\u001b[0m\u001b[0;34m,\u001b[0m \u001b[0mproto\u001b[0m\u001b[0;34m,\u001b[0m \u001b[0mcanonname\u001b[0m\u001b[0;34m,\u001b[0m \u001b[0msa\u001b[0m \u001b[0;34m=\u001b[0m \u001b[0mres\u001b[0m\u001b[0;34m\u001b[0m\u001b[0;34m\u001b[0m\u001b[0m\n",
      "\u001b[0;32m/opt/anaconda3/lib/python3.7/socket.py\u001b[0m in \u001b[0;36mgetaddrinfo\u001b[0;34m(host, port, family, type, proto, flags)\u001b[0m\n\u001b[1;32m    747\u001b[0m     \u001b[0maddrlist\u001b[0m \u001b[0;34m=\u001b[0m \u001b[0;34m[\u001b[0m\u001b[0;34m]\u001b[0m\u001b[0;34m\u001b[0m\u001b[0;34m\u001b[0m\u001b[0m\n\u001b[0;32m--> 748\u001b[0;31m     \u001b[0;32mfor\u001b[0m \u001b[0mres\u001b[0m \u001b[0;32min\u001b[0m \u001b[0m_socket\u001b[0m\u001b[0;34m.\u001b[0m\u001b[0mgetaddrinfo\u001b[0m\u001b[0;34m(\u001b[0m\u001b[0mhost\u001b[0m\u001b[0;34m,\u001b[0m \u001b[0mport\u001b[0m\u001b[0;34m,\u001b[0m \u001b[0mfamily\u001b[0m\u001b[0;34m,\u001b[0m \u001b[0mtype\u001b[0m\u001b[0;34m,\u001b[0m \u001b[0mproto\u001b[0m\u001b[0;34m,\u001b[0m \u001b[0mflags\u001b[0m\u001b[0;34m)\u001b[0m\u001b[0;34m:\u001b[0m\u001b[0;34m\u001b[0m\u001b[0;34m\u001b[0m\u001b[0m\n\u001b[0m\u001b[1;32m    749\u001b[0m         \u001b[0maf\u001b[0m\u001b[0;34m,\u001b[0m \u001b[0msocktype\u001b[0m\u001b[0;34m,\u001b[0m \u001b[0mproto\u001b[0m\u001b[0;34m,\u001b[0m \u001b[0mcanonname\u001b[0m\u001b[0;34m,\u001b[0m \u001b[0msa\u001b[0m \u001b[0;34m=\u001b[0m \u001b[0mres\u001b[0m\u001b[0;34m\u001b[0m\u001b[0;34m\u001b[0m\u001b[0m\n",
      "\u001b[0;31mgaierror\u001b[0m: [Errno 8] nodename nor servname provided, or not known",
      "\nDuring handling of the above exception, another exception occurred:\n",
      "\u001b[0;31mNewConnectionError\u001b[0m                        Traceback (most recent call last)",
      "\u001b[0;32m/opt/anaconda3/lib/python3.7/site-packages/urllib3/connectionpool.py\u001b[0m in \u001b[0;36murlopen\u001b[0;34m(self, method, url, body, headers, retries, redirect, assert_same_host, timeout, pool_timeout, release_conn, chunked, body_pos, **response_kw)\u001b[0m\n\u001b[1;32m    599\u001b[0m                                                   \u001b[0mbody\u001b[0m\u001b[0;34m=\u001b[0m\u001b[0mbody\u001b[0m\u001b[0;34m,\u001b[0m \u001b[0mheaders\u001b[0m\u001b[0;34m=\u001b[0m\u001b[0mheaders\u001b[0m\u001b[0;34m,\u001b[0m\u001b[0;34m\u001b[0m\u001b[0;34m\u001b[0m\u001b[0m\n\u001b[0;32m--> 600\u001b[0;31m                                                   chunked=chunked)\n\u001b[0m\u001b[1;32m    601\u001b[0m \u001b[0;34m\u001b[0m\u001b[0m\n",
      "\u001b[0;32m/opt/anaconda3/lib/python3.7/site-packages/urllib3/connectionpool.py\u001b[0m in \u001b[0;36m_make_request\u001b[0;34m(self, conn, method, url, timeout, chunked, **httplib_request_kw)\u001b[0m\n\u001b[1;32m    342\u001b[0m         \u001b[0;32mtry\u001b[0m\u001b[0;34m:\u001b[0m\u001b[0;34m\u001b[0m\u001b[0;34m\u001b[0m\u001b[0m\n\u001b[0;32m--> 343\u001b[0;31m             \u001b[0mself\u001b[0m\u001b[0;34m.\u001b[0m\u001b[0m_validate_conn\u001b[0m\u001b[0;34m(\u001b[0m\u001b[0mconn\u001b[0m\u001b[0;34m)\u001b[0m\u001b[0;34m\u001b[0m\u001b[0;34m\u001b[0m\u001b[0m\n\u001b[0m\u001b[1;32m    344\u001b[0m         \u001b[0;32mexcept\u001b[0m \u001b[0;34m(\u001b[0m\u001b[0mSocketTimeout\u001b[0m\u001b[0;34m,\u001b[0m \u001b[0mBaseSSLError\u001b[0m\u001b[0;34m)\u001b[0m \u001b[0;32mas\u001b[0m \u001b[0me\u001b[0m\u001b[0;34m:\u001b[0m\u001b[0;34m\u001b[0m\u001b[0;34m\u001b[0m\u001b[0m\n",
      "\u001b[0;32m/opt/anaconda3/lib/python3.7/site-packages/urllib3/connectionpool.py\u001b[0m in \u001b[0;36m_validate_conn\u001b[0;34m(self, conn)\u001b[0m\n\u001b[1;32m    838\u001b[0m         \u001b[0;32mif\u001b[0m \u001b[0;32mnot\u001b[0m \u001b[0mgetattr\u001b[0m\u001b[0;34m(\u001b[0m\u001b[0mconn\u001b[0m\u001b[0;34m,\u001b[0m \u001b[0;34m'sock'\u001b[0m\u001b[0;34m,\u001b[0m \u001b[0;32mNone\u001b[0m\u001b[0;34m)\u001b[0m\u001b[0;34m:\u001b[0m  \u001b[0;31m# AppEngine might not have  `.sock`\u001b[0m\u001b[0;34m\u001b[0m\u001b[0;34m\u001b[0m\u001b[0m\n\u001b[0;32m--> 839\u001b[0;31m             \u001b[0mconn\u001b[0m\u001b[0;34m.\u001b[0m\u001b[0mconnect\u001b[0m\u001b[0;34m(\u001b[0m\u001b[0;34m)\u001b[0m\u001b[0;34m\u001b[0m\u001b[0;34m\u001b[0m\u001b[0m\n\u001b[0m\u001b[1;32m    840\u001b[0m \u001b[0;34m\u001b[0m\u001b[0m\n",
      "\u001b[0;32m/opt/anaconda3/lib/python3.7/site-packages/urllib3/connection.py\u001b[0m in \u001b[0;36mconnect\u001b[0;34m(self)\u001b[0m\n\u001b[1;32m    300\u001b[0m         \u001b[0;31m# Add certificate verification\u001b[0m\u001b[0;34m\u001b[0m\u001b[0;34m\u001b[0m\u001b[0;34m\u001b[0m\u001b[0m\n\u001b[0;32m--> 301\u001b[0;31m         \u001b[0mconn\u001b[0m \u001b[0;34m=\u001b[0m \u001b[0mself\u001b[0m\u001b[0;34m.\u001b[0m\u001b[0m_new_conn\u001b[0m\u001b[0;34m(\u001b[0m\u001b[0;34m)\u001b[0m\u001b[0;34m\u001b[0m\u001b[0;34m\u001b[0m\u001b[0m\n\u001b[0m\u001b[1;32m    302\u001b[0m         \u001b[0mhostname\u001b[0m \u001b[0;34m=\u001b[0m \u001b[0mself\u001b[0m\u001b[0;34m.\u001b[0m\u001b[0mhost\u001b[0m\u001b[0;34m\u001b[0m\u001b[0;34m\u001b[0m\u001b[0m\n",
      "\u001b[0;32m/opt/anaconda3/lib/python3.7/site-packages/urllib3/connection.py\u001b[0m in \u001b[0;36m_new_conn\u001b[0;34m(self)\u001b[0m\n\u001b[1;32m    167\u001b[0m             raise NewConnectionError(\n\u001b[0;32m--> 168\u001b[0;31m                 self, \"Failed to establish a new connection: %s\" % e)\n\u001b[0m\u001b[1;32m    169\u001b[0m \u001b[0;34m\u001b[0m\u001b[0m\n",
      "\u001b[0;31mNewConnectionError\u001b[0m: <urllib3.connection.VerifiedHTTPSConnection object at 0x104336450>: Failed to establish a new connection: [Errno 8] nodename nor servname provided, or not known",
      "\nDuring handling of the above exception, another exception occurred:\n",
      "\u001b[0;31mMaxRetryError\u001b[0m                             Traceback (most recent call last)",
      "\u001b[0;32m/opt/anaconda3/lib/python3.7/site-packages/requests/adapters.py\u001b[0m in \u001b[0;36msend\u001b[0;34m(self, request, stream, timeout, verify, cert, proxies)\u001b[0m\n\u001b[1;32m    448\u001b[0m                     \u001b[0mretries\u001b[0m\u001b[0;34m=\u001b[0m\u001b[0mself\u001b[0m\u001b[0;34m.\u001b[0m\u001b[0mmax_retries\u001b[0m\u001b[0;34m,\u001b[0m\u001b[0;34m\u001b[0m\u001b[0;34m\u001b[0m\u001b[0m\n\u001b[0;32m--> 449\u001b[0;31m                     \u001b[0mtimeout\u001b[0m\u001b[0;34m=\u001b[0m\u001b[0mtimeout\u001b[0m\u001b[0;34m\u001b[0m\u001b[0;34m\u001b[0m\u001b[0m\n\u001b[0m\u001b[1;32m    450\u001b[0m                 )\n",
      "\u001b[0;32m/opt/anaconda3/lib/python3.7/site-packages/urllib3/connectionpool.py\u001b[0m in \u001b[0;36murlopen\u001b[0;34m(self, method, url, body, headers, retries, redirect, assert_same_host, timeout, pool_timeout, release_conn, chunked, body_pos, **response_kw)\u001b[0m\n\u001b[1;32m    637\u001b[0m             retries = retries.increment(method, url, error=e, _pool=self,\n\u001b[0;32m--> 638\u001b[0;31m                                         _stacktrace=sys.exc_info()[2])\n\u001b[0m\u001b[1;32m    639\u001b[0m             \u001b[0mretries\u001b[0m\u001b[0;34m.\u001b[0m\u001b[0msleep\u001b[0m\u001b[0;34m(\u001b[0m\u001b[0;34m)\u001b[0m\u001b[0;34m\u001b[0m\u001b[0;34m\u001b[0m\u001b[0m\n",
      "\u001b[0;32m/opt/anaconda3/lib/python3.7/site-packages/urllib3/util/retry.py\u001b[0m in \u001b[0;36mincrement\u001b[0;34m(self, method, url, response, error, _pool, _stacktrace)\u001b[0m\n\u001b[1;32m    398\u001b[0m         \u001b[0;32mif\u001b[0m \u001b[0mnew_retry\u001b[0m\u001b[0;34m.\u001b[0m\u001b[0mis_exhausted\u001b[0m\u001b[0;34m(\u001b[0m\u001b[0;34m)\u001b[0m\u001b[0;34m:\u001b[0m\u001b[0;34m\u001b[0m\u001b[0;34m\u001b[0m\u001b[0m\n\u001b[0;32m--> 399\u001b[0;31m             \u001b[0;32mraise\u001b[0m \u001b[0mMaxRetryError\u001b[0m\u001b[0;34m(\u001b[0m\u001b[0m_pool\u001b[0m\u001b[0;34m,\u001b[0m \u001b[0murl\u001b[0m\u001b[0;34m,\u001b[0m \u001b[0merror\u001b[0m \u001b[0;32mor\u001b[0m \u001b[0mResponseError\u001b[0m\u001b[0;34m(\u001b[0m\u001b[0mcause\u001b[0m\u001b[0;34m)\u001b[0m\u001b[0;34m)\u001b[0m\u001b[0;34m\u001b[0m\u001b[0;34m\u001b[0m\u001b[0m\n\u001b[0m\u001b[1;32m    400\u001b[0m \u001b[0;34m\u001b[0m\u001b[0m\n",
      "\u001b[0;31mMaxRetryError\u001b[0m: HTTPSConnectionPool(host='www.loc.gov', port=443): Max retries exceeded with url: /collections/sanborn-maps/?fo=json&fa=location:washington&c=500 (Caused by NewConnectionError('<urllib3.connection.VerifiedHTTPSConnection object at 0x104336450>: Failed to establish a new connection: [Errno 8] nodename nor servname provided, or not known'))",
      "\nDuring handling of the above exception, another exception occurred:\n",
      "\u001b[0;31mConnectionError\u001b[0m                           Traceback (most recent call last)",
      "\u001b[0;32m<ipython-input-14-8cd31cc35a48>\u001b[0m in \u001b[0;36m<module>\u001b[0;34m\u001b[0m\n\u001b[1;32m      1\u001b[0m \u001b[0;31m# 879\u001b[0m\u001b[0;34m\u001b[0m\u001b[0;34m\u001b[0m\u001b[0;34m\u001b[0m\u001b[0m\n\u001b[0;32m----> 2\u001b[0;31m \u001b[0mwashington\u001b[0m \u001b[0;34m=\u001b[0m \u001b[0mrequests\u001b[0m\u001b[0;34m.\u001b[0m\u001b[0mget\u001b[0m\u001b[0;34m(\u001b[0m\u001b[0;34m\"https://www.loc.gov/collections/sanborn-maps/?fo=json&fa=location:washington&c=500\"\u001b[0m\u001b[0;34m)\u001b[0m\u001b[0;34m.\u001b[0m\u001b[0mjson\u001b[0m\u001b[0;34m(\u001b[0m\u001b[0;34m)\u001b[0m\u001b[0;34m\u001b[0m\u001b[0;34m\u001b[0m\u001b[0m\n\u001b[0m\u001b[1;32m      3\u001b[0m \u001b[0;34m\u001b[0m\u001b[0m\n",
      "\u001b[0;32m/opt/anaconda3/lib/python3.7/site-packages/requests/api.py\u001b[0m in \u001b[0;36mget\u001b[0;34m(url, params, **kwargs)\u001b[0m\n\u001b[1;32m     73\u001b[0m \u001b[0;34m\u001b[0m\u001b[0m\n\u001b[1;32m     74\u001b[0m     \u001b[0mkwargs\u001b[0m\u001b[0;34m.\u001b[0m\u001b[0msetdefault\u001b[0m\u001b[0;34m(\u001b[0m\u001b[0;34m'allow_redirects'\u001b[0m\u001b[0;34m,\u001b[0m \u001b[0;32mTrue\u001b[0m\u001b[0;34m)\u001b[0m\u001b[0;34m\u001b[0m\u001b[0;34m\u001b[0m\u001b[0m\n\u001b[0;32m---> 75\u001b[0;31m     \u001b[0;32mreturn\u001b[0m \u001b[0mrequest\u001b[0m\u001b[0;34m(\u001b[0m\u001b[0;34m'get'\u001b[0m\u001b[0;34m,\u001b[0m \u001b[0murl\u001b[0m\u001b[0;34m,\u001b[0m \u001b[0mparams\u001b[0m\u001b[0;34m=\u001b[0m\u001b[0mparams\u001b[0m\u001b[0;34m,\u001b[0m \u001b[0;34m**\u001b[0m\u001b[0mkwargs\u001b[0m\u001b[0;34m)\u001b[0m\u001b[0;34m\u001b[0m\u001b[0;34m\u001b[0m\u001b[0m\n\u001b[0m\u001b[1;32m     76\u001b[0m \u001b[0;34m\u001b[0m\u001b[0m\n\u001b[1;32m     77\u001b[0m \u001b[0;34m\u001b[0m\u001b[0m\n",
      "\u001b[0;32m/opt/anaconda3/lib/python3.7/site-packages/requests/api.py\u001b[0m in \u001b[0;36mrequest\u001b[0;34m(method, url, **kwargs)\u001b[0m\n\u001b[1;32m     58\u001b[0m     \u001b[0;31m# cases, and look like a memory leak in others.\u001b[0m\u001b[0;34m\u001b[0m\u001b[0;34m\u001b[0m\u001b[0;34m\u001b[0m\u001b[0m\n\u001b[1;32m     59\u001b[0m     \u001b[0;32mwith\u001b[0m \u001b[0msessions\u001b[0m\u001b[0;34m.\u001b[0m\u001b[0mSession\u001b[0m\u001b[0;34m(\u001b[0m\u001b[0;34m)\u001b[0m \u001b[0;32mas\u001b[0m \u001b[0msession\u001b[0m\u001b[0;34m:\u001b[0m\u001b[0;34m\u001b[0m\u001b[0;34m\u001b[0m\u001b[0m\n\u001b[0;32m---> 60\u001b[0;31m         \u001b[0;32mreturn\u001b[0m \u001b[0msession\u001b[0m\u001b[0;34m.\u001b[0m\u001b[0mrequest\u001b[0m\u001b[0;34m(\u001b[0m\u001b[0mmethod\u001b[0m\u001b[0;34m=\u001b[0m\u001b[0mmethod\u001b[0m\u001b[0;34m,\u001b[0m \u001b[0murl\u001b[0m\u001b[0;34m=\u001b[0m\u001b[0murl\u001b[0m\u001b[0;34m,\u001b[0m \u001b[0;34m**\u001b[0m\u001b[0mkwargs\u001b[0m\u001b[0;34m)\u001b[0m\u001b[0;34m\u001b[0m\u001b[0;34m\u001b[0m\u001b[0m\n\u001b[0m\u001b[1;32m     61\u001b[0m \u001b[0;34m\u001b[0m\u001b[0m\n\u001b[1;32m     62\u001b[0m \u001b[0;34m\u001b[0m\u001b[0m\n",
      "\u001b[0;32m/opt/anaconda3/lib/python3.7/site-packages/requests/sessions.py\u001b[0m in \u001b[0;36mrequest\u001b[0;34m(self, method, url, params, data, headers, cookies, files, auth, timeout, allow_redirects, proxies, hooks, stream, verify, cert, json)\u001b[0m\n\u001b[1;32m    531\u001b[0m         }\n\u001b[1;32m    532\u001b[0m         \u001b[0msend_kwargs\u001b[0m\u001b[0;34m.\u001b[0m\u001b[0mupdate\u001b[0m\u001b[0;34m(\u001b[0m\u001b[0msettings\u001b[0m\u001b[0;34m)\u001b[0m\u001b[0;34m\u001b[0m\u001b[0;34m\u001b[0m\u001b[0m\n\u001b[0;32m--> 533\u001b[0;31m         \u001b[0mresp\u001b[0m \u001b[0;34m=\u001b[0m \u001b[0mself\u001b[0m\u001b[0;34m.\u001b[0m\u001b[0msend\u001b[0m\u001b[0;34m(\u001b[0m\u001b[0mprep\u001b[0m\u001b[0;34m,\u001b[0m \u001b[0;34m**\u001b[0m\u001b[0msend_kwargs\u001b[0m\u001b[0;34m)\u001b[0m\u001b[0;34m\u001b[0m\u001b[0;34m\u001b[0m\u001b[0m\n\u001b[0m\u001b[1;32m    534\u001b[0m \u001b[0;34m\u001b[0m\u001b[0m\n\u001b[1;32m    535\u001b[0m         \u001b[0;32mreturn\u001b[0m \u001b[0mresp\u001b[0m\u001b[0;34m\u001b[0m\u001b[0;34m\u001b[0m\u001b[0m\n",
      "\u001b[0;32m/opt/anaconda3/lib/python3.7/site-packages/requests/sessions.py\u001b[0m in \u001b[0;36msend\u001b[0;34m(self, request, **kwargs)\u001b[0m\n\u001b[1;32m    644\u001b[0m \u001b[0;34m\u001b[0m\u001b[0m\n\u001b[1;32m    645\u001b[0m         \u001b[0;31m# Send the request\u001b[0m\u001b[0;34m\u001b[0m\u001b[0;34m\u001b[0m\u001b[0;34m\u001b[0m\u001b[0m\n\u001b[0;32m--> 646\u001b[0;31m         \u001b[0mr\u001b[0m \u001b[0;34m=\u001b[0m \u001b[0madapter\u001b[0m\u001b[0;34m.\u001b[0m\u001b[0msend\u001b[0m\u001b[0;34m(\u001b[0m\u001b[0mrequest\u001b[0m\u001b[0;34m,\u001b[0m \u001b[0;34m**\u001b[0m\u001b[0mkwargs\u001b[0m\u001b[0;34m)\u001b[0m\u001b[0;34m\u001b[0m\u001b[0;34m\u001b[0m\u001b[0m\n\u001b[0m\u001b[1;32m    647\u001b[0m \u001b[0;34m\u001b[0m\u001b[0m\n\u001b[1;32m    648\u001b[0m         \u001b[0;31m# Total elapsed time of the request (approximately)\u001b[0m\u001b[0;34m\u001b[0m\u001b[0;34m\u001b[0m\u001b[0;34m\u001b[0m\u001b[0m\n",
      "\u001b[0;32m/opt/anaconda3/lib/python3.7/site-packages/requests/adapters.py\u001b[0m in \u001b[0;36msend\u001b[0;34m(self, request, stream, timeout, verify, cert, proxies)\u001b[0m\n\u001b[1;32m    514\u001b[0m                 \u001b[0;32mraise\u001b[0m \u001b[0mSSLError\u001b[0m\u001b[0;34m(\u001b[0m\u001b[0me\u001b[0m\u001b[0;34m,\u001b[0m \u001b[0mrequest\u001b[0m\u001b[0;34m=\u001b[0m\u001b[0mrequest\u001b[0m\u001b[0;34m)\u001b[0m\u001b[0;34m\u001b[0m\u001b[0;34m\u001b[0m\u001b[0m\n\u001b[1;32m    515\u001b[0m \u001b[0;34m\u001b[0m\u001b[0m\n\u001b[0;32m--> 516\u001b[0;31m             \u001b[0;32mraise\u001b[0m \u001b[0mConnectionError\u001b[0m\u001b[0;34m(\u001b[0m\u001b[0me\u001b[0m\u001b[0;34m,\u001b[0m \u001b[0mrequest\u001b[0m\u001b[0;34m=\u001b[0m\u001b[0mrequest\u001b[0m\u001b[0;34m)\u001b[0m\u001b[0;34m\u001b[0m\u001b[0;34m\u001b[0m\u001b[0m\n\u001b[0m\u001b[1;32m    517\u001b[0m \u001b[0;34m\u001b[0m\u001b[0m\n\u001b[1;32m    518\u001b[0m         \u001b[0;32mexcept\u001b[0m \u001b[0mClosedPoolError\u001b[0m \u001b[0;32mas\u001b[0m \u001b[0me\u001b[0m\u001b[0;34m:\u001b[0m\u001b[0;34m\u001b[0m\u001b[0;34m\u001b[0m\u001b[0m\n",
      "\u001b[0;31mConnectionError\u001b[0m: HTTPSConnectionPool(host='www.loc.gov', port=443): Max retries exceeded with url: /collections/sanborn-maps/?fo=json&fa=location:washington&c=500 (Caused by NewConnectionError('<urllib3.connection.VerifiedHTTPSConnection object at 0x104336450>: Failed to establish a new connection: [Errno 8] nodename nor servname provided, or not known'))"
     ]
    }
   ],
   "source": [
    "# 879\n",
    "washington = requests.get(\"https://www.loc.gov/collections/sanborn-maps/?fo=json&fa=location:washington&c=500\").json()\n",
    "\n",
    "while True: #As long as we have a next page, go and fetch it\n",
    "    f = open(\"sanborn-maps-data-all.json\", \"a\")\n",
    "    writeState(washington[\"results\"], \"Washington\", f)\n",
    "    f.write(\", \")\n",
    "    f.close()\n",
    "    next_page = washington[\"pagination\"][\"next\"] #get the next page url\n",
    "    print(next_page) #check to make sure working as expected\n",
    "    if next_page is not None: #make sure we haven't hit the end of the pages\n",
    "        washington = requests.get(next_page).json()\n",
    "    else:\n",
    "        break #we are done and can stop looping"
   ]
  },
  {
   "cell_type": "code",
   "execution_count": 124,
   "metadata": {},
   "outputs": [],
   "source": [
    "# washington had some errors so:\n",
    "washington = requests.get(\"https://www.loc.gov/collections/sanborn-maps/?fo=json&fa=location:washington&c=1000\").json()\n",
    "\n",
    "test = open(\"washington-fix.json\", \"w\")\n",
    "writeState(washington[\"results\"], \"Washington\", test)\n",
    "test.close()"
   ]
  },
  {
   "cell_type": "code",
   "execution_count": 67,
   "metadata": {},
   "outputs": [],
   "source": [
    "# 296\n",
    "west_virginia = requests.get(\"https://www.loc.gov/collections/sanborn-maps/?fo=json&fa=location:west+virginia&c=300\").json()\n",
    "\n",
    "f = open(\"sanborn-maps-data-all.json\", \"a\")\n",
    "writeState(west_virginia[\"results\"], \"West Virginia\", f)\n",
    "f.write(\", \")\n",
    "f.close()"
   ]
  },
  {
   "cell_type": "code",
   "execution_count": 68,
   "metadata": {},
   "outputs": [
    {
     "name": "stdout",
     "output_type": "stream",
     "text": [
      "https://www.loc.gov/collections/sanborn-maps/?c=500&fa=location:wisconsin&fo=json&sp=2\n",
      "None\n"
     ]
    }
   ],
   "source": [
    "# 978\n",
    "wisconsin = requests.get(\"https://www.loc.gov/collections/sanborn-maps/?fo=json&fa=location:wisconsin&c=500\").json()\n",
    "\n",
    "while True: #As long as we have a next page, go and fetch it\n",
    "    f = open(\"sanborn-maps-data-all.json\", \"a\")\n",
    "    writeState(wisconsin[\"results\"], \"Wisconsin\", f)\n",
    "    f.write(\", \")\n",
    "    f.close()\n",
    "    next_page = wisconsin[\"pagination\"][\"next\"] #get the next page url\n",
    "    print(next_page) #check to make sure working as expected\n",
    "    if next_page is not None: #make sure we haven't hit the end of the pages\n",
    "        wisconsin = requests.get(next_page).json()\n",
    "    else:\n",
    "        break #we are done and can stop looping"
   ]
  },
  {
   "cell_type": "code",
   "execution_count": 69,
   "metadata": {},
   "outputs": [],
   "source": [
    "# 139\n",
    "wyoming = requests.get(\"https://www.loc.gov/collections/sanborn-maps/?fo=json&fa=location:wyoming&c=150\").json()\n",
    "\n",
    "f = open(\"sanborn-maps-data-all.json\", \"a\")\n",
    "writeState(wyoming[\"results\"], \"Wyoming\", f)\n",
    "f.write(\", \")\n",
    "f.close()"
   ]
  },
  {
   "cell_type": "code",
   "execution_count": 70,
   "metadata": {},
   "outputs": [],
   "source": [
    "# 4\n",
    "dc = requests.get(\"https://www.loc.gov/collections/sanborn-maps/?fo=json&fa=location:washington+d.c.\").json()\n",
    "\n",
    "f = open(\"sanborn-maps-data-all.json\", \"a\")\n",
    "writeState(dc[\"results\"], \"District of Columbia\", f)\n",
    "f.write(\"]\")\n",
    "f.close()"
   ]
  },
  {
   "cell_type": "markdown",
   "metadata": {},
   "source": [
    "Now we have all the data, ready to be further manipulated if needed and used!"
   ]
  },
  {
   "cell_type": "code",
   "execution_count": null,
   "metadata": {},
   "outputs": [],
   "source": []
  }
 ],
 "metadata": {
  "kernelspec": {
   "display_name": "Python 3",
   "language": "python",
   "name": "python3"
  },
  "language_info": {
   "codemirror_mode": {
    "name": "ipython",
    "version": 3
   },
   "file_extension": ".py",
   "mimetype": "text/x-python",
   "name": "python",
   "nbconvert_exporter": "python",
   "pygments_lexer": "ipython3",
   "version": "3.7.4"
  }
 },
 "nbformat": 4,
 "nbformat_minor": 2
}
