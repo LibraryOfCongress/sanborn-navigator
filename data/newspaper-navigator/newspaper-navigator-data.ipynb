{
 "cells": [
  {
   "cell_type": "markdown",
   "metadata": {},
   "source": [
    "# Newspaper Navigator Data\n",
    "\n",
    "This notebook shows code that takes the downloded data from the [Newspaper Navigator](https://news-navigator.labs.loc.gov/) project and organizes it by location.\n",
    "\n",
    "Start by importing our necessary modules and opening the downloaded files. We'll only need the json module for this one. We're also starting with the 1850 headline and photo files for now."
   ]
  },
  {
   "cell_type": "code",
   "execution_count": 1,
   "metadata": {},
   "outputs": [],
   "source": [
    "import json"
   ]
  },
  {
   "cell_type": "code",
   "execution_count": 16,
   "metadata": {},
   "outputs": [],
   "source": [
    "with open('1850_headlines.json') as f:\n",
    "    headlines = json.load(f)\n",
    "    \n",
    "with open('1850_photos.json') as f:\n",
    "    photos = json.load(f)"
   ]
  },
  {
   "cell_type": "markdown",
   "metadata": {},
   "source": [
    "Next, define a function to figure out the places of publication. This will help us see how many locations there are and how we may need to clean this data."
   ]
  },
  {
   "cell_type": "code",
   "execution_count": 7,
   "metadata": {},
   "outputs": [],
   "source": [
    "def get_places(json):\n",
    "    temp = dict()\n",
    "    for element in json:\n",
    "        if element['place_of_publication'] not in temp:\n",
    "            temp[element['place_of_publication']] = 0\n",
    "        temp[element['place_of_publication']]+=1\n",
    "    return temp"
   ]
  },
  {
   "cell_type": "code",
   "execution_count": 8,
   "metadata": {},
   "outputs": [],
   "source": [
    "headline_locations = get_places(headlines)"
   ]
  },
  {
   "cell_type": "code",
   "execution_count": 9,
   "metadata": {},
   "outputs": [
    {
     "data": {
      "text/plain": [
       "{'Fayetteville, Tenn.': 3,\n",
       " 'Pickens Court House, S.C.': 113,\n",
       " 'Fayetteville [N.C.]': 42,\n",
       " 'Glasgow, Mo.': 72,\n",
       " 'Fremont [Ohio]': 3,\n",
       " 'Fremont, Sandusky County, Ohio': 3,\n",
       " 'Jackson, Miss.': 12,\n",
       " 'Holly Springs, Misp. [i.e. Miss.]': 2,\n",
       " 'Cadiz, Ohio': 44,\n",
       " 'Bath, Me.': 15,\n",
       " '[Reading, Pa.': 61,\n",
       " 'Abbeville, S.C.': 2,\n",
       " 'Montpelier, Vt.': 58,\n",
       " 'Canton, Stark County, Ohio': 81,\n",
       " 'Charlotte, N.C.': 32,\n",
       " 'Sunbury, Pa.': 29,\n",
       " 'Alexandria, D.C.': 1232,\n",
       " 'Davenport, Scott Co., Iowa': 31,\n",
       " 'New-Lisbon, Ohio': 73,\n",
       " 'Indianapolis': 172,\n",
       " 'Staunton, Va.': 266,\n",
       " 'Woodville, Miss.': 32,\n",
       " 'Washington [D.C.]': 2537,\n",
       " 'Washington City [i.e. Washington, D.C.]': 6,\n",
       " 'Allentaun, Pa.': 163,\n",
       " 'Athens, Tenn.': 13,\n",
       " 'St. Johnsbury, Vt.': 97,\n",
       " 'Raleigh, N.C.': 41,\n",
       " 'Camden, S.C.': 128,\n",
       " 'Hillsborough, N.C.': 66,\n",
       " 'Paris, Me.': 122,\n",
       " 'Tarborough, (Edgecombe Co., N.C.)': 18,\n",
       " 'Lewisburg, Pa.': 31,\n",
       " '[Ottumwa] Iowa': 168,\n",
       " 'Lancaster, Ohio': 11,\n",
       " 'Portsmouth, O. [Ohio]': 7,\n",
       " 'Hillsdale, Mich.': 227,\n",
       " 'Ottawa, Ill.': 33,\n",
       " 'Honolulu [Oahu], Hawaii': 59,\n",
       " 'City of Hannibal, Mo.': 6,\n",
       " 'St. Paul, Minn. Territory': 135,\n",
       " 'Burlington, Vt.': 70,\n",
       " 'Rutland, Vt.': 39,\n",
       " 'Yazoo City, Miss.': 55,\n",
       " 'Columbus, Miss.': 18,\n",
       " 'Ebensburg, Pa.': 96,\n",
       " 'Marshall, Tex.': 24,\n",
       " 'Lewistown, Pa.': 200,\n",
       " 'Richmond, Va.': 419,\n",
       " 'Franklin, Attakapas Co., Lou.': 34,\n",
       " 'Plaquemine, Parish of Iberville [La.]': 8,\n",
       " 'Mineral Point, Wis.': 150,\n",
       " 'Ravenna, Ohio': 7,\n",
       " 'New-York [N.Y.]': 783,\n",
       " 'Port Gibson, Claiborne Co., Miss.': 210,\n",
       " 'Stroudsburg, Pa.': 274,\n",
       " 'Dubuque, Iowa': 68,\n",
       " 'Burlington, Iowa': 23,\n",
       " 'Baton-Rouge, La.': 241,\n",
       " 'Napoleonville [La.]': 6,\n",
       " 'Woodstock, Vt.': 5,\n",
       " 'Canton, Miss.': 16,\n",
       " '[San Juan, P.R.': 319,\n",
       " 'Port Tobacco, Md.': 153,\n",
       " 'Richmond, IA [i.e. Ind.]': 98,\n",
       " 'New York [N.Y.]': 740,\n",
       " 'Shepherdstown, Va. [W. Va.]': 320,\n",
       " 'Elkton, Md.': 25,\n",
       " 'Bloomsburg, Pa.': 35,\n",
       " 'Gallipolis, Ohio': 27,\n",
       " 'Evansville, Ia. [i.e. Ind.]': 377,\n",
       " 'Oxford, Miss.': 42,\n",
       " 'Sumterville, S.C.': 33,\n",
       " 'Edgefield, S.C.': 5,\n",
       " '[New Orleans, La.]': 1,\n",
       " 'Wilmington, N.C.': 30,\n",
       " 'Middlebury, Vt.': 18,\n",
       " 'Bowling Green, Pike County, Mo.': 28}"
      ]
     },
     "execution_count": 9,
     "metadata": {},
     "output_type": "execute_result"
    }
   ],
   "source": [
    "headline_locations"
   ]
  },
  {
   "cell_type": "code",
   "execution_count": 10,
   "metadata": {},
   "outputs": [],
   "source": [
    "photo_locations = get_places(photos)"
   ]
  },
  {
   "cell_type": "code",
   "execution_count": 11,
   "metadata": {},
   "outputs": [
    {
     "data": {
      "text/plain": [
       "{'Fremont, Sandusky County, Ohio': 10,\n",
       " 'St. Johnsbury, Vt.': 7,\n",
       " 'Hillsborough, N.C.': 1,\n",
       " 'Canton, Miss.': 3,\n",
       " 'Richmond, IA [i.e. Ind.]': 1}"
      ]
     },
     "execution_count": 11,
     "metadata": {},
     "output_type": "execute_result"
    }
   ],
   "source": [
    "photo_locations"
   ]
  },
  {
   "cell_type": "markdown",
   "metadata": {},
   "source": [
    "We can see that the places of publication are not standardized, making it much more difficult to correlate them to the Sanborn and geographic data in the project. Let's take a look at the geographic_coverage instead. This data should be more standardized but may create other complications with multiple locations"
   ]
  },
  {
   "cell_type": "code",
   "execution_count": 26,
   "metadata": {},
   "outputs": [],
   "source": [
    "def get_geogs(json):\n",
    "    temp = dict()\n",
    "    for element in json:\n",
    "        geogs = element['geographic_coverage']\n",
    "        for g in geogs:\n",
    "            if g not in temp:\n",
    "                temp[g] = 0\n",
    "            temp[g]+=1\n",
    "    return temp"
   ]
  },
  {
   "cell_type": "code",
   "execution_count": 27,
   "metadata": {},
   "outputs": [],
   "source": [
    "headline_geogs = get_geogs(headlines)"
   ]
  },
  {
   "cell_type": "code",
   "execution_count": 28,
   "metadata": {},
   "outputs": [
    {
     "data": {
      "text/plain": [
       "{'Tennessee--Lincoln--Fayetteville': 3,\n",
       " 'South Carolina--Oconee--Walhalla': 113,\n",
       " 'South Carolina--Pickens--Pickens': 113,\n",
       " 'North Carolina--Cumberland--Fayetteville': 42,\n",
       " 'Missouri--Howard--Glasgow': 72,\n",
       " 'Ohio--Sandusky--Fremont': 6,\n",
       " 'Mississippi--Hinds--Jackson': 12,\n",
       " 'Mississippi--Marshall--Holly Springs': 2,\n",
       " 'Ohio--Harrison--Cadiz': 44,\n",
       " 'Maine--Sagadahoc--Bath': 15,\n",
       " 'Pennsylvania--Berks--Reading': 61,\n",
       " 'South Carolina--Abbeville--Abbeville': 2,\n",
       " 'Vermont--Washington--Montpelier': 58,\n",
       " 'Ohio--Stark--Canton': 81,\n",
       " 'North Carolina--Mecklenburg--Charlotte': 32,\n",
       " 'Pennsylvania--Northumberland--Sunbury': 29,\n",
       " 'District of Columbia--Alexandria': 1232,\n",
       " 'Virginia--Alexandria': 1232,\n",
       " 'Virginia--Alexandria--Alexandria': 1232,\n",
       " 'Iowa--Scott--Davenport': 31,\n",
       " 'Ohio--Columbiana--New Lisbon': 73,\n",
       " 'Ohio--Columbiana--Salem': 73,\n",
       " 'Indiana--Marion--Indianapolis': 172,\n",
       " 'Virginia--Staunton': 266,\n",
       " 'Mississippi--Wilkinson--Woodville': 32,\n",
       " 'District of Columbia--Washington': 2543,\n",
       " 'Pennsylvania--Lehigh--Allentown': 163,\n",
       " 'Tennessee--McMinn--Athens': 13,\n",
       " 'Vermont--Caledonia--Saint Johnsbury': 97,\n",
       " 'North Carolina--Wake--Raleigh': 41,\n",
       " 'South Carolina--Kershaw--Camden': 128,\n",
       " 'North Carolina--Orange--Hillsboro': 66,\n",
       " 'Maine--Oxford--Paris': 122,\n",
       " 'Maine--Oxford--South Paris': 122,\n",
       " 'North Carolina--Edgecombe--Tarboro': 18,\n",
       " 'Pennsylvania--Union--Lewisburg': 31,\n",
       " 'Iowa--Wapello--Ottumwa': 168,\n",
       " 'Ohio--Fairfield--Lancaster': 11,\n",
       " 'Ohio--Scioto--Portsmouth': 7,\n",
       " 'Michigan--Hillsdale--Hillsdale': 227,\n",
       " 'Illinois--La Salle County--Ottawa': 33,\n",
       " 'Hawaii--Honolulu--Honolulu': 59,\n",
       " 'Missouri--Marion--Hannibal': 6,\n",
       " 'Minnesota--Ramsey--Saint Paul': 135,\n",
       " 'Vermont--Chittenden--Burlington': 70,\n",
       " 'Vermont--Rutland--Rutland': 39,\n",
       " 'Mississippi--Yazoo--Yazoo City': 55,\n",
       " 'Mississippi--Lowndes--Columbus': 18,\n",
       " 'Pennsylvania--Cambria--Ebensburg': 96,\n",
       " 'Texas--Harrison--Marshall': 24,\n",
       " 'Pennsylvania--Mifflin--Lewistown': 200,\n",
       " 'Virginia--Richmond--Richmond': 419,\n",
       " 'Louisiana--Iberia--New Iberia': 34,\n",
       " 'Louisiana--Saint Mary--Franklin': 34,\n",
       " 'Louisiana--Iberville--Plaquemine': 8,\n",
       " 'Wisconsin--Iowa--Mineral Point': 150,\n",
       " 'Ohio--Portage--Ravenna': 7,\n",
       " 'New York--New York--New York': 1523,\n",
       " 'Mississippi--Claiborne--Port Gibson': 210,\n",
       " 'Pennsylvania--Monroe--East Stroudsburg': 274,\n",
       " 'Pennsylvania--Monroe--Stroudsburg': 274,\n",
       " 'Pennsylvania--Pike--Milford': 274,\n",
       " 'Iowa--Dubuque--Dubuque': 68,\n",
       " 'Iowa--Des Moines--Burlington': 23,\n",
       " 'Louisiana--East Baton Rouge--Baton Rouge': 241,\n",
       " 'Louisiana--Assumption--Napoleonville': 6,\n",
       " 'Vermont--Windsor--Woodstock': 5,\n",
       " 'Mississippi--Madison--Canton': 16,\n",
       " 'Puerto Rico--San Juan': 319,\n",
       " 'Maryland--Charles--Port Tobacco': 153,\n",
       " 'Indiana--Wayne--Richmond': 98,\n",
       " 'West Virginia--Jefferson--Shepherdstown': 320,\n",
       " 'Maryland--Cecil--Elkton': 25,\n",
       " 'Pennsylvania--Columbia--Bloomsburg': 35,\n",
       " 'Ohio--Gallia--Gallipolis': 27,\n",
       " 'Indiana--Vanderburgh--Evansville': 377,\n",
       " 'Mississippi--Lafayette--Oxford': 42,\n",
       " 'South Carolina--Sumter--Sumter': 33,\n",
       " 'South Carolina--Edgefield--Edgefield': 5,\n",
       " 'Louisiana--Orleans--New Orleans': 1,\n",
       " 'North Carolina--New Hanover--Wilmington': 30,\n",
       " 'Vermont--Addison--Middlebury': 18,\n",
       " 'Missouri--Pike--Bowling Green': 28,\n",
       " 'Missouri--Pike--Louisiana': 28}"
      ]
     },
     "execution_count": 28,
     "metadata": {},
     "output_type": "execute_result"
    }
   ],
   "source": [
    "headline_geogs"
   ]
  },
  {
   "cell_type": "code",
   "execution_count": 29,
   "metadata": {},
   "outputs": [],
   "source": [
    "photo_geogs = get_geogs(photos)"
   ]
  },
  {
   "cell_type": "code",
   "execution_count": 30,
   "metadata": {},
   "outputs": [
    {
     "data": {
      "text/plain": [
       "{'Ohio--Sandusky--Fremont': 10,\n",
       " 'Vermont--Caledonia--Saint Johnsbury': 7,\n",
       " 'North Carolina--Orange--Hillsboro': 1,\n",
       " 'Mississippi--Madison--Canton': 3,\n",
       " 'Indiana--Wayne--Richmond': 1}"
      ]
     },
     "execution_count": 30,
     "metadata": {},
     "output_type": "execute_result"
    }
   ],
   "source": [
    "photo_geogs"
   ]
  },
  {
   "cell_type": "markdown",
   "metadata": {},
   "source": [
    "## Applying to the Project\n",
    "\n",
    "In order to limit the amount of newspaper data to include, I'm going to focus on the counties that have Sanborn maps in them.\n",
    "\n",
    "Start by importing the requests module so we can programmatically get data instead of downloading and opening each file."
   ]
  },
  {
   "cell_type": "code",
   "execution_count": 2,
   "metadata": {},
   "outputs": [],
   "source": [
    "import requests"
   ]
  },
  {
   "cell_type": "code",
   "execution_count": 21,
   "metadata": {},
   "outputs": [
    {
     "name": "stdout",
     "output_type": "stream",
     "text": [
      "1850_photos.json\n",
      "1851_photos.json\n",
      "1852_photos.json\n",
      "1853_photos.json\n",
      "1854_photos.json\n",
      "1855_photos.json\n",
      "1856_photos.json\n",
      "1857_photos.json\n",
      "1858_photos.json\n",
      "1859_photos.json\n",
      "1860_photos.json\n",
      "1861_photos.json\n",
      "1862_photos.json\n",
      "1863_photos.json\n",
      "1864_photos.json\n",
      "1865_photos.json\n",
      "1866_photos.json\n",
      "1867_photos.json\n",
      "1868_photos.json\n",
      "1869_photos.json\n",
      "1870_photos.json\n"
     ]
    }
   ],
   "source": [
    "all_photos = []\n",
    "\n",
    "for n in range(1850, 1871): # goes from 1850-1870\n",
    "    temp_photos = requests.get('https://news-navigator.labs.loc.gov/prepackaged/' + str(n) + '_photos.json')\n",
    "    for item in temp_photos.json():\n",
    "        all_photos.append(item)\n",
    "    print(str(n) + '_photos.json')"
   ]
  },
  {
   "cell_type": "code",
   "execution_count": 24,
   "metadata": {},
   "outputs": [
    {
     "data": {
      "text/plain": [
       "{'filepath': 'ohi_edgar_ver01/data/sn85038121/00280775356/1870081801/0133/000_0_91.jpg',\n",
       " 'pub_date': '1870-08-18',\n",
       " 'page_seq_num': 133,\n",
       " 'edition_seq_num': 1,\n",
       " 'batch': 'ohi_edgar_ver01',\n",
       " 'lccn': 'sn85038121',\n",
       " 'box': [0.38768919024277126,\n",
       "  0.7511628702831343,\n",
       "  0.49907297780594295,\n",
       "  0.8920526586665525],\n",
       " 'score': 0.9192439913749695,\n",
       " 'ocr': ['August', '18,', \"Sheriff's\", 'Sale.'],\n",
       " 'place_of_publication': 'Gallipolis, Ohio',\n",
       " 'geographic_coverage': ['Ohio--Gallia--Gallipolis'],\n",
       " 'name': 'Gallipolis journal. [volume]',\n",
       " 'publisher': 'Alexander Vance',\n",
       " 'url': 'https://news-navigator.labs.loc.gov/data/ohi_edgar_ver01/data/sn85038121/00280775356/1870081801/0133/000_0_91.jpg',\n",
       " 'page_url': 'https://chroniclingamerica.loc.gov/data/batches/ohi_edgar_ver01/data/sn85038121/00280775356/1870081801/0133.jp2'}"
      ]
     },
     "execution_count": 24,
     "metadata": {},
     "output_type": "execute_result"
    }
   ],
   "source": [
    "all_photos[-1]"
   ]
  },
  {
   "cell_type": "code",
   "execution_count": 25,
   "metadata": {},
   "outputs": [
    {
     "name": "stdout",
     "output_type": "stream",
     "text": [
      "1871_photos.json\n",
      "1872_photos.json\n",
      "1873_photos.json\n",
      "1874_photos.json\n",
      "1875_photos.json\n",
      "1876_photos.json\n",
      "1877_photos.json\n",
      "1878_photos.json\n",
      "1879_photos.json\n",
      "1880_photos.json\n",
      "1881_photos.json\n",
      "1882_photos.json\n",
      "1883_photos.json\n",
      "1884_photos.json\n",
      "1885_photos.json\n",
      "1886_photos.json\n",
      "1887_photos.json\n",
      "1888_photos.json\n",
      "1889_photos.json\n",
      "1890_photos.json\n"
     ]
    }
   ],
   "source": [
    "for n in range(1871, 1891): # goes from 1871-1890\n",
    "    temp_photos = requests.get('https://news-navigator.labs.loc.gov/prepackaged/' + str(n) + '_photos.json')\n",
    "    for item in temp_photos.json():\n",
    "        all_photos.append(item)\n",
    "    print(str(n) + '_photos.json')"
   ]
  },
  {
   "cell_type": "code",
   "execution_count": 26,
   "metadata": {},
   "outputs": [
    {
     "data": {
      "text/plain": [
       "{'filepath': 'msar_emerald_ver02/data/sn87065614/00383343793/1890012301/0756/001_0_93.jpg',\n",
       " 'pub_date': '1890-01-23',\n",
       " 'page_seq_num': 756,\n",
       " 'edition_seq_num': 1,\n",
       " 'batch': 'msar_emerald_ver02',\n",
       " 'lccn': 'sn87065614',\n",
       " 'box': [0.530294822080292,\n",
       "  0.06756236509692659,\n",
       "  0.9614150889598541,\n",
       "  0.3008145780588211],\n",
       " 'score': 0.9326552152633667,\n",
       " 'ocr': ['FOR', 'SALE.'],\n",
       " 'place_of_publication': 'Starkville, Miss.',\n",
       " 'geographic_coverage': ['Mississippi--Oktibbeha--Starkville'],\n",
       " 'name': 'Southern live-stock journal.',\n",
       " 'publisher': 'Live-stock Journal Co.',\n",
       " 'url': 'https://news-navigator.labs.loc.gov/data/msar_emerald_ver02/data/sn87065614/00383343793/1890012301/0756/001_0_93.jpg',\n",
       " 'page_url': 'https://chroniclingamerica.loc.gov/data/batches/msar_emerald_ver02/data/sn87065614/00383343793/1890012301/0756.jp2'}"
      ]
     },
     "execution_count": 26,
     "metadata": {},
     "output_type": "execute_result"
    }
   ],
   "source": [
    "all_photos[-1]"
   ]
  },
  {
   "cell_type": "code",
   "execution_count": 27,
   "metadata": {},
   "outputs": [
    {
     "name": "stdout",
     "output_type": "stream",
     "text": [
      "1891_photos.json\n",
      "1892_photos.json\n",
      "1893_photos.json\n",
      "1894_photos.json\n",
      "1895_photos.json\n",
      "1896_photos.json\n",
      "1897_photos.json\n",
      "1898_photos.json\n",
      "1899_photos.json\n",
      "1900_photos.json\n",
      "1901_photos.json\n",
      "1902_photos.json\n",
      "1903_photos.json\n",
      "1904_photos.json\n",
      "1905_photos.json\n",
      "1906_photos.json\n",
      "1907_photos.json\n",
      "1908_photos.json\n",
      "1909_photos.json\n",
      "1910_photos.json\n"
     ]
    }
   ],
   "source": [
    "for n in range(1891, 1911): # goes from 1891-1910\n",
    "    temp_photos = requests.get('https://news-navigator.labs.loc.gov/prepackaged/' + str(n) + '_photos.json')\n",
    "    for item in temp_photos.json():\n",
    "        all_photos.append(item)\n",
    "    print(str(n) + '_photos.json')"
   ]
  },
  {
   "cell_type": "code",
   "execution_count": 28,
   "metadata": {},
   "outputs": [
    {
     "data": {
      "text/plain": [
       "{'filepath': 'mimtptc_chelsea_ver01/data/sn85038709/00415669343/1910052601/0356/006_0_95.jpg',\n",
       " 'pub_date': '1910-05-26',\n",
       " 'page_seq_num': 356,\n",
       " 'edition_seq_num': 1,\n",
       " 'batch': 'mimtptc_chelsea_ver01',\n",
       " 'lccn': 'sn85038709',\n",
       " 'box': [0.037587425925514915,\n",
       "  0.4260654315571155,\n",
       "  0.16797755130779782,\n",
       "  0.5878377304612715],\n",
       " 'score': 0.9587684869766235,\n",
       " 'ocr': [\"si'.\",\n",
       "  'V\"',\n",
       "  'is',\n",
       "  'j',\n",
       "  \"'\",\n",
       "  'ki;v.',\n",
       "  'W.',\n",
       "  ';.',\n",
       "  'i.oiy',\n",
       "  'ho',\n",
       "  'will',\n",
       "  'deli',\n",
       "  'er',\n",
       "  'the',\n",
       "  'Memorial',\n",
       "  'addres',\n",
       "  'at',\n",
       "  'the',\n",
       "  'ojiera',\n",
       "  'Ia',\n",
       "  'i;s\"',\n",
       "  \"r.'.ay\",\n",
       "  '-W).'],\n",
       " 'place_of_publication': 'Alma, Mich.',\n",
       " 'geographic_coverage': ['Michigan--Gratiot--Alma'],\n",
       " 'name': 'Alma record.',\n",
       " 'publisher': 'Miss C.M. Fleming',\n",
       " 'url': 'https://news-navigator.labs.loc.gov/data/mimtptc_chelsea_ver01/data/sn85038709/00415669343/1910052601/0356/006_0_95.jpg',\n",
       " 'page_url': 'https://chroniclingamerica.loc.gov/data/batches/mimtptc_chelsea_ver01/data/sn85038709/00415669343/1910052601/0356.jp2'}"
      ]
     },
     "execution_count": 28,
     "metadata": {},
     "output_type": "execute_result"
    }
   ],
   "source": [
    "all_photos[-1]"
   ]
  },
  {
   "cell_type": "code",
   "execution_count": 29,
   "metadata": {},
   "outputs": [
    {
     "name": "stdout",
     "output_type": "stream",
     "text": [
      "1911_photos.json\n",
      "1912_photos.json\n",
      "1913_photos.json\n",
      "1914_photos.json\n",
      "1915_photos.json\n",
      "1916_photos.json\n",
      "1917_photos.json\n",
      "1918_photos.json\n",
      "1919_photos.json\n",
      "1920_photos.json\n",
      "1921_photos.json\n",
      "1922_photos.json\n",
      "1923_photos.json\n",
      "1924_photos.json\n",
      "1925_photos.json\n",
      "1926_photos.json\n",
      "1927_photos.json\n",
      "1928_photos.json\n",
      "1929_photos.json\n",
      "1930_photos.json\n"
     ]
    }
   ],
   "source": [
    "for n in range(1911, 1931): # goes from 1911-1930\n",
    "    temp_photos = requests.get('https://news-navigator.labs.loc.gov/prepackaged/' + str(n) + '_photos.json')\n",
    "    for item in temp_photos.json():\n",
    "        all_photos.append(item)\n",
    "    print(str(n) + '_photos.json')"
   ]
  },
  {
   "cell_type": "code",
   "execution_count": 30,
   "metadata": {},
   "outputs": [
    {
     "data": {
      "text/plain": [
       "{'filepath': 'dlc_perry_ver01/data/sn83045462/00280600313/1930122701/0425/005_0_95.jpg',\n",
       " 'pub_date': '1930-12-27',\n",
       " 'page_seq_num': 425,\n",
       " 'edition_seq_num': 1,\n",
       " 'batch': 'dlc_perry_ver01',\n",
       " 'lccn': 'sn83045462',\n",
       " 'box': [0.14503879964786726,\n",
       "  0.03966031484597104,\n",
       "  0.26296206286353785,\n",
       "  0.23427494485579914],\n",
       " 'score': 0.9525977373123169,\n",
       " 'ocr': ['Aviatrix',\n",
       "  'to',\n",
       "  'Wed',\n",
       "  'MARJORIE',\n",
       "  'CRAWFORD,',\n",
       "  'Twenty-two-year-old',\n",
       "  'flyer,',\n",
       "  'announced',\n",
       "  'her',\n",
       "  'engagement',\n",
       "  'in',\n",
       "  'Los',\n",
       "  'Angeles',\n",
       "  'to',\n",
       "  'Wil',\n",
       "  'liam',\n",
       "  'lVdiman,',\n",
       "  'motion',\n",
       "  'picture',\n",
       "  'director',\n",
       "  'and',\n",
       "  'a',\n",
       "  'visitor',\n",
       "  'enthusiast.',\n",
       "  '—A.',\n",
       "  'P.',\n",
       "  'Photo.'],\n",
       " 'place_of_publication': 'Washington, D.C.',\n",
       " 'geographic_coverage': ['District of Columbia--Washington'],\n",
       " 'name': 'Evening star. [volume]',\n",
       " 'publisher': 'W.D. Wallach & Hope',\n",
       " 'url': 'https://news-navigator.labs.loc.gov/data/dlc_perry_ver01/data/sn83045462/00280600313/1930122701/0425/005_0_95.jpg',\n",
       " 'page_url': 'https://chroniclingamerica.loc.gov/data/batches/dlc_perry_ver01/data/sn83045462/00280600313/1930122701/0425.jp2'}"
      ]
     },
     "execution_count": 30,
     "metadata": {},
     "output_type": "execute_result"
    }
   ],
   "source": [
    "all_photos[-1]"
   ]
  },
  {
   "cell_type": "code",
   "execution_count": 31,
   "metadata": {},
   "outputs": [
    {
     "name": "stdout",
     "output_type": "stream",
     "text": [
      "1931_photos.json\n",
      "1932_photos.json\n",
      "1933_photos.json\n",
      "1934_photos.json\n",
      "1935_photos.json\n",
      "1936_photos.json\n",
      "1937_photos.json\n",
      "1938_photos.json\n",
      "1939_photos.json\n",
      "1940_photos.json\n",
      "1941_photos.json\n",
      "1942_photos.json\n",
      "1943_photos.json\n",
      "1944_photos.json\n",
      "1945_photos.json\n",
      "1946_photos.json\n",
      "1947_photos.json\n",
      "1948_photos.json\n",
      "1949_photos.json\n",
      "1950_photos.json\n"
     ]
    }
   ],
   "source": [
    "for n in range(1931, 1951): # goes from 1931-1950\n",
    "    temp_photos = requests.get('https://news-navigator.labs.loc.gov/prepackaged/' + str(n) + '_photos.json')\n",
    "    for item in temp_photos.json():\n",
    "        all_photos.append(item)\n",
    "    print(str(n) + '_photos.json')"
   ]
  },
  {
   "cell_type": "code",
   "execution_count": 32,
   "metadata": {},
   "outputs": [
    {
     "data": {
      "text/plain": [
       "{'filepath': 'ohi_amaryllis_ver01/data/sn88077226/0041421020A/1950060201/0209/000_0_99.jpg',\n",
       " 'pub_date': '1950-06-02',\n",
       " 'page_seq_num': 209,\n",
       " 'edition_seq_num': 1,\n",
       " 'batch': 'ohi_amaryllis_ver01',\n",
       " 'lccn': 'sn88077226',\n",
       " 'box': [0.24949934578392804,\n",
       "  0.5379106913527397,\n",
       "  0.8852704997321956,\n",
       "  0.8998293245219748],\n",
       " 'score': 0.9969677329063416,\n",
       " 'ocr': ['Miss', 'it....', '..', 'j•'],\n",
       " 'place_of_publication': 'Dayton, Ohio',\n",
       " 'geographic_coverage': ['Ohio--Montgomery--Dayton'],\n",
       " 'name': 'The Ohio daily-express.',\n",
       " 'publisher': 'Paige H. Strickland',\n",
       " 'url': 'https://news-navigator.labs.loc.gov/data/ohi_amaryllis_ver01/data/sn88077226/0041421020A/1950060201/0209/000_0_99.jpg',\n",
       " 'page_url': 'https://chroniclingamerica.loc.gov/data/batches/ohi_amaryllis_ver01/data/sn88077226/0041421020A/1950060201/0209.jp2'}"
      ]
     },
     "execution_count": 32,
     "metadata": {},
     "output_type": "execute_result"
    }
   ],
   "source": [
    "all_photos[-1]"
   ]
  },
  {
   "cell_type": "code",
   "execution_count": 33,
   "metadata": {},
   "outputs": [
    {
     "name": "stdout",
     "output_type": "stream",
     "text": [
      "1951_photos.json\n",
      "1952_photos.json\n",
      "1953_photos.json\n",
      "1954_photos.json\n",
      "1955_photos.json\n",
      "1956_photos.json\n",
      "1957_photos.json\n",
      "1958_photos.json\n",
      "1959_photos.json\n",
      "1960_photos.json\n",
      "1961_photos.json\n",
      "1962_photos.json\n",
      "1963_photos.json\n"
     ]
    }
   ],
   "source": [
    "for n in range(1951, 1964): # goes from 1951-1963\n",
    "    temp_photos = requests.get('https://news-navigator.labs.loc.gov/prepackaged/' + str(n) + '_photos.json')\n",
    "    for item in temp_photos.json():\n",
    "        all_photos.append(item)\n",
    "    print(str(n) + '_photos.json')"
   ]
  },
  {
   "cell_type": "code",
   "execution_count": 34,
   "metadata": {},
   "outputs": [
    {
     "data": {
      "text/plain": [
       "{'filepath': 'msar_nickel_ver01/data/sn87065526/0038334525A/1963112801/0189/000_0_99.jpg',\n",
       " 'pub_date': '1963-11-28',\n",
       " 'page_seq_num': 189,\n",
       " 'edition_seq_num': 1,\n",
       " 'batch': 'msar_nickel_ver01',\n",
       " 'lccn': 'sn87065526',\n",
       " 'box': [0.3737845981822294,\n",
       "  0.06714182592637045,\n",
       "  0.8290997673483456,\n",
       "  0.3359057889970321],\n",
       " 'score': 0.9971892237663269,\n",
       " 'ocr': ['REBEL',\n",
       "  'BOOSTERS—Ready',\n",
       "  'to',\n",
       "  'back',\n",
       "  'the',\n",
       "  'Rebels',\n",
       "  'when',\n",
       "  'they',\n",
       "  'meet',\n",
       "  'arch',\n",
       "  'rival',\n",
       "  'Mississippi',\n",
       "  'State',\n",
       "  'in',\n",
       "  'Starkville',\n",
       "  'Saturday',\n",
       "  'are',\n",
       "  'these',\n",
       "  'Bennett,',\n",
       "  'Tchula.',\n",
       "  'Back',\n",
       "  'row',\n",
       "  'left:',\n",
       "  'Tony',\n",
       "  'Thaxton,',\n",
       "  'Greenwood;',\n",
       "  'Wynn',\n",
       "  'Skipper,',\n",
       "  'Columbia;',\n",
       "  'Bubba',\n",
       "  'McArthur,',\n",
       "  'Jackson;',\n",
       "  'Sally'],\n",
       " 'place_of_publication': 'Pascagoula, Miss.',\n",
       " 'geographic_coverage': ['Mississippi--Jackson--Moss Point',\n",
       "  'Mississippi--Jackson--Pascagoula'],\n",
       " 'name': 'The Chronicle.',\n",
       " 'publisher': 'Ira B. Harkey, Jr.',\n",
       " 'url': 'https://news-navigator.labs.loc.gov/data/msar_nickel_ver01/data/sn87065526/0038334525A/1963112801/0189/000_0_99.jpg',\n",
       " 'page_url': 'https://chroniclingamerica.loc.gov/data/batches/msar_nickel_ver01/data/sn87065526/0038334525A/1963112801/0189.jp2'}"
      ]
     },
     "execution_count": 34,
     "metadata": {},
     "output_type": "execute_result"
    }
   ],
   "source": [
    "all_photos[-1]"
   ]
  },
  {
   "cell_type": "code",
   "execution_count": 35,
   "metadata": {},
   "outputs": [
    {
     "data": {
      "text/plain": [
       "1594084"
      ]
     },
     "execution_count": 35,
     "metadata": {},
     "output_type": "execute_result"
    }
   ],
   "source": [
    "len(all_photos)"
   ]
  },
  {
   "cell_type": "code",
   "execution_count": 42,
   "metadata": {},
   "outputs": [],
   "source": [
    "# writing the file to keep it in case needed later\n",
    "f = open('all-photos.json', 'w')\n",
    "f.write(json.dumps(all_photos))\n",
    "f.close()"
   ]
  },
  {
   "cell_type": "markdown",
   "metadata": {},
   "source": [
    "Now that we have the data in a list, we can go back through it and remove the information we don't need. I want to keep the url, place of publication, geographic coverage, ocr, publication date, publication name, and recreate the url to link back to the Chronicling America site."
   ]
  },
  {
   "cell_type": "code",
   "execution_count": 65,
   "metadata": {},
   "outputs": [],
   "source": [
    "def keep_data():\n",
    "    for item in all_photos:\n",
    "        item['site_url'] = 'https://chroniclingamerica.loc.gov/lccn/' + item['lccn'] + '/' + item['pub_date'] + '/ed-' + str(item['edition_seq_num'])\n",
    "        del item['filepath']\n",
    "        del item['page_seq_num']\n",
    "        del item['edition_seq_num']\n",
    "        del item['batch']\n",
    "        del item['lccn']\n",
    "        del item['box']\n",
    "        del item['publisher']\n",
    "        del item['page_url']\n",
    "        del item['score']"
   ]
  },
  {
   "cell_type": "code",
   "execution_count": 66,
   "metadata": {},
   "outputs": [],
   "source": [
    "keep_data()"
   ]
  },
  {
   "cell_type": "code",
   "execution_count": 67,
   "metadata": {},
   "outputs": [
    {
     "data": {
      "text/plain": [
       "{'pub_date': '1850-07-27',\n",
       " 'ocr': ['ht',\n",
       "  'I',\n",
       "  \"'\",\n",
       "  'Wll.',\n",
       "  '.',\n",
       "  'III',\n",
       "  'tl',\n",
       "  'T',\n",
       "  '.',\n",
       "  '\"\\'',\n",
       "  '\"\\'',\n",
       "  '\"',\n",
       "  'sssaaaaalf',\n",
       "  '\"',\n",
       "  \"'\",\n",
       "  '\"',\n",
       "  '\"',\n",
       "  'J!',\n",
       "  '\"',\n",
       "  '\"\\'',\n",
       "  \"''\",\n",
       "  'fassi',\n",
       "  '1',\n",
       "  \"'\"],\n",
       " 'place_of_publication': 'Fremont, Sandusky County, Ohio',\n",
       " 'geographic_coverage': ['Ohio--Sandusky--Fremont'],\n",
       " 'name': 'Fremont weekly freeman. [volume]',\n",
       " 'url': 'https://news-navigator.labs.loc.gov/data/ohi_ingstad_ver01/data/sn85026051/00296027029/1850072701/0037/000_0_98.jpg',\n",
       " 'site_url': 'https://chroniclingamerica.loc.gov/lccn/sn85026051/1850-07-27/ed-1'}"
      ]
     },
     "execution_count": 67,
     "metadata": {},
     "output_type": "execute_result"
    }
   ],
   "source": [
    "all_photos[0]"
   ]
  },
  {
   "cell_type": "markdown",
   "metadata": {},
   "source": [
    "There's still too much data for my project (I need files to be under 1GB to be hosted on GitHub, and preferably smaller if possible). So, I'm going to use the Sanborn locations to filter out which locations I want to keep from the Newspaper Navigator data.\n",
    "\n",
    "First, I'll need to load in the Sanborn data file."
   ]
  },
  {
   "cell_type": "code",
   "execution_count": null,
   "metadata": {},
   "outputs": [],
   "source": []
  },
  {
   "cell_type": "markdown",
   "metadata": {},
   "source": [
    "Then, I can match up the locations of the Sanborn data to the Newspaper Navigator data. I'll create a new data structure for the items I want to keep. I also want to print out the locations from Sanborn that didn't find a match in the Newspaper Navigator data to flag them for follow-up fixing."
   ]
  },
  {
   "cell_type": "code",
   "execution_count": null,
   "metadata": {},
   "outputs": [],
   "source": []
  },
  {
   "cell_type": "code",
   "execution_count": 76,
   "metadata": {},
   "outputs": [],
   "source": [
    "# writing the file\n",
    "f = open('photos-trimmed.json', 'w')\n",
    "f.write(json.dumps(all_photos))\n",
    "f.close()"
   ]
  },
  {
   "cell_type": "markdown",
   "metadata": {},
   "source": [
    "I also want to have a way to access the data by location since my project focuses on updating results based on the currently selected location. So, I need to create another data file that goes from location to the indices of the photo data items, with an organization similar to the nested state -> county -> city structure of the Sanborn data file."
   ]
  },
  {
   "cell_type": "code",
   "execution_count": 39,
   "metadata": {},
   "outputs": [
    {
     "name": "stdout",
     "output_type": "stream",
     "text": [
      "1\n",
      "2\n",
      "10\n"
     ]
    }
   ],
   "source": [
    "# figuring out how many is max # of locations\n",
    "max_locations = 0\n",
    "\n",
    "for item in all_photos:\n",
    "    if (len(item['geographic_coverage']) > max_locations):\n",
    "        max_locations = len(item['geographic_coverage'])\n",
    "        print(max_locations)"
   ]
  },
  {
   "cell_type": "code",
   "execution_count": null,
   "metadata": {},
   "outputs": [],
   "source": []
  }
 ],
 "metadata": {
  "kernelspec": {
   "display_name": "Python 3",
   "language": "python",
   "name": "python3"
  },
  "language_info": {
   "codemirror_mode": {
    "name": "ipython",
    "version": 3
   },
   "file_extension": ".py",
   "mimetype": "text/x-python",
   "name": "python",
   "nbconvert_exporter": "python",
   "pygments_lexer": "ipython3",
   "version": "3.7.4"
  }
 },
 "nbformat": 4,
 "nbformat_minor": 2
}
