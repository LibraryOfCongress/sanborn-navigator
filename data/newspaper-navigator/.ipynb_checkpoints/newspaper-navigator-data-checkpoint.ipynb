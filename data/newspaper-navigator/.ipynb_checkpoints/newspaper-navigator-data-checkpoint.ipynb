{
 "cells": [
  {
   "cell_type": "markdown",
   "metadata": {},
   "source": [
    "# Newspaper Navigator Data\n",
    "\n",
    "This notebook shows code that takes the downloded data from the [Newspaper Navigator](https://news-navigator.labs.loc.gov/) project and organizes it by location.\n",
    "\n",
    "Start by importing our necessary modules and opening the downloaded files. We'll only need the json module for this one. We're also starting with the 1850 headline and photo files for now."
   ]
  },
  {
   "cell_type": "code",
   "execution_count": 1,
   "metadata": {},
   "outputs": [],
   "source": [
    "import json"
   ]
  },
  {
   "cell_type": "code",
   "execution_count": 16,
   "metadata": {},
   "outputs": [],
   "source": [
    "with open('1850_headlines.json') as f:\n",
    "    headlines = json.load(f)\n",
    "    \n",
    "with open('1850_photos.json') as f:\n",
    "    photos = json.load(f)"
   ]
  },
  {
   "cell_type": "markdown",
   "metadata": {},
   "source": [
    "Next, define a function to figure out the places of publication. This will help us see how many locations there are and how we may need to clean this data."
   ]
  },
  {
   "cell_type": "code",
   "execution_count": 7,
   "metadata": {},
   "outputs": [],
   "source": [
    "def get_places(json):\n",
    "    temp = dict()\n",
    "    for element in json:\n",
    "        if element['place_of_publication'] not in temp:\n",
    "            temp[element['place_of_publication']] = 0\n",
    "        temp[element['place_of_publication']]+=1\n",
    "    return temp"
   ]
  },
  {
   "cell_type": "code",
   "execution_count": 8,
   "metadata": {},
   "outputs": [],
   "source": [
    "headline_locations = get_places(headlines)"
   ]
  },
  {
   "cell_type": "code",
   "execution_count": 9,
   "metadata": {},
   "outputs": [
    {
     "data": {
      "text/plain": [
       "{'Fayetteville, Tenn.': 3,\n",
       " 'Pickens Court House, S.C.': 113,\n",
       " 'Fayetteville [N.C.]': 42,\n",
       " 'Glasgow, Mo.': 72,\n",
       " 'Fremont [Ohio]': 3,\n",
       " 'Fremont, Sandusky County, Ohio': 3,\n",
       " 'Jackson, Miss.': 12,\n",
       " 'Holly Springs, Misp. [i.e. Miss.]': 2,\n",
       " 'Cadiz, Ohio': 44,\n",
       " 'Bath, Me.': 15,\n",
       " '[Reading, Pa.': 61,\n",
       " 'Abbeville, S.C.': 2,\n",
       " 'Montpelier, Vt.': 58,\n",
       " 'Canton, Stark County, Ohio': 81,\n",
       " 'Charlotte, N.C.': 32,\n",
       " 'Sunbury, Pa.': 29,\n",
       " 'Alexandria, D.C.': 1232,\n",
       " 'Davenport, Scott Co., Iowa': 31,\n",
       " 'New-Lisbon, Ohio': 73,\n",
       " 'Indianapolis': 172,\n",
       " 'Staunton, Va.': 266,\n",
       " 'Woodville, Miss.': 32,\n",
       " 'Washington [D.C.]': 2537,\n",
       " 'Washington City [i.e. Washington, D.C.]': 6,\n",
       " 'Allentaun, Pa.': 163,\n",
       " 'Athens, Tenn.': 13,\n",
       " 'St. Johnsbury, Vt.': 97,\n",
       " 'Raleigh, N.C.': 41,\n",
       " 'Camden, S.C.': 128,\n",
       " 'Hillsborough, N.C.': 66,\n",
       " 'Paris, Me.': 122,\n",
       " 'Tarborough, (Edgecombe Co., N.C.)': 18,\n",
       " 'Lewisburg, Pa.': 31,\n",
       " '[Ottumwa] Iowa': 168,\n",
       " 'Lancaster, Ohio': 11,\n",
       " 'Portsmouth, O. [Ohio]': 7,\n",
       " 'Hillsdale, Mich.': 227,\n",
       " 'Ottawa, Ill.': 33,\n",
       " 'Honolulu [Oahu], Hawaii': 59,\n",
       " 'City of Hannibal, Mo.': 6,\n",
       " 'St. Paul, Minn. Territory': 135,\n",
       " 'Burlington, Vt.': 70,\n",
       " 'Rutland, Vt.': 39,\n",
       " 'Yazoo City, Miss.': 55,\n",
       " 'Columbus, Miss.': 18,\n",
       " 'Ebensburg, Pa.': 96,\n",
       " 'Marshall, Tex.': 24,\n",
       " 'Lewistown, Pa.': 200,\n",
       " 'Richmond, Va.': 419,\n",
       " 'Franklin, Attakapas Co., Lou.': 34,\n",
       " 'Plaquemine, Parish of Iberville [La.]': 8,\n",
       " 'Mineral Point, Wis.': 150,\n",
       " 'Ravenna, Ohio': 7,\n",
       " 'New-York [N.Y.]': 783,\n",
       " 'Port Gibson, Claiborne Co., Miss.': 210,\n",
       " 'Stroudsburg, Pa.': 274,\n",
       " 'Dubuque, Iowa': 68,\n",
       " 'Burlington, Iowa': 23,\n",
       " 'Baton-Rouge, La.': 241,\n",
       " 'Napoleonville [La.]': 6,\n",
       " 'Woodstock, Vt.': 5,\n",
       " 'Canton, Miss.': 16,\n",
       " '[San Juan, P.R.': 319,\n",
       " 'Port Tobacco, Md.': 153,\n",
       " 'Richmond, IA [i.e. Ind.]': 98,\n",
       " 'New York [N.Y.]': 740,\n",
       " 'Shepherdstown, Va. [W. Va.]': 320,\n",
       " 'Elkton, Md.': 25,\n",
       " 'Bloomsburg, Pa.': 35,\n",
       " 'Gallipolis, Ohio': 27,\n",
       " 'Evansville, Ia. [i.e. Ind.]': 377,\n",
       " 'Oxford, Miss.': 42,\n",
       " 'Sumterville, S.C.': 33,\n",
       " 'Edgefield, S.C.': 5,\n",
       " '[New Orleans, La.]': 1,\n",
       " 'Wilmington, N.C.': 30,\n",
       " 'Middlebury, Vt.': 18,\n",
       " 'Bowling Green, Pike County, Mo.': 28}"
      ]
     },
     "execution_count": 9,
     "metadata": {},
     "output_type": "execute_result"
    }
   ],
   "source": [
    "headline_locations"
   ]
  },
  {
   "cell_type": "code",
   "execution_count": 10,
   "metadata": {},
   "outputs": [],
   "source": [
    "photo_locations = get_places(photos)"
   ]
  },
  {
   "cell_type": "code",
   "execution_count": 11,
   "metadata": {},
   "outputs": [
    {
     "data": {
      "text/plain": [
       "{'Fremont, Sandusky County, Ohio': 10,\n",
       " 'St. Johnsbury, Vt.': 7,\n",
       " 'Hillsborough, N.C.': 1,\n",
       " 'Canton, Miss.': 3,\n",
       " 'Richmond, IA [i.e. Ind.]': 1}"
      ]
     },
     "execution_count": 11,
     "metadata": {},
     "output_type": "execute_result"
    }
   ],
   "source": [
    "photo_locations"
   ]
  },
  {
   "cell_type": "markdown",
   "metadata": {},
   "source": [
    "We can see that the places of publication are not standardized, making it much more difficult to correlate them to the Sanborn and geographic data in the project. Let's take a look at the geographic_coverage instead. This data should be more standardized but may create other complications with multiple locations"
   ]
  },
  {
   "cell_type": "code",
   "execution_count": 26,
   "metadata": {},
   "outputs": [],
   "source": [
    "def get_geogs(json):\n",
    "    temp = dict()\n",
    "    for element in json:\n",
    "        geogs = element['geographic_coverage']\n",
    "        for g in geogs:\n",
    "            if g not in temp:\n",
    "                temp[g] = 0\n",
    "            temp[g]+=1\n",
    "    return temp"
   ]
  },
  {
   "cell_type": "code",
   "execution_count": 27,
   "metadata": {},
   "outputs": [],
   "source": [
    "headline_geogs = get_geogs(headlines)"
   ]
  },
  {
   "cell_type": "code",
   "execution_count": 28,
   "metadata": {},
   "outputs": [
    {
     "data": {
      "text/plain": [
       "{'Tennessee--Lincoln--Fayetteville': 3,\n",
       " 'South Carolina--Oconee--Walhalla': 113,\n",
       " 'South Carolina--Pickens--Pickens': 113,\n",
       " 'North Carolina--Cumberland--Fayetteville': 42,\n",
       " 'Missouri--Howard--Glasgow': 72,\n",
       " 'Ohio--Sandusky--Fremont': 6,\n",
       " 'Mississippi--Hinds--Jackson': 12,\n",
       " 'Mississippi--Marshall--Holly Springs': 2,\n",
       " 'Ohio--Harrison--Cadiz': 44,\n",
       " 'Maine--Sagadahoc--Bath': 15,\n",
       " 'Pennsylvania--Berks--Reading': 61,\n",
       " 'South Carolina--Abbeville--Abbeville': 2,\n",
       " 'Vermont--Washington--Montpelier': 58,\n",
       " 'Ohio--Stark--Canton': 81,\n",
       " 'North Carolina--Mecklenburg--Charlotte': 32,\n",
       " 'Pennsylvania--Northumberland--Sunbury': 29,\n",
       " 'District of Columbia--Alexandria': 1232,\n",
       " 'Virginia--Alexandria': 1232,\n",
       " 'Virginia--Alexandria--Alexandria': 1232,\n",
       " 'Iowa--Scott--Davenport': 31,\n",
       " 'Ohio--Columbiana--New Lisbon': 73,\n",
       " 'Ohio--Columbiana--Salem': 73,\n",
       " 'Indiana--Marion--Indianapolis': 172,\n",
       " 'Virginia--Staunton': 266,\n",
       " 'Mississippi--Wilkinson--Woodville': 32,\n",
       " 'District of Columbia--Washington': 2543,\n",
       " 'Pennsylvania--Lehigh--Allentown': 163,\n",
       " 'Tennessee--McMinn--Athens': 13,\n",
       " 'Vermont--Caledonia--Saint Johnsbury': 97,\n",
       " 'North Carolina--Wake--Raleigh': 41,\n",
       " 'South Carolina--Kershaw--Camden': 128,\n",
       " 'North Carolina--Orange--Hillsboro': 66,\n",
       " 'Maine--Oxford--Paris': 122,\n",
       " 'Maine--Oxford--South Paris': 122,\n",
       " 'North Carolina--Edgecombe--Tarboro': 18,\n",
       " 'Pennsylvania--Union--Lewisburg': 31,\n",
       " 'Iowa--Wapello--Ottumwa': 168,\n",
       " 'Ohio--Fairfield--Lancaster': 11,\n",
       " 'Ohio--Scioto--Portsmouth': 7,\n",
       " 'Michigan--Hillsdale--Hillsdale': 227,\n",
       " 'Illinois--La Salle County--Ottawa': 33,\n",
       " 'Hawaii--Honolulu--Honolulu': 59,\n",
       " 'Missouri--Marion--Hannibal': 6,\n",
       " 'Minnesota--Ramsey--Saint Paul': 135,\n",
       " 'Vermont--Chittenden--Burlington': 70,\n",
       " 'Vermont--Rutland--Rutland': 39,\n",
       " 'Mississippi--Yazoo--Yazoo City': 55,\n",
       " 'Mississippi--Lowndes--Columbus': 18,\n",
       " 'Pennsylvania--Cambria--Ebensburg': 96,\n",
       " 'Texas--Harrison--Marshall': 24,\n",
       " 'Pennsylvania--Mifflin--Lewistown': 200,\n",
       " 'Virginia--Richmond--Richmond': 419,\n",
       " 'Louisiana--Iberia--New Iberia': 34,\n",
       " 'Louisiana--Saint Mary--Franklin': 34,\n",
       " 'Louisiana--Iberville--Plaquemine': 8,\n",
       " 'Wisconsin--Iowa--Mineral Point': 150,\n",
       " 'Ohio--Portage--Ravenna': 7,\n",
       " 'New York--New York--New York': 1523,\n",
       " 'Mississippi--Claiborne--Port Gibson': 210,\n",
       " 'Pennsylvania--Monroe--East Stroudsburg': 274,\n",
       " 'Pennsylvania--Monroe--Stroudsburg': 274,\n",
       " 'Pennsylvania--Pike--Milford': 274,\n",
       " 'Iowa--Dubuque--Dubuque': 68,\n",
       " 'Iowa--Des Moines--Burlington': 23,\n",
       " 'Louisiana--East Baton Rouge--Baton Rouge': 241,\n",
       " 'Louisiana--Assumption--Napoleonville': 6,\n",
       " 'Vermont--Windsor--Woodstock': 5,\n",
       " 'Mississippi--Madison--Canton': 16,\n",
       " 'Puerto Rico--San Juan': 319,\n",
       " 'Maryland--Charles--Port Tobacco': 153,\n",
       " 'Indiana--Wayne--Richmond': 98,\n",
       " 'West Virginia--Jefferson--Shepherdstown': 320,\n",
       " 'Maryland--Cecil--Elkton': 25,\n",
       " 'Pennsylvania--Columbia--Bloomsburg': 35,\n",
       " 'Ohio--Gallia--Gallipolis': 27,\n",
       " 'Indiana--Vanderburgh--Evansville': 377,\n",
       " 'Mississippi--Lafayette--Oxford': 42,\n",
       " 'South Carolina--Sumter--Sumter': 33,\n",
       " 'South Carolina--Edgefield--Edgefield': 5,\n",
       " 'Louisiana--Orleans--New Orleans': 1,\n",
       " 'North Carolina--New Hanover--Wilmington': 30,\n",
       " 'Vermont--Addison--Middlebury': 18,\n",
       " 'Missouri--Pike--Bowling Green': 28,\n",
       " 'Missouri--Pike--Louisiana': 28}"
      ]
     },
     "execution_count": 28,
     "metadata": {},
     "output_type": "execute_result"
    }
   ],
   "source": [
    "headline_geogs"
   ]
  },
  {
   "cell_type": "code",
   "execution_count": 29,
   "metadata": {},
   "outputs": [],
   "source": [
    "photo_geogs = get_geogs(photos)"
   ]
  },
  {
   "cell_type": "code",
   "execution_count": 30,
   "metadata": {},
   "outputs": [
    {
     "data": {
      "text/plain": [
       "{'Ohio--Sandusky--Fremont': 10,\n",
       " 'Vermont--Caledonia--Saint Johnsbury': 7,\n",
       " 'North Carolina--Orange--Hillsboro': 1,\n",
       " 'Mississippi--Madison--Canton': 3,\n",
       " 'Indiana--Wayne--Richmond': 1}"
      ]
     },
     "execution_count": 30,
     "metadata": {},
     "output_type": "execute_result"
    }
   ],
   "source": [
    "photo_geogs"
   ]
  },
  {
   "cell_type": "markdown",
   "metadata": {},
   "source": [
    "## Applying to the Project\n",
    "\n",
    "In order to limit the amount of newspaper data to include, I'm going to focus on the counties that have Sanborn maps in them.\n",
    "\n",
    "Start by importing the requests module so we can programmatically get data instead of downloading and opening each file."
   ]
  },
  {
   "cell_type": "code",
   "execution_count": 42,
   "metadata": {},
   "outputs": [],
   "source": [
    "import requests"
   ]
  },
  {
   "cell_type": "code",
   "execution_count": null,
   "metadata": {},
   "outputs": [
    {
     "name": "stdout",
     "output_type": "stream",
     "text": [
      "1850_headlines.json\n",
      "1851_headlines.json\n",
      "1852_headlines.json\n",
      "1853_headlines.json\n",
      "1854_headlines.json\n",
      "1855_headlines.json\n",
      "1856_headlines.json\n",
      "1857_headlines.json\n",
      "1858_headlines.json\n",
      "1859_headlines.json\n",
      "1860_headlines.json\n",
      "1861_headlines.json\n",
      "1862_headlines.json\n",
      "1863_headlines.json\n",
      "1864_headlines.json\n",
      "1865_headlines.json\n",
      "1866_headlines.json\n",
      "1867_headlines.json\n",
      "1868_headlines.json\n",
      "1869_headlines.json\n",
      "1870_headlines.json\n",
      "1871_headlines.json\n",
      "1872_headlines.json\n",
      "1873_headlines.json\n",
      "1874_headlines.json\n",
      "1875_headlines.json\n",
      "1876_headlines.json\n",
      "1877_headlines.json\n",
      "1878_headlines.json\n",
      "1879_headlines.json\n",
      "1880_headlines.json\n",
      "1881_headlines.json\n",
      "1882_headlines.json\n",
      "1883_headlines.json\n",
      "1884_headlines.json\n",
      "1885_headlines.json\n",
      "1886_headlines.json\n",
      "1887_headlines.json\n",
      "1888_headlines.json\n",
      "1889_headlines.json\n",
      "1890_headlines.json\n",
      "1891_headlines.json\n",
      "1892_headlines.json\n",
      "1893_headlines.json\n",
      "1894_headlines.json\n",
      "1895_headlines.json\n",
      "1896_headlines.json\n",
      "1897_headlines.json\n",
      "1898_headlines.json\n",
      "1899_headlines.json\n",
      "1900_headlines.json\n",
      "1901_headlines.json\n",
      "1902_headlines.json\n",
      "1903_headlines.json\n",
      "1904_headlines.json\n",
      "1905_headlines.json\n",
      "1906_headlines.json\n",
      "1907_headlines.json\n",
      "1908_headlines.json\n",
      "1909_headlines.json\n",
      "1910_headlines.json\n",
      "1911_headlines.json\n",
      "1912_headlines.json\n",
      "1913_headlines.json\n",
      "1914_headlines.json\n",
      "1915_headlines.json\n"
     ]
    }
   ],
   "source": [
    "all_headlines = []\n",
    "\n",
    "for n in range(1850, 1964): # goes from 1850-1963\n",
    "    all_headlines.append(requests.get('https://news-navigator.labs.loc.gov/prepackaged/' + str(n) + '_headlines.json'))\n",
    "    print(str(n) + '_headlines.json')"
   ]
  },
  {
   "cell_type": "code",
   "execution_count": null,
   "metadata": {},
   "outputs": [],
   "source": []
  }
 ],
 "metadata": {
  "kernelspec": {
   "display_name": "Python 3",
   "language": "python",
   "name": "python3"
  },
  "language_info": {
   "codemirror_mode": {
    "name": "ipython",
    "version": 3
   },
   "file_extension": ".py",
   "mimetype": "text/x-python",
   "name": "python",
   "nbconvert_exporter": "python",
   "pygments_lexer": "ipython3",
   "version": "3.7.4"
  }
 },
 "nbformat": 4,
 "nbformat_minor": 2
}
