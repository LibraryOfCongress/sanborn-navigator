{
 "cells": [
  {
   "cell_type": "code",
   "execution_count": 1,
   "metadata": {},
   "outputs": [],
   "source": [
    "import requests\n",
    "import urllib.request\n",
    "import time\n",
    "from bs4 import BeautifulSoup"
   ]
  },
  {
   "cell_type": "code",
   "execution_count": 2,
   "metadata": {},
   "outputs": [],
   "source": [
    "url = 'https://wwwn.cdc.gov/eworld/Appendix/CountyEquivalents'\n",
    "response = requests.get(url)"
   ]
  },
  {
   "cell_type": "code",
   "execution_count": 13,
   "metadata": {},
   "outputs": [],
   "source": [
    "soup = BeautifulSoup(response.text, 'html.parser')"
   ]
  },
  {
   "cell_type": "code",
   "execution_count": 22,
   "metadata": {},
   "outputs": [
    {
     "data": {
      "text/plain": [
       "'Aleutians East Borough'"
      ]
     },
     "execution_count": 22,
     "metadata": {},
     "output_type": "execute_result"
    }
   ],
   "source": [
    "soup.findAll('td')[1].get_text().strip()"
   ]
  },
  {
   "cell_type": "code",
   "execution_count": 29,
   "metadata": {},
   "outputs": [],
   "source": [
    "state_names = ['Alaska', 'Arizona', 'Colorado', 'Florida', 'Hawaii',\n",
    "               'New Mexico', 'New York', 'South Dakota', 'Virginia']\n",
    "count = 1\n",
    "current_name = []\n",
    "previous_name = []\n",
    "for line in soup.findAll('td'):\n",
    "    line = line.get_text().strip()\n",
    "    if line in state_names:\n",
    "        continue\n",
    "    if count%3 == 1:\n",
    "        current_name.append(line)\n",
    "    elif count%3 == 2:\n",
    "        previous_name.append(line)\n",
    "    count+=1"
   ]
  },
  {
   "cell_type": "code",
   "execution_count": 30,
   "metadata": {},
   "outputs": [
    {
     "data": {
      "text/plain": [
       "['Aleutians East Borough',\n",
       " 'Aleutians West Census Area',\n",
       " 'Anchorage Borough',\n",
       " 'Bethel Census Area',\n",
       " 'Bristol Bay Borough2',\n",
       " 'Dillingham Census Area3',\n",
       " 'Lake and Peninsula Borough',\n",
       " 'Fairbanks North Star Borough',\n",
       " 'Southeast Fairbanks Census Area',\n",
       " 'Juneau Borough',\n",
       " 'Kenai Peninsula Borough',\n",
       " 'Ketchikan Gateway Borough',\n",
       " 'Kodiak Island Borough',\n",
       " 'Matanuska-Susitna Borough',\n",
       " 'Nome Census Area',\n",
       " 'North Slope Borough',\n",
       " 'Northwest Arctic Borough',\n",
       " 'Prince of Wales-Outer Ketchikan Census Area',\n",
       " 'Sitka Borough',\n",
       " 'Skagway-Hoonah-Angoon Census Area5',\n",
       " 'Yakutat Census Area',\n",
       " 'Valdez-Cordova Census Area',\n",
       " 'Wade Hampton Census Area',\n",
       " 'Wrangell-Petersburg Census Area',\n",
       " 'Yukon-Koyukuk Census Area7',\n",
       " 'Denali Borough',\n",
       " 'Yuma County8',\n",
       " 'La Paz County',\n",
       " 'Adams, Boulder, Jefferson, and Weld Counties9',\n",
       " 'Broomfield County',\n",
       " 'Miami-Dade County',\n",
       " 'Maui County10',\n",
       " 'Kalawao County',\n",
       " 'Valencia County11',\n",
       " 'Cibola County',\n",
       " 'Bronx County',\n",
       " 'Kings County',\n",
       " 'New York County',\n",
       " 'Queens County',\n",
       " 'Richmond County',\n",
       " 'Jackson County',\n",
       " 'Alleghany County12',\n",
       " 'Augusta County13',\n",
       " 'Waynesboro City',\n",
       " 'Chesapeake City14',\n",
       " 'Portsmouth City',\n",
       " 'Virginia Beach City',\n",
       " 'Frederick County15',\n",
       " 'Winchester City',\n",
       " 'Halifax County16',\n",
       " 'James City County17',\n",
       " 'Williamsburg City',\n",
       " 'Prince William County18',\n",
       " 'Manassas City',\n",
       " 'Manassas Park City',\n",
       " 'Suffolk City',\n",
       " 'Suffolk City',\n",
       " 'Suffolk City',\n",
       " 'York County19',\n",
       " 'Poquoson City']"
      ]
     },
     "execution_count": 30,
     "metadata": {},
     "output_type": "execute_result"
    }
   ],
   "source": [
    "current_name"
   ]
  },
  {
   "cell_type": "code",
   "execution_count": null,
   "metadata": {},
   "outputs": [],
   "source": [
    "def remove_nums(strings):\n",
    "    for n in current_name:\n",
    "        if '1' in n:\n",
    "            n.replace('1', '')\n",
    "        if '2' in n:\n",
    "            n.replace('2', '')\n",
    "        if '3' in n:\n",
    "            n.replace('3', '')\n",
    "        if '4' in n:\n",
    "            n.replace('4', '')\n",
    "        if '5' in n:\n",
    "            n.replace('5', '')\n",
    "        if '6' in n:\n",
    "            n.replace('6', '')\n",
    "        if '7' in n:\n",
    "            n.replace('7', '')\n",
    "        if '8' in n:\n",
    "            n.replace('8', '')\n",
    "        if '9' in n:\n",
    "            n.replace('9', '')\n",
    "        if '0' in n:\n",
    "            n.replace('0', '')"
   ]
  }
 ],
 "metadata": {
  "kernelspec": {
   "display_name": "Python 3",
   "language": "python",
   "name": "python3"
  },
  "language_info": {
   "codemirror_mode": {
    "name": "ipython",
    "version": 3
   },
   "file_extension": ".py",
   "mimetype": "text/x-python",
   "name": "python",
   "nbconvert_exporter": "python",
   "pygments_lexer": "ipython3",
   "version": "3.7.4"
  }
 },
 "nbformat": 4,
 "nbformat_minor": 2
}
