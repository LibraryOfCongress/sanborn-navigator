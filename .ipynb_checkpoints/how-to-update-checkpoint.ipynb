{
 "cells": [
  {
   "cell_type": "markdown",
   "metadata": {},
   "source": [
    "# How to Update\n",
    "\n",
    "The website's [JavaScript file](script.js) generates visual content based on three data files: [sanborn-with-fips.json](data/sanborn-with-fips.json), [us-indexed.json](data/us-indexed.json), and [us-cities.json](data/us-cities.json).\n",
    "\n",
    "Go ahead and import the json module and open the files that you'll be updating:"
   ]
  },
  {
   "cell_type": "code",
   "execution_count": 1,
   "metadata": {},
   "outputs": [],
   "source": [
    "import json"
   ]
  },
  {
   "cell_type": "code",
   "execution_count": 2,
   "metadata": {},
   "outputs": [],
   "source": [
    "with open('data/sanborn-with-fips.json') as f:\n",
    "    sanborn = json.load(f)"
   ]
  },
  {
   "cell_type": "code",
   "execution_count": 5,
   "metadata": {},
   "outputs": [],
   "source": [
    "with open('data/us-indexed.json') as f:\n",
    "    us = json.load(f)"
   ]
  },
  {
   "cell_type": "code",
   "execution_count": 6,
   "metadata": {},
   "outputs": [],
   "source": [
    "with open('data/us-cities.json') as f:\n",
    "    cities = json.load(f)"
   ]
  },
  {
   "cell_type": "markdown",
   "metadata": {},
   "source": [
    "## Sanborn Data Structure\n",
    "\n",
    "For the sanborn-with-fips file, it's important to understand its structure (if you're familiar with it, skip down to the Add New Sanborns section). The file contains a list of dictionaries, where each dictionary contains the data from one state (including DC). The states are organized in alphabetical order. You can tell which state the item represents by accessing the \"state\" element in that dictionary. We can see this below:"
   ]
  },
  {
   "cell_type": "code",
   "execution_count": 8,
   "metadata": {},
   "outputs": [
    {
     "name": "stdout",
     "output_type": "stream",
     "text": [
      "Alabama\n",
      "Alaska\n",
      "Arizona\n",
      "Arkansas\n",
      "California\n",
      "Colorado\n",
      "Connecticut\n",
      "Delaware\n",
      "District of Columbia\n",
      "Florida\n",
      "Georgia\n",
      "Hawaii\n",
      "Idaho\n",
      "Illinois\n",
      "Indiana\n",
      "Iowa\n",
      "Kansas\n",
      "Kentucky\n",
      "Louisiana\n",
      "Maine\n",
      "Maryland\n",
      "Massachusetts\n",
      "Michigan\n",
      "Minnesota\n",
      "Mississippi\n",
      "Missouri\n",
      "Montana\n",
      "Nebraska\n",
      "Nevada\n",
      "New Hampshire\n",
      "New Jersey\n",
      "New Mexico\n",
      "New York\n",
      "North Carolina\n",
      "North Dakota\n",
      "Ohio\n",
      "Oklahoma\n",
      "Oregon\n",
      "Pennsylvania\n",
      "Rhode Island\n",
      "South Carolina\n",
      "South Dakota\n",
      "Tennessee\n",
      "Texas\n",
      "Utah\n",
      "Vermont\n",
      "Virginia\n",
      "Washington\n",
      "West Virginia\n",
      "Wisconsin\n",
      "Wyoming\n"
     ]
    }
   ],
   "source": [
    "for item in sanborn:\n",
    "    print(item['state'])"
   ]
  },
  {
   "cell_type": "markdown",
   "metadata": {},
   "source": [
    "Now, if we look at one specific item, say the dictionary that contains the data for Alabama, we can see that it has the 'state' and 'counties' keys:"
   ]
  },
  {
   "cell_type": "code",
   "execution_count": 10,
   "metadata": {},
   "outputs": [
    {
     "data": {
      "text/plain": [
       "dict_keys(['state', 'counties'])"
      ]
     },
     "execution_count": 10,
     "metadata": {},
     "output_type": "execute_result"
    }
   ],
   "source": [
    "sanborn[0].keys()"
   ]
  },
  {
   "cell_type": "markdown",
   "metadata": {},
   "source": [
    "The object of the 'counties' key is another dictionary, containing a list of counties, where the name can be accessed using the key 'county':"
   ]
  },
  {
   "cell_type": "code",
   "execution_count": 12,
   "metadata": {},
   "outputs": [
    {
     "data": {
      "text/plain": [
       "58"
      ]
     },
     "execution_count": 12,
     "metadata": {},
     "output_type": "execute_result"
    }
   ],
   "source": [
    "len(sanborn[0]['counties'])"
   ]
  },
  {
   "cell_type": "code",
   "execution_count": 13,
   "metadata": {},
   "outputs": [
    {
     "name": "stdout",
     "output_type": "stream",
     "text": [
      "Henry County\n",
      "Etowah County\n",
      "Tallapoosa County\n",
      "Pickens County\n",
      "Calhoun County\n",
      "Limestone County\n",
      "Lee County\n",
      "Jefferson County\n",
      "Escambia County\n",
      "Jackson County\n",
      "Pike County\n",
      "Shelby County\n",
      "Wilcox County\n",
      "Mobile County\n",
      "Chilton County\n",
      "Barbour County\n",
      "Houston County\n",
      "Cullman County\n",
      "Morgan County\n",
      "Marengo County\n",
      "Coffee County\n",
      "Greene County\n",
      "Conecuh County\n",
      "Covington County\n",
      "Lauderdale County\n",
      "Baldwin County\n",
      "Dekalb County\n",
      "Sumter County\n",
      "Geneva County\n",
      "Butler County\n",
      "Coosa County\n",
      "Hale County\n",
      "Madison County\n",
      "Winston County\n",
      "Cleburne County\n",
      "Russell County\n",
      "Clarke County\n",
      "Walker County\n",
      "Chambers County\n",
      "Crenshaw County\n",
      "Perry County\n",
      "Montgomery County\n",
      "Dale County\n",
      "Lee And Russell Counties\n",
      "Autauga County\n",
      "Franklin County\n",
      "Randolph County\n",
      "Dallas County\n",
      "Colbert County\n",
      "Saint Clair County\n",
      "Talladega County\n",
      "Elmore And Tallapoosa Counties\n",
      "Tuscaloosa County\n",
      "Macon County\n",
      "Bullock County\n",
      "Bibb County\n",
      "Elmore County\n",
      "Marion County\n"
     ]
    }
   ],
   "source": [
    "for county in sanborn[0]['counties']:\n",
    "    print(county['county'])"
   ]
  },
  {
   "cell_type": "markdown",
   "metadata": {},
   "source": [
    "Each county then has a list of cities, which in turn has a list of items. The counties also have their associated FIPS code."
   ]
  },
  {
   "cell_type": "code",
   "execution_count": 14,
   "metadata": {},
   "outputs": [
    {
     "data": {
      "text/plain": [
       "dict_keys(['county', 'cities', 'fips'])"
      ]
     },
     "execution_count": 14,
     "metadata": {},
     "output_type": "execute_result"
    }
   ],
   "source": [
    "alabama = sanborn[0]\n",
    "henry_county = alabama['counties'][0]\n",
    "henry_county.keys()"
   ]
  },
  {
   "cell_type": "code",
   "execution_count": 17,
   "metadata": {},
   "outputs": [
    {
     "name": "stdout",
     "output_type": "stream",
     "text": [
      "Abbeville\n",
      "Headland\n"
     ]
    }
   ],
   "source": [
    "for city in henry_county['cities']:\n",
    "    print(city['city'])"
   ]
  },
  {
   "cell_type": "code",
   "execution_count": 19,
   "metadata": {},
   "outputs": [
    {
     "data": {
      "text/plain": [
       "dict_keys(['city', 'items'])"
      ]
     },
     "execution_count": 19,
     "metadata": {},
     "output_type": "execute_result"
    }
   ],
   "source": [
    "abbeville = henry_county['cities'][0]\n",
    "abbeville.keys()"
   ]
  },
  {
   "cell_type": "markdown",
   "metadata": {},
   "source": [
    "Each item has the item name, the date of publication, a list of thumbnail URLs for the images, a list of IIIF URLs (not currently used but could be used for creating a gallery on this site), and the item URL in the catalog."
   ]
  },
  {
   "cell_type": "code",
   "execution_count": 20,
   "metadata": {},
   "outputs": [
    {
     "data": {
      "text/plain": [
       "{'name': 'Sanborn Fire Insurance Map from Abbeville, Henry County, Alabama.',\n",
       " 'date': '1907-06',\n",
       " 'thumbnail_urls': ['https://tile.loc.gov/storage-services/service/gmd/gmd397m/g3974m/g3974am/g3974am_g000011907/00001_1907-0001.gif',\n",
       "  'https://tile.loc.gov/storage-services/service/gmd/gmd397m/g3974m/g3974am/g3974am_g000011907/00001_1907-0001.gif#h=150&w=126'],\n",
       " 'iiif_urls': ['https://tile.loc.gov/image-services/iiif/service:gmd:gmd397m:g3974m:g3974am:g3974am_g000011907:00001_1907-0001/full/pct:12.5/0/default.jpg',\n",
       "  'https://tile.loc.gov/image-services/iiif/service:gmd:gmd397m:g3974m:g3974am:g3974am_g000011907:00001_1907-0001/full/pct:12.5/0/default.jpg'],\n",
       " 'item_url': 'https://www.loc.gov/item/sanborn00001_001/'}"
      ]
     },
     "execution_count": 20,
     "metadata": {},
     "output_type": "execute_result"
    }
   ],
   "source": [
    "abbeville['items'][0]"
   ]
  },
  {
   "cell_type": "markdown",
   "metadata": {},
   "source": [
    "Overall, the file structure looks like this:\n",
    "![sanborn file structure](data/sanborn-format.png)"
   ]
  },
  {
   "cell_type": "markdown",
   "metadata": {},
   "source": [
    "## Add New Sanborns\n",
    "\n",
    "The easiest way to add in new Sanborns would be to have a list already created of items that are not present in the file already, largely because it would reduce processing time. However, replacing the entire file is also possible and should be a similar process.\n",
    "\n",
    "You'll need the information for each item as specified above (name, date, URLs). Then, modify and run the scripts below. The modifications will depend on how the new data is currently stored. The scripts currently assume that the dataset is a list of items, where the items are structured as specified above.\n",
    "\n",
    "Note that this code has not been fully tested. The overall important points to remember are to maintain the same data structure as the existing file."
   ]
  },
  {
   "cell_type": "code",
   "execution_count": 22,
   "metadata": {},
   "outputs": [],
   "source": [
    "# creates a dictionary mapping from state name to index in sanborn\n",
    "state_to_index = dict()\n",
    "for i in range(len(sanborn)):\n",
    "    state_to_index[sanborn[i]['state']] = i"
   ]
  },
  {
   "cell_type": "code",
   "execution_count": 32,
   "metadata": {},
   "outputs": [],
   "source": [
    "# load your data file, using one element as an example\n",
    "dataset = [{'name': 'Sanborn Fire Insurance Map from Abbeville, Henry County, Alabama.',\n",
    " 'date': '1907-06',\n",
    " 'thumbnail_urls': ['https://tile.loc.gov/storage-services/service/gmd/gmd397m/g3974m/g3974am/g3974am_g000011907/00001_1907-0001.gif',\n",
    "  'https://tile.loc.gov/storage-services/service/gmd/gmd397m/g3974m/g3974am/g3974am_g000011907/00001_1907-0001.gif#h=150&w=126'],\n",
    " 'iiif_urls': ['https://tile.loc.gov/image-services/iiif/service:gmd:gmd397m:g3974m:g3974am:g3974am_g000011907:00001_1907-0001/full/pct:12.5/0/default.jpg',\n",
    "  'https://tile.loc.gov/image-services/iiif/service:gmd:gmd397m:g3974m:g3974am:g3974am_g000011907:00001_1907-0001/full/pct:12.5/0/default.jpg'],\n",
    " 'item_url': 'https://www.loc.gov/item/sanborn00001_001/'}]\n",
    "\n",
    "for item in dataset: # where dataset is your data file\n",
    "    locations = item['name'][32:].split(', ') # where item['name'] accesses the item name\n",
    "    city = locations[0]\n",
    "    county = locations[1]\n",
    "    state = locations[2][:-1] # to remove the period at the end\n",
    "    \n",
    "    # go to the state and check if the county exists\n",
    "    current_state = sanborn[state_to_index[state]]\n",
    "    for current_county in current_state['counties']:\n",
    "        if county == current_county['county']: # found the same county, check if city exists\n",
    "            for current_city in current_county['cities']:\n",
    "                if city == current_city['city']: # found the same city, check if item is a duplicate\n",
    "                    for current_item in current_city['items']:\n",
    "                        if item['name'] == current_item['name']:\n",
    "                            break\n",
    "                    # not a duplicate item but the city already exists\n",
    "                    current_city['items'].append(item)\n",
    "            # didn't find the same city so need to add it\n",
    "            temp = dict()\n",
    "            temp['city'] = city\n",
    "            temp['items'] = []\n",
    "            temp['items'].append(item)\n",
    "            current_county['cities'].append(temp)\n",
    "    # didn't find the same county so need to add it\n",
    "    temp = dict()\n",
    "    temp['county'] = county\n",
    "    temp['cities'] = []\n",
    "    city_temp = dict()\n",
    "    city_temp['city'] = city\n",
    "    city_temp['items'] = []\n",
    "    city_temp['items'].append(item)\n",
    "    current_state['counties'].append(temp)"
   ]
  },
  {
   "cell_type": "markdown",
   "metadata": {},
   "source": [
    "You'll then need to run the [connect-fips-sanborn](https://github.com/selenaqian/sanborn-maps-navigator/blob/master/data/sanborn/fips-connection/connect-fips-sanborn.py) script to add in those county codes. If there's only a few counties added, then you can also add in the FIPS codes manually.\n",
    "\n",
    "Then, you'll need to write it back out to the original file."
   ]
  },
  {
   "cell_type": "code",
   "execution_count": null,
   "metadata": {},
   "outputs": [],
   "source": [
    "f = open('data/sanborn-with-fips.json', 'w')\n",
    "f.write(json.dumps(sanborn))\n",
    "f.close()"
   ]
  },
  {
   "cell_type": "markdown",
   "metadata": {},
   "source": [
    "## US Indexed: Updating Counties and States\n",
    "\n",
    "To update this file, run the [index-counties notebook](https://github.com/selenaqian/sanborn-maps-navigator/blob/master/data/sanborn/fips-connection/index-counties.ipynb) and the [records-counter notebook](https://github.com/selenaqian/sanborn-maps-navigator/blob/master/data/records-counter.ipynb).\n",
    "\n",
    "Update the color coding in the scaling of the JavaScript file if needed — intervals should make sure to include the max numbers found in the records counter notebook. The domains and the corresponding labels here:\n",
    "\n",
    "```\n",
    "/** Map chloropleth colors and legends */\n",
    "var stateColor = d3.scaleThreshold()\n",
    "    .domain([0, 500, 1000, 1500, 2000, 2500])\n",
    "    .range([\"#eee\", \"#D0E5ED\", \"#71B2CA\", \"#137FA6\", \"#0E5F7D\", \"#0A4053\"]);\n",
    "\n",
    "var stateLegend = d3.legendColor()\n",
    "    .scale(stateColor)\n",
    "    .orient(\"horizontal\")\n",
    "    .shapeWidth(110)\n",
    "    .labels([\"0\", \"1-500\", \"501-1000\", \"1001-1500\", \"1501-2000\", \">2000\"]);\n",
    "\n",
    "var countyColor = d3.scaleThreshold()\n",
    "    .domain([1, 50, 100, 150])\n",
    "    .range([\"white\", \"#D0E5ED\", \"#71B2CA\", \"#137FA6\", \"#0E5F7D\"]);\n",
    "\n",
    "var countyLegend = d3.legendColor()\n",
    "    .scale(countyColor)\n",
    "    .orient(\"horizontal\")\n",
    "    .shapeWidth(110)\n",
    "    .labels([\"0\", \"1-50\", \"51-100\", \"100-150\", \">150\"]);\n",
    "```"
   ]
  },
  {
   "cell_type": "markdown",
   "metadata": {},
   "source": [
    "## US Cities\n",
    "\n",
    "If there are new cities in the dataset, then you'll need to add in the latitude and longitudes so that they show up on the map. Run the [geocode-cities notebook](https://github.com/selenaqian/sanborn-maps-navigator/blob/master/data/sanborn/city-coordinates/geocode-cities.ipynb) with modifications to the numbers and file names. Or, if there aren't many cities, you can do this manually, keeping in mind the struture of the us-cities file.\n",
    "\n",
    "The file is formatted as a GeoJSON file. You can learn more about that format [here](https://geojson.org). The coordinates live within a FeatureCollection with a list of features. Each feature has a 'type' and 'geometry'. The 'type' should always be 'Feature', with 'geometry' then leading to another dictionary with 'type': 'Point', 'coordinates', 'id', and 'properties'."
   ]
  },
  {
   "cell_type": "code",
   "execution_count": 33,
   "metadata": {},
   "outputs": [
    {
     "data": {
      "text/plain": [
       "dict_keys(['type', 'features'])"
      ]
     },
     "execution_count": 33,
     "metadata": {},
     "output_type": "execute_result"
    }
   ],
   "source": [
    "cities.keys()"
   ]
  },
  {
   "cell_type": "code",
   "execution_count": 34,
   "metadata": {},
   "outputs": [
    {
     "data": {
      "text/plain": [
       "{'type': 'Feature',\n",
       " 'geometry': {'type': 'Point', 'coordinates': [-85.222965, 31.559402]},\n",
       " 'id': 'AbbevilleAlabama',\n",
       " 'properties': {'state': 0, 'county': 0, 'city': 0, 'cityName': 'Abbeville'}}"
      ]
     },
     "execution_count": 34,
     "metadata": {},
     "output_type": "execute_result"
    }
   ],
   "source": [
    "cities['features'][0]"
   ]
  },
  {
   "cell_type": "markdown",
   "metadata": {},
   "source": [
    "In properties, the state, county, and city are the indices of the object within the Sanborn dataset. This allows for connection to that object in the script. For Abbeville, it's in the first state (Alabama), first county within Alabama (Henry County), and is the first city within that county's city list.\n",
    "\n",
    "Please feel free to reach out to me if you have any questions or issues with this!"
   ]
  },
  {
   "cell_type": "markdown",
   "metadata": {},
   "source": []
  }
 ],
 "metadata": {
  "kernelspec": {
   "display_name": "Python 3",
   "language": "python",
   "name": "python3"
  },
  "language_info": {
   "codemirror_mode": {
    "name": "ipython",
    "version": 3
   },
   "file_extension": ".py",
   "mimetype": "text/x-python",
   "name": "python",
   "nbconvert_exporter": "python",
   "pygments_lexer": "ipython3",
   "version": "3.7.4"
  }
 },
 "nbformat": 4,
 "nbformat_minor": 2
}
